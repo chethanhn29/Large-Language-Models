{
  "metadata": {
    "kernelspec": {
      "display_name": "Python 3",
      "name": "python3"
    },
    "language_info": {
      "name": "python",
      "version": "3.10.13",
      "mimetype": "text/x-python",
      "codemirror_mode": {
        "name": "ipython",
        "version": 3
      },
      "pygments_lexer": "ipython3",
      "nbconvert_exporter": "python",
      "file_extension": ".py"
    },
    "kaggle": {
      "accelerator": "gpu",
      "dataSources": [],
      "dockerImageVersionId": 30664,
      "isInternetEnabled": true,
      "language": "python",
      "sourceType": "notebook",
      "isGpuEnabled": true
    },
    "colab": {
      "provenance": [],
      "gpuType": "T4"
    },
    "widgets": {
      "application/vnd.jupyter.widget-state+json": {
        "2d81740bdcb64cf787feda109391886e": {
          "model_module": "@jupyter-widgets/controls",
          "model_name": "HBoxModel",
          "model_module_version": "1.5.0",
          "state": {
            "_dom_classes": [],
            "_model_module": "@jupyter-widgets/controls",
            "_model_module_version": "1.5.0",
            "_model_name": "HBoxModel",
            "_view_count": null,
            "_view_module": "@jupyter-widgets/controls",
            "_view_module_version": "1.5.0",
            "_view_name": "HBoxView",
            "box_style": "",
            "children": [
              "IPY_MODEL_e0ebce6c4ed74f2ca4e70fca1f491f8a",
              "IPY_MODEL_0b71520eda574e668bc98a59d1981dc6",
              "IPY_MODEL_984f443282ed4e5884bd8412acb90fd0"
            ],
            "layout": "IPY_MODEL_1b425e969148477dbf6cfc8d7117fd47"
          }
        },
        "e0ebce6c4ed74f2ca4e70fca1f491f8a": {
          "model_module": "@jupyter-widgets/controls",
          "model_name": "HTMLModel",
          "model_module_version": "1.5.0",
          "state": {
            "_dom_classes": [],
            "_model_module": "@jupyter-widgets/controls",
            "_model_module_version": "1.5.0",
            "_model_name": "HTMLModel",
            "_view_count": null,
            "_view_module": "@jupyter-widgets/controls",
            "_view_module_version": "1.5.0",
            "_view_name": "HTMLView",
            "description": "",
            "description_tooltip": null,
            "layout": "IPY_MODEL_d415f811f903457d804eadaa2e8f1315",
            "placeholder": "​",
            "style": "IPY_MODEL_8c7b3917cb214e5d8c638c79733d0766",
            "value": "tokenizer_config.json: 100%"
          }
        },
        "0b71520eda574e668bc98a59d1981dc6": {
          "model_module": "@jupyter-widgets/controls",
          "model_name": "FloatProgressModel",
          "model_module_version": "1.5.0",
          "state": {
            "_dom_classes": [],
            "_model_module": "@jupyter-widgets/controls",
            "_model_module_version": "1.5.0",
            "_model_name": "FloatProgressModel",
            "_view_count": null,
            "_view_module": "@jupyter-widgets/controls",
            "_view_module_version": "1.5.0",
            "_view_name": "ProgressView",
            "bar_style": "success",
            "description": "",
            "description_tooltip": null,
            "layout": "IPY_MODEL_9c60c271179b479f8bf807f9bd632e9e",
            "max": 1108,
            "min": 0,
            "orientation": "horizontal",
            "style": "IPY_MODEL_b9a8f424261f4eb896c269ead1edd040",
            "value": 1108
          }
        },
        "984f443282ed4e5884bd8412acb90fd0": {
          "model_module": "@jupyter-widgets/controls",
          "model_name": "HTMLModel",
          "model_module_version": "1.5.0",
          "state": {
            "_dom_classes": [],
            "_model_module": "@jupyter-widgets/controls",
            "_model_module_version": "1.5.0",
            "_model_name": "HTMLModel",
            "_view_count": null,
            "_view_module": "@jupyter-widgets/controls",
            "_view_module_version": "1.5.0",
            "_view_name": "HTMLView",
            "description": "",
            "description_tooltip": null,
            "layout": "IPY_MODEL_9da47cd954bc496981e323a35ae4c72d",
            "placeholder": "​",
            "style": "IPY_MODEL_c6c3c2a27ca04f14a4b2dfceb7bb857c",
            "value": " 1.11k/1.11k [00:00&lt;00:00, 61.7kB/s]"
          }
        },
        "1b425e969148477dbf6cfc8d7117fd47": {
          "model_module": "@jupyter-widgets/base",
          "model_name": "LayoutModel",
          "model_module_version": "1.2.0",
          "state": {
            "_model_module": "@jupyter-widgets/base",
            "_model_module_version": "1.2.0",
            "_model_name": "LayoutModel",
            "_view_count": null,
            "_view_module": "@jupyter-widgets/base",
            "_view_module_version": "1.2.0",
            "_view_name": "LayoutView",
            "align_content": null,
            "align_items": null,
            "align_self": null,
            "border": null,
            "bottom": null,
            "display": null,
            "flex": null,
            "flex_flow": null,
            "grid_area": null,
            "grid_auto_columns": null,
            "grid_auto_flow": null,
            "grid_auto_rows": null,
            "grid_column": null,
            "grid_gap": null,
            "grid_row": null,
            "grid_template_areas": null,
            "grid_template_columns": null,
            "grid_template_rows": null,
            "height": null,
            "justify_content": null,
            "justify_items": null,
            "left": null,
            "margin": null,
            "max_height": null,
            "max_width": null,
            "min_height": null,
            "min_width": null,
            "object_fit": null,
            "object_position": null,
            "order": null,
            "overflow": null,
            "overflow_x": null,
            "overflow_y": null,
            "padding": null,
            "right": null,
            "top": null,
            "visibility": null,
            "width": null
          }
        },
        "d415f811f903457d804eadaa2e8f1315": {
          "model_module": "@jupyter-widgets/base",
          "model_name": "LayoutModel",
          "model_module_version": "1.2.0",
          "state": {
            "_model_module": "@jupyter-widgets/base",
            "_model_module_version": "1.2.0",
            "_model_name": "LayoutModel",
            "_view_count": null,
            "_view_module": "@jupyter-widgets/base",
            "_view_module_version": "1.2.0",
            "_view_name": "LayoutView",
            "align_content": null,
            "align_items": null,
            "align_self": null,
            "border": null,
            "bottom": null,
            "display": null,
            "flex": null,
            "flex_flow": null,
            "grid_area": null,
            "grid_auto_columns": null,
            "grid_auto_flow": null,
            "grid_auto_rows": null,
            "grid_column": null,
            "grid_gap": null,
            "grid_row": null,
            "grid_template_areas": null,
            "grid_template_columns": null,
            "grid_template_rows": null,
            "height": null,
            "justify_content": null,
            "justify_items": null,
            "left": null,
            "margin": null,
            "max_height": null,
            "max_width": null,
            "min_height": null,
            "min_width": null,
            "object_fit": null,
            "object_position": null,
            "order": null,
            "overflow": null,
            "overflow_x": null,
            "overflow_y": null,
            "padding": null,
            "right": null,
            "top": null,
            "visibility": null,
            "width": null
          }
        },
        "8c7b3917cb214e5d8c638c79733d0766": {
          "model_module": "@jupyter-widgets/controls",
          "model_name": "DescriptionStyleModel",
          "model_module_version": "1.5.0",
          "state": {
            "_model_module": "@jupyter-widgets/controls",
            "_model_module_version": "1.5.0",
            "_model_name": "DescriptionStyleModel",
            "_view_count": null,
            "_view_module": "@jupyter-widgets/base",
            "_view_module_version": "1.2.0",
            "_view_name": "StyleView",
            "description_width": ""
          }
        },
        "9c60c271179b479f8bf807f9bd632e9e": {
          "model_module": "@jupyter-widgets/base",
          "model_name": "LayoutModel",
          "model_module_version": "1.2.0",
          "state": {
            "_model_module": "@jupyter-widgets/base",
            "_model_module_version": "1.2.0",
            "_model_name": "LayoutModel",
            "_view_count": null,
            "_view_module": "@jupyter-widgets/base",
            "_view_module_version": "1.2.0",
            "_view_name": "LayoutView",
            "align_content": null,
            "align_items": null,
            "align_self": null,
            "border": null,
            "bottom": null,
            "display": null,
            "flex": null,
            "flex_flow": null,
            "grid_area": null,
            "grid_auto_columns": null,
            "grid_auto_flow": null,
            "grid_auto_rows": null,
            "grid_column": null,
            "grid_gap": null,
            "grid_row": null,
            "grid_template_areas": null,
            "grid_template_columns": null,
            "grid_template_rows": null,
            "height": null,
            "justify_content": null,
            "justify_items": null,
            "left": null,
            "margin": null,
            "max_height": null,
            "max_width": null,
            "min_height": null,
            "min_width": null,
            "object_fit": null,
            "object_position": null,
            "order": null,
            "overflow": null,
            "overflow_x": null,
            "overflow_y": null,
            "padding": null,
            "right": null,
            "top": null,
            "visibility": null,
            "width": null
          }
        },
        "b9a8f424261f4eb896c269ead1edd040": {
          "model_module": "@jupyter-widgets/controls",
          "model_name": "ProgressStyleModel",
          "model_module_version": "1.5.0",
          "state": {
            "_model_module": "@jupyter-widgets/controls",
            "_model_module_version": "1.5.0",
            "_model_name": "ProgressStyleModel",
            "_view_count": null,
            "_view_module": "@jupyter-widgets/base",
            "_view_module_version": "1.2.0",
            "_view_name": "StyleView",
            "bar_color": null,
            "description_width": ""
          }
        },
        "9da47cd954bc496981e323a35ae4c72d": {
          "model_module": "@jupyter-widgets/base",
          "model_name": "LayoutModel",
          "model_module_version": "1.2.0",
          "state": {
            "_model_module": "@jupyter-widgets/base",
            "_model_module_version": "1.2.0",
            "_model_name": "LayoutModel",
            "_view_count": null,
            "_view_module": "@jupyter-widgets/base",
            "_view_module_version": "1.2.0",
            "_view_name": "LayoutView",
            "align_content": null,
            "align_items": null,
            "align_self": null,
            "border": null,
            "bottom": null,
            "display": null,
            "flex": null,
            "flex_flow": null,
            "grid_area": null,
            "grid_auto_columns": null,
            "grid_auto_flow": null,
            "grid_auto_rows": null,
            "grid_column": null,
            "grid_gap": null,
            "grid_row": null,
            "grid_template_areas": null,
            "grid_template_columns": null,
            "grid_template_rows": null,
            "height": null,
            "justify_content": null,
            "justify_items": null,
            "left": null,
            "margin": null,
            "max_height": null,
            "max_width": null,
            "min_height": null,
            "min_width": null,
            "object_fit": null,
            "object_position": null,
            "order": null,
            "overflow": null,
            "overflow_x": null,
            "overflow_y": null,
            "padding": null,
            "right": null,
            "top": null,
            "visibility": null,
            "width": null
          }
        },
        "c6c3c2a27ca04f14a4b2dfceb7bb857c": {
          "model_module": "@jupyter-widgets/controls",
          "model_name": "DescriptionStyleModel",
          "model_module_version": "1.5.0",
          "state": {
            "_model_module": "@jupyter-widgets/controls",
            "_model_module_version": "1.5.0",
            "_model_name": "DescriptionStyleModel",
            "_view_count": null,
            "_view_module": "@jupyter-widgets/base",
            "_view_module_version": "1.2.0",
            "_view_name": "StyleView",
            "description_width": ""
          }
        },
        "3eb96ff0cb3b4f7f8dcb7d013f7ce33b": {
          "model_module": "@jupyter-widgets/controls",
          "model_name": "HBoxModel",
          "model_module_version": "1.5.0",
          "state": {
            "_dom_classes": [],
            "_model_module": "@jupyter-widgets/controls",
            "_model_module_version": "1.5.0",
            "_model_name": "HBoxModel",
            "_view_count": null,
            "_view_module": "@jupyter-widgets/controls",
            "_view_module_version": "1.5.0",
            "_view_name": "HBoxView",
            "box_style": "",
            "children": [
              "IPY_MODEL_ffb63645ac2a40f4b71132435129f34a",
              "IPY_MODEL_a16271a5f47e418c809c7d7d9091838b",
              "IPY_MODEL_0c5041ff1fc54b3b8f79ed77cb72e468"
            ],
            "layout": "IPY_MODEL_fbe19296d1534bb38a26a312ceb0e9f2"
          }
        },
        "ffb63645ac2a40f4b71132435129f34a": {
          "model_module": "@jupyter-widgets/controls",
          "model_name": "HTMLModel",
          "model_module_version": "1.5.0",
          "state": {
            "_dom_classes": [],
            "_model_module": "@jupyter-widgets/controls",
            "_model_module_version": "1.5.0",
            "_model_name": "HTMLModel",
            "_view_count": null,
            "_view_module": "@jupyter-widgets/controls",
            "_view_module_version": "1.5.0",
            "_view_name": "HTMLView",
            "description": "",
            "description_tooltip": null,
            "layout": "IPY_MODEL_360e76f7e1564cd8aa41b58f7ee7e5f7",
            "placeholder": "​",
            "style": "IPY_MODEL_522227d9ff0d4055b98a2bb983353791",
            "value": "tokenizer.model: 100%"
          }
        },
        "a16271a5f47e418c809c7d7d9091838b": {
          "model_module": "@jupyter-widgets/controls",
          "model_name": "FloatProgressModel",
          "model_module_version": "1.5.0",
          "state": {
            "_dom_classes": [],
            "_model_module": "@jupyter-widgets/controls",
            "_model_module_version": "1.5.0",
            "_model_name": "FloatProgressModel",
            "_view_count": null,
            "_view_module": "@jupyter-widgets/controls",
            "_view_module_version": "1.5.0",
            "_view_name": "ProgressView",
            "bar_style": "success",
            "description": "",
            "description_tooltip": null,
            "layout": "IPY_MODEL_6c71159ee7e34523ba8d7508d263caa1",
            "max": 4241003,
            "min": 0,
            "orientation": "horizontal",
            "style": "IPY_MODEL_e9ca734d8b7541c48b0815a28176d680",
            "value": 4241003
          }
        },
        "0c5041ff1fc54b3b8f79ed77cb72e468": {
          "model_module": "@jupyter-widgets/controls",
          "model_name": "HTMLModel",
          "model_module_version": "1.5.0",
          "state": {
            "_dom_classes": [],
            "_model_module": "@jupyter-widgets/controls",
            "_model_module_version": "1.5.0",
            "_model_name": "HTMLModel",
            "_view_count": null,
            "_view_module": "@jupyter-widgets/controls",
            "_view_module_version": "1.5.0",
            "_view_name": "HTMLView",
            "description": "",
            "description_tooltip": null,
            "layout": "IPY_MODEL_46fc5e0060ae4a08b259a1790da15a46",
            "placeholder": "​",
            "style": "IPY_MODEL_97b9e996f8084b4f81791c0faabe227b",
            "value": " 4.24M/4.24M [00:00&lt;00:00, 42.2MB/s]"
          }
        },
        "fbe19296d1534bb38a26a312ceb0e9f2": {
          "model_module": "@jupyter-widgets/base",
          "model_name": "LayoutModel",
          "model_module_version": "1.2.0",
          "state": {
            "_model_module": "@jupyter-widgets/base",
            "_model_module_version": "1.2.0",
            "_model_name": "LayoutModel",
            "_view_count": null,
            "_view_module": "@jupyter-widgets/base",
            "_view_module_version": "1.2.0",
            "_view_name": "LayoutView",
            "align_content": null,
            "align_items": null,
            "align_self": null,
            "border": null,
            "bottom": null,
            "display": null,
            "flex": null,
            "flex_flow": null,
            "grid_area": null,
            "grid_auto_columns": null,
            "grid_auto_flow": null,
            "grid_auto_rows": null,
            "grid_column": null,
            "grid_gap": null,
            "grid_row": null,
            "grid_template_areas": null,
            "grid_template_columns": null,
            "grid_template_rows": null,
            "height": null,
            "justify_content": null,
            "justify_items": null,
            "left": null,
            "margin": null,
            "max_height": null,
            "max_width": null,
            "min_height": null,
            "min_width": null,
            "object_fit": null,
            "object_position": null,
            "order": null,
            "overflow": null,
            "overflow_x": null,
            "overflow_y": null,
            "padding": null,
            "right": null,
            "top": null,
            "visibility": null,
            "width": null
          }
        },
        "360e76f7e1564cd8aa41b58f7ee7e5f7": {
          "model_module": "@jupyter-widgets/base",
          "model_name": "LayoutModel",
          "model_module_version": "1.2.0",
          "state": {
            "_model_module": "@jupyter-widgets/base",
            "_model_module_version": "1.2.0",
            "_model_name": "LayoutModel",
            "_view_count": null,
            "_view_module": "@jupyter-widgets/base",
            "_view_module_version": "1.2.0",
            "_view_name": "LayoutView",
            "align_content": null,
            "align_items": null,
            "align_self": null,
            "border": null,
            "bottom": null,
            "display": null,
            "flex": null,
            "flex_flow": null,
            "grid_area": null,
            "grid_auto_columns": null,
            "grid_auto_flow": null,
            "grid_auto_rows": null,
            "grid_column": null,
            "grid_gap": null,
            "grid_row": null,
            "grid_template_areas": null,
            "grid_template_columns": null,
            "grid_template_rows": null,
            "height": null,
            "justify_content": null,
            "justify_items": null,
            "left": null,
            "margin": null,
            "max_height": null,
            "max_width": null,
            "min_height": null,
            "min_width": null,
            "object_fit": null,
            "object_position": null,
            "order": null,
            "overflow": null,
            "overflow_x": null,
            "overflow_y": null,
            "padding": null,
            "right": null,
            "top": null,
            "visibility": null,
            "width": null
          }
        },
        "522227d9ff0d4055b98a2bb983353791": {
          "model_module": "@jupyter-widgets/controls",
          "model_name": "DescriptionStyleModel",
          "model_module_version": "1.5.0",
          "state": {
            "_model_module": "@jupyter-widgets/controls",
            "_model_module_version": "1.5.0",
            "_model_name": "DescriptionStyleModel",
            "_view_count": null,
            "_view_module": "@jupyter-widgets/base",
            "_view_module_version": "1.2.0",
            "_view_name": "StyleView",
            "description_width": ""
          }
        },
        "6c71159ee7e34523ba8d7508d263caa1": {
          "model_module": "@jupyter-widgets/base",
          "model_name": "LayoutModel",
          "model_module_version": "1.2.0",
          "state": {
            "_model_module": "@jupyter-widgets/base",
            "_model_module_version": "1.2.0",
            "_model_name": "LayoutModel",
            "_view_count": null,
            "_view_module": "@jupyter-widgets/base",
            "_view_module_version": "1.2.0",
            "_view_name": "LayoutView",
            "align_content": null,
            "align_items": null,
            "align_self": null,
            "border": null,
            "bottom": null,
            "display": null,
            "flex": null,
            "flex_flow": null,
            "grid_area": null,
            "grid_auto_columns": null,
            "grid_auto_flow": null,
            "grid_auto_rows": null,
            "grid_column": null,
            "grid_gap": null,
            "grid_row": null,
            "grid_template_areas": null,
            "grid_template_columns": null,
            "grid_template_rows": null,
            "height": null,
            "justify_content": null,
            "justify_items": null,
            "left": null,
            "margin": null,
            "max_height": null,
            "max_width": null,
            "min_height": null,
            "min_width": null,
            "object_fit": null,
            "object_position": null,
            "order": null,
            "overflow": null,
            "overflow_x": null,
            "overflow_y": null,
            "padding": null,
            "right": null,
            "top": null,
            "visibility": null,
            "width": null
          }
        },
        "e9ca734d8b7541c48b0815a28176d680": {
          "model_module": "@jupyter-widgets/controls",
          "model_name": "ProgressStyleModel",
          "model_module_version": "1.5.0",
          "state": {
            "_model_module": "@jupyter-widgets/controls",
            "_model_module_version": "1.5.0",
            "_model_name": "ProgressStyleModel",
            "_view_count": null,
            "_view_module": "@jupyter-widgets/base",
            "_view_module_version": "1.2.0",
            "_view_name": "StyleView",
            "bar_color": null,
            "description_width": ""
          }
        },
        "46fc5e0060ae4a08b259a1790da15a46": {
          "model_module": "@jupyter-widgets/base",
          "model_name": "LayoutModel",
          "model_module_version": "1.2.0",
          "state": {
            "_model_module": "@jupyter-widgets/base",
            "_model_module_version": "1.2.0",
            "_model_name": "LayoutModel",
            "_view_count": null,
            "_view_module": "@jupyter-widgets/base",
            "_view_module_version": "1.2.0",
            "_view_name": "LayoutView",
            "align_content": null,
            "align_items": null,
            "align_self": null,
            "border": null,
            "bottom": null,
            "display": null,
            "flex": null,
            "flex_flow": null,
            "grid_area": null,
            "grid_auto_columns": null,
            "grid_auto_flow": null,
            "grid_auto_rows": null,
            "grid_column": null,
            "grid_gap": null,
            "grid_row": null,
            "grid_template_areas": null,
            "grid_template_columns": null,
            "grid_template_rows": null,
            "height": null,
            "justify_content": null,
            "justify_items": null,
            "left": null,
            "margin": null,
            "max_height": null,
            "max_width": null,
            "min_height": null,
            "min_width": null,
            "object_fit": null,
            "object_position": null,
            "order": null,
            "overflow": null,
            "overflow_x": null,
            "overflow_y": null,
            "padding": null,
            "right": null,
            "top": null,
            "visibility": null,
            "width": null
          }
        },
        "97b9e996f8084b4f81791c0faabe227b": {
          "model_module": "@jupyter-widgets/controls",
          "model_name": "DescriptionStyleModel",
          "model_module_version": "1.5.0",
          "state": {
            "_model_module": "@jupyter-widgets/controls",
            "_model_module_version": "1.5.0",
            "_model_name": "DescriptionStyleModel",
            "_view_count": null,
            "_view_module": "@jupyter-widgets/base",
            "_view_module_version": "1.2.0",
            "_view_name": "StyleView",
            "description_width": ""
          }
        },
        "46e30d3c781e4052b494782e919d9a3d": {
          "model_module": "@jupyter-widgets/controls",
          "model_name": "HBoxModel",
          "model_module_version": "1.5.0",
          "state": {
            "_dom_classes": [],
            "_model_module": "@jupyter-widgets/controls",
            "_model_module_version": "1.5.0",
            "_model_name": "HBoxModel",
            "_view_count": null,
            "_view_module": "@jupyter-widgets/controls",
            "_view_module_version": "1.5.0",
            "_view_name": "HBoxView",
            "box_style": "",
            "children": [
              "IPY_MODEL_3b4ccf4627db4b75981af19c3f6f5246",
              "IPY_MODEL_dfb578234ed7450ca78c6814081e991d",
              "IPY_MODEL_d579dc254a5f43d383646c34cd500e99"
            ],
            "layout": "IPY_MODEL_3128da4a88d94583af2f5b896965f5a7"
          }
        },
        "3b4ccf4627db4b75981af19c3f6f5246": {
          "model_module": "@jupyter-widgets/controls",
          "model_name": "HTMLModel",
          "model_module_version": "1.5.0",
          "state": {
            "_dom_classes": [],
            "_model_module": "@jupyter-widgets/controls",
            "_model_module_version": "1.5.0",
            "_model_name": "HTMLModel",
            "_view_count": null,
            "_view_module": "@jupyter-widgets/controls",
            "_view_module_version": "1.5.0",
            "_view_name": "HTMLView",
            "description": "",
            "description_tooltip": null,
            "layout": "IPY_MODEL_249eb67b4d0d46c3b62d0d55ced27e3e",
            "placeholder": "​",
            "style": "IPY_MODEL_b811f51b5102437a9d47de9e9411734a",
            "value": "tokenizer.json: 100%"
          }
        },
        "dfb578234ed7450ca78c6814081e991d": {
          "model_module": "@jupyter-widgets/controls",
          "model_name": "FloatProgressModel",
          "model_module_version": "1.5.0",
          "state": {
            "_dom_classes": [],
            "_model_module": "@jupyter-widgets/controls",
            "_model_module_version": "1.5.0",
            "_model_name": "FloatProgressModel",
            "_view_count": null,
            "_view_module": "@jupyter-widgets/controls",
            "_view_module_version": "1.5.0",
            "_view_name": "ProgressView",
            "bar_style": "success",
            "description": "",
            "description_tooltip": null,
            "layout": "IPY_MODEL_d91cb5de8a6a41e2a93bc253688ff0ca",
            "max": 17477553,
            "min": 0,
            "orientation": "horizontal",
            "style": "IPY_MODEL_fdfb585483c143e8b015302ed5afee37",
            "value": 17477553
          }
        },
        "d579dc254a5f43d383646c34cd500e99": {
          "model_module": "@jupyter-widgets/controls",
          "model_name": "HTMLModel",
          "model_module_version": "1.5.0",
          "state": {
            "_dom_classes": [],
            "_model_module": "@jupyter-widgets/controls",
            "_model_module_version": "1.5.0",
            "_model_name": "HTMLModel",
            "_view_count": null,
            "_view_module": "@jupyter-widgets/controls",
            "_view_module_version": "1.5.0",
            "_view_name": "HTMLView",
            "description": "",
            "description_tooltip": null,
            "layout": "IPY_MODEL_b33bfcf3a0e74dbba6c8c7803f5d60fe",
            "placeholder": "​",
            "style": "IPY_MODEL_1d19550572f44c1ba15de34cf493ccdb",
            "value": " 17.5M/17.5M [00:00&lt;00:00, 170MB/s]"
          }
        },
        "3128da4a88d94583af2f5b896965f5a7": {
          "model_module": "@jupyter-widgets/base",
          "model_name": "LayoutModel",
          "model_module_version": "1.2.0",
          "state": {
            "_model_module": "@jupyter-widgets/base",
            "_model_module_version": "1.2.0",
            "_model_name": "LayoutModel",
            "_view_count": null,
            "_view_module": "@jupyter-widgets/base",
            "_view_module_version": "1.2.0",
            "_view_name": "LayoutView",
            "align_content": null,
            "align_items": null,
            "align_self": null,
            "border": null,
            "bottom": null,
            "display": null,
            "flex": null,
            "flex_flow": null,
            "grid_area": null,
            "grid_auto_columns": null,
            "grid_auto_flow": null,
            "grid_auto_rows": null,
            "grid_column": null,
            "grid_gap": null,
            "grid_row": null,
            "grid_template_areas": null,
            "grid_template_columns": null,
            "grid_template_rows": null,
            "height": null,
            "justify_content": null,
            "justify_items": null,
            "left": null,
            "margin": null,
            "max_height": null,
            "max_width": null,
            "min_height": null,
            "min_width": null,
            "object_fit": null,
            "object_position": null,
            "order": null,
            "overflow": null,
            "overflow_x": null,
            "overflow_y": null,
            "padding": null,
            "right": null,
            "top": null,
            "visibility": null,
            "width": null
          }
        },
        "249eb67b4d0d46c3b62d0d55ced27e3e": {
          "model_module": "@jupyter-widgets/base",
          "model_name": "LayoutModel",
          "model_module_version": "1.2.0",
          "state": {
            "_model_module": "@jupyter-widgets/base",
            "_model_module_version": "1.2.0",
            "_model_name": "LayoutModel",
            "_view_count": null,
            "_view_module": "@jupyter-widgets/base",
            "_view_module_version": "1.2.0",
            "_view_name": "LayoutView",
            "align_content": null,
            "align_items": null,
            "align_self": null,
            "border": null,
            "bottom": null,
            "display": null,
            "flex": null,
            "flex_flow": null,
            "grid_area": null,
            "grid_auto_columns": null,
            "grid_auto_flow": null,
            "grid_auto_rows": null,
            "grid_column": null,
            "grid_gap": null,
            "grid_row": null,
            "grid_template_areas": null,
            "grid_template_columns": null,
            "grid_template_rows": null,
            "height": null,
            "justify_content": null,
            "justify_items": null,
            "left": null,
            "margin": null,
            "max_height": null,
            "max_width": null,
            "min_height": null,
            "min_width": null,
            "object_fit": null,
            "object_position": null,
            "order": null,
            "overflow": null,
            "overflow_x": null,
            "overflow_y": null,
            "padding": null,
            "right": null,
            "top": null,
            "visibility": null,
            "width": null
          }
        },
        "b811f51b5102437a9d47de9e9411734a": {
          "model_module": "@jupyter-widgets/controls",
          "model_name": "DescriptionStyleModel",
          "model_module_version": "1.5.0",
          "state": {
            "_model_module": "@jupyter-widgets/controls",
            "_model_module_version": "1.5.0",
            "_model_name": "DescriptionStyleModel",
            "_view_count": null,
            "_view_module": "@jupyter-widgets/base",
            "_view_module_version": "1.2.0",
            "_view_name": "StyleView",
            "description_width": ""
          }
        },
        "d91cb5de8a6a41e2a93bc253688ff0ca": {
          "model_module": "@jupyter-widgets/base",
          "model_name": "LayoutModel",
          "model_module_version": "1.2.0",
          "state": {
            "_model_module": "@jupyter-widgets/base",
            "_model_module_version": "1.2.0",
            "_model_name": "LayoutModel",
            "_view_count": null,
            "_view_module": "@jupyter-widgets/base",
            "_view_module_version": "1.2.0",
            "_view_name": "LayoutView",
            "align_content": null,
            "align_items": null,
            "align_self": null,
            "border": null,
            "bottom": null,
            "display": null,
            "flex": null,
            "flex_flow": null,
            "grid_area": null,
            "grid_auto_columns": null,
            "grid_auto_flow": null,
            "grid_auto_rows": null,
            "grid_column": null,
            "grid_gap": null,
            "grid_row": null,
            "grid_template_areas": null,
            "grid_template_columns": null,
            "grid_template_rows": null,
            "height": null,
            "justify_content": null,
            "justify_items": null,
            "left": null,
            "margin": null,
            "max_height": null,
            "max_width": null,
            "min_height": null,
            "min_width": null,
            "object_fit": null,
            "object_position": null,
            "order": null,
            "overflow": null,
            "overflow_x": null,
            "overflow_y": null,
            "padding": null,
            "right": null,
            "top": null,
            "visibility": null,
            "width": null
          }
        },
        "fdfb585483c143e8b015302ed5afee37": {
          "model_module": "@jupyter-widgets/controls",
          "model_name": "ProgressStyleModel",
          "model_module_version": "1.5.0",
          "state": {
            "_model_module": "@jupyter-widgets/controls",
            "_model_module_version": "1.5.0",
            "_model_name": "ProgressStyleModel",
            "_view_count": null,
            "_view_module": "@jupyter-widgets/base",
            "_view_module_version": "1.2.0",
            "_view_name": "StyleView",
            "bar_color": null,
            "description_width": ""
          }
        },
        "b33bfcf3a0e74dbba6c8c7803f5d60fe": {
          "model_module": "@jupyter-widgets/base",
          "model_name": "LayoutModel",
          "model_module_version": "1.2.0",
          "state": {
            "_model_module": "@jupyter-widgets/base",
            "_model_module_version": "1.2.0",
            "_model_name": "LayoutModel",
            "_view_count": null,
            "_view_module": "@jupyter-widgets/base",
            "_view_module_version": "1.2.0",
            "_view_name": "LayoutView",
            "align_content": null,
            "align_items": null,
            "align_self": null,
            "border": null,
            "bottom": null,
            "display": null,
            "flex": null,
            "flex_flow": null,
            "grid_area": null,
            "grid_auto_columns": null,
            "grid_auto_flow": null,
            "grid_auto_rows": null,
            "grid_column": null,
            "grid_gap": null,
            "grid_row": null,
            "grid_template_areas": null,
            "grid_template_columns": null,
            "grid_template_rows": null,
            "height": null,
            "justify_content": null,
            "justify_items": null,
            "left": null,
            "margin": null,
            "max_height": null,
            "max_width": null,
            "min_height": null,
            "min_width": null,
            "object_fit": null,
            "object_position": null,
            "order": null,
            "overflow": null,
            "overflow_x": null,
            "overflow_y": null,
            "padding": null,
            "right": null,
            "top": null,
            "visibility": null,
            "width": null
          }
        },
        "1d19550572f44c1ba15de34cf493ccdb": {
          "model_module": "@jupyter-widgets/controls",
          "model_name": "DescriptionStyleModel",
          "model_module_version": "1.5.0",
          "state": {
            "_model_module": "@jupyter-widgets/controls",
            "_model_module_version": "1.5.0",
            "_model_name": "DescriptionStyleModel",
            "_view_count": null,
            "_view_module": "@jupyter-widgets/base",
            "_view_module_version": "1.2.0",
            "_view_name": "StyleView",
            "description_width": ""
          }
        },
        "6ee09b6841f2485fa0399ada124b117a": {
          "model_module": "@jupyter-widgets/controls",
          "model_name": "HBoxModel",
          "model_module_version": "1.5.0",
          "state": {
            "_dom_classes": [],
            "_model_module": "@jupyter-widgets/controls",
            "_model_module_version": "1.5.0",
            "_model_name": "HBoxModel",
            "_view_count": null,
            "_view_module": "@jupyter-widgets/controls",
            "_view_module_version": "1.5.0",
            "_view_name": "HBoxView",
            "box_style": "",
            "children": [
              "IPY_MODEL_6688c1a113b4414e8bbecc7421901a67",
              "IPY_MODEL_ca251b5017d447eaa2958f6e57e17a40",
              "IPY_MODEL_e4f952c89c2c45c98bf0fc018fd4148a"
            ],
            "layout": "IPY_MODEL_7e82d77d08a144cd98cd5a5f44b66924"
          }
        },
        "6688c1a113b4414e8bbecc7421901a67": {
          "model_module": "@jupyter-widgets/controls",
          "model_name": "HTMLModel",
          "model_module_version": "1.5.0",
          "state": {
            "_dom_classes": [],
            "_model_module": "@jupyter-widgets/controls",
            "_model_module_version": "1.5.0",
            "_model_name": "HTMLModel",
            "_view_count": null,
            "_view_module": "@jupyter-widgets/controls",
            "_view_module_version": "1.5.0",
            "_view_name": "HTMLView",
            "description": "",
            "description_tooltip": null,
            "layout": "IPY_MODEL_f02516d50dec43c5afda5e2f330f6e6d",
            "placeholder": "​",
            "style": "IPY_MODEL_db8e4a4e738e43ad9e0a0d1592638a82",
            "value": "special_tokens_map.json: 100%"
          }
        },
        "ca251b5017d447eaa2958f6e57e17a40": {
          "model_module": "@jupyter-widgets/controls",
          "model_name": "FloatProgressModel",
          "model_module_version": "1.5.0",
          "state": {
            "_dom_classes": [],
            "_model_module": "@jupyter-widgets/controls",
            "_model_module_version": "1.5.0",
            "_model_name": "FloatProgressModel",
            "_view_count": null,
            "_view_module": "@jupyter-widgets/controls",
            "_view_module_version": "1.5.0",
            "_view_name": "ProgressView",
            "bar_style": "success",
            "description": "",
            "description_tooltip": null,
            "layout": "IPY_MODEL_54ba42473f654841956f6909b7f4eef8",
            "max": 555,
            "min": 0,
            "orientation": "horizontal",
            "style": "IPY_MODEL_35640ee0899e47e69f8287c03d217aa0",
            "value": 555
          }
        },
        "e4f952c89c2c45c98bf0fc018fd4148a": {
          "model_module": "@jupyter-widgets/controls",
          "model_name": "HTMLModel",
          "model_module_version": "1.5.0",
          "state": {
            "_dom_classes": [],
            "_model_module": "@jupyter-widgets/controls",
            "_model_module_version": "1.5.0",
            "_model_name": "HTMLModel",
            "_view_count": null,
            "_view_module": "@jupyter-widgets/controls",
            "_view_module_version": "1.5.0",
            "_view_name": "HTMLView",
            "description": "",
            "description_tooltip": null,
            "layout": "IPY_MODEL_b3484fd5787e4b129108355fe1e1a271",
            "placeholder": "​",
            "style": "IPY_MODEL_54d38b5419d646b58b438f7b1302daf7",
            "value": " 555/555 [00:00&lt;00:00, 38.3kB/s]"
          }
        },
        "7e82d77d08a144cd98cd5a5f44b66924": {
          "model_module": "@jupyter-widgets/base",
          "model_name": "LayoutModel",
          "model_module_version": "1.2.0",
          "state": {
            "_model_module": "@jupyter-widgets/base",
            "_model_module_version": "1.2.0",
            "_model_name": "LayoutModel",
            "_view_count": null,
            "_view_module": "@jupyter-widgets/base",
            "_view_module_version": "1.2.0",
            "_view_name": "LayoutView",
            "align_content": null,
            "align_items": null,
            "align_self": null,
            "border": null,
            "bottom": null,
            "display": null,
            "flex": null,
            "flex_flow": null,
            "grid_area": null,
            "grid_auto_columns": null,
            "grid_auto_flow": null,
            "grid_auto_rows": null,
            "grid_column": null,
            "grid_gap": null,
            "grid_row": null,
            "grid_template_areas": null,
            "grid_template_columns": null,
            "grid_template_rows": null,
            "height": null,
            "justify_content": null,
            "justify_items": null,
            "left": null,
            "margin": null,
            "max_height": null,
            "max_width": null,
            "min_height": null,
            "min_width": null,
            "object_fit": null,
            "object_position": null,
            "order": null,
            "overflow": null,
            "overflow_x": null,
            "overflow_y": null,
            "padding": null,
            "right": null,
            "top": null,
            "visibility": null,
            "width": null
          }
        },
        "f02516d50dec43c5afda5e2f330f6e6d": {
          "model_module": "@jupyter-widgets/base",
          "model_name": "LayoutModel",
          "model_module_version": "1.2.0",
          "state": {
            "_model_module": "@jupyter-widgets/base",
            "_model_module_version": "1.2.0",
            "_model_name": "LayoutModel",
            "_view_count": null,
            "_view_module": "@jupyter-widgets/base",
            "_view_module_version": "1.2.0",
            "_view_name": "LayoutView",
            "align_content": null,
            "align_items": null,
            "align_self": null,
            "border": null,
            "bottom": null,
            "display": null,
            "flex": null,
            "flex_flow": null,
            "grid_area": null,
            "grid_auto_columns": null,
            "grid_auto_flow": null,
            "grid_auto_rows": null,
            "grid_column": null,
            "grid_gap": null,
            "grid_row": null,
            "grid_template_areas": null,
            "grid_template_columns": null,
            "grid_template_rows": null,
            "height": null,
            "justify_content": null,
            "justify_items": null,
            "left": null,
            "margin": null,
            "max_height": null,
            "max_width": null,
            "min_height": null,
            "min_width": null,
            "object_fit": null,
            "object_position": null,
            "order": null,
            "overflow": null,
            "overflow_x": null,
            "overflow_y": null,
            "padding": null,
            "right": null,
            "top": null,
            "visibility": null,
            "width": null
          }
        },
        "db8e4a4e738e43ad9e0a0d1592638a82": {
          "model_module": "@jupyter-widgets/controls",
          "model_name": "DescriptionStyleModel",
          "model_module_version": "1.5.0",
          "state": {
            "_model_module": "@jupyter-widgets/controls",
            "_model_module_version": "1.5.0",
            "_model_name": "DescriptionStyleModel",
            "_view_count": null,
            "_view_module": "@jupyter-widgets/base",
            "_view_module_version": "1.2.0",
            "_view_name": "StyleView",
            "description_width": ""
          }
        },
        "54ba42473f654841956f6909b7f4eef8": {
          "model_module": "@jupyter-widgets/base",
          "model_name": "LayoutModel",
          "model_module_version": "1.2.0",
          "state": {
            "_model_module": "@jupyter-widgets/base",
            "_model_module_version": "1.2.0",
            "_model_name": "LayoutModel",
            "_view_count": null,
            "_view_module": "@jupyter-widgets/base",
            "_view_module_version": "1.2.0",
            "_view_name": "LayoutView",
            "align_content": null,
            "align_items": null,
            "align_self": null,
            "border": null,
            "bottom": null,
            "display": null,
            "flex": null,
            "flex_flow": null,
            "grid_area": null,
            "grid_auto_columns": null,
            "grid_auto_flow": null,
            "grid_auto_rows": null,
            "grid_column": null,
            "grid_gap": null,
            "grid_row": null,
            "grid_template_areas": null,
            "grid_template_columns": null,
            "grid_template_rows": null,
            "height": null,
            "justify_content": null,
            "justify_items": null,
            "left": null,
            "margin": null,
            "max_height": null,
            "max_width": null,
            "min_height": null,
            "min_width": null,
            "object_fit": null,
            "object_position": null,
            "order": null,
            "overflow": null,
            "overflow_x": null,
            "overflow_y": null,
            "padding": null,
            "right": null,
            "top": null,
            "visibility": null,
            "width": null
          }
        },
        "35640ee0899e47e69f8287c03d217aa0": {
          "model_module": "@jupyter-widgets/controls",
          "model_name": "ProgressStyleModel",
          "model_module_version": "1.5.0",
          "state": {
            "_model_module": "@jupyter-widgets/controls",
            "_model_module_version": "1.5.0",
            "_model_name": "ProgressStyleModel",
            "_view_count": null,
            "_view_module": "@jupyter-widgets/base",
            "_view_module_version": "1.2.0",
            "_view_name": "StyleView",
            "bar_color": null,
            "description_width": ""
          }
        },
        "b3484fd5787e4b129108355fe1e1a271": {
          "model_module": "@jupyter-widgets/base",
          "model_name": "LayoutModel",
          "model_module_version": "1.2.0",
          "state": {
            "_model_module": "@jupyter-widgets/base",
            "_model_module_version": "1.2.0",
            "_model_name": "LayoutModel",
            "_view_count": null,
            "_view_module": "@jupyter-widgets/base",
            "_view_module_version": "1.2.0",
            "_view_name": "LayoutView",
            "align_content": null,
            "align_items": null,
            "align_self": null,
            "border": null,
            "bottom": null,
            "display": null,
            "flex": null,
            "flex_flow": null,
            "grid_area": null,
            "grid_auto_columns": null,
            "grid_auto_flow": null,
            "grid_auto_rows": null,
            "grid_column": null,
            "grid_gap": null,
            "grid_row": null,
            "grid_template_areas": null,
            "grid_template_columns": null,
            "grid_template_rows": null,
            "height": null,
            "justify_content": null,
            "justify_items": null,
            "left": null,
            "margin": null,
            "max_height": null,
            "max_width": null,
            "min_height": null,
            "min_width": null,
            "object_fit": null,
            "object_position": null,
            "order": null,
            "overflow": null,
            "overflow_x": null,
            "overflow_y": null,
            "padding": null,
            "right": null,
            "top": null,
            "visibility": null,
            "width": null
          }
        },
        "54d38b5419d646b58b438f7b1302daf7": {
          "model_module": "@jupyter-widgets/controls",
          "model_name": "DescriptionStyleModel",
          "model_module_version": "1.5.0",
          "state": {
            "_model_module": "@jupyter-widgets/controls",
            "_model_module_version": "1.5.0",
            "_model_name": "DescriptionStyleModel",
            "_view_count": null,
            "_view_module": "@jupyter-widgets/base",
            "_view_module_version": "1.2.0",
            "_view_name": "StyleView",
            "description_width": ""
          }
        },
        "bba7ad1017e348f1b2c6acbc8b65cb93": {
          "model_module": "@jupyter-widgets/controls",
          "model_name": "HBoxModel",
          "model_module_version": "1.5.0",
          "state": {
            "_dom_classes": [],
            "_model_module": "@jupyter-widgets/controls",
            "_model_module_version": "1.5.0",
            "_model_name": "HBoxModel",
            "_view_count": null,
            "_view_module": "@jupyter-widgets/controls",
            "_view_module_version": "1.5.0",
            "_view_name": "HBoxView",
            "box_style": "",
            "children": [
              "IPY_MODEL_b033156427c44c108f7a8d1303b2edb2",
              "IPY_MODEL_6740abf6d5834cf18e21a44ed9a4f2e9",
              "IPY_MODEL_4180e752c87e418e8488f1038a2aa052"
            ],
            "layout": "IPY_MODEL_7776b29964be4297b2a8bfc32f2d3495"
          }
        },
        "b033156427c44c108f7a8d1303b2edb2": {
          "model_module": "@jupyter-widgets/controls",
          "model_name": "HTMLModel",
          "model_module_version": "1.5.0",
          "state": {
            "_dom_classes": [],
            "_model_module": "@jupyter-widgets/controls",
            "_model_module_version": "1.5.0",
            "_model_name": "HTMLModel",
            "_view_count": null,
            "_view_module": "@jupyter-widgets/controls",
            "_view_module_version": "1.5.0",
            "_view_name": "HTMLView",
            "description": "",
            "description_tooltip": null,
            "layout": "IPY_MODEL_3fe142d29b56485d9da54a246d6636b2",
            "placeholder": "​",
            "style": "IPY_MODEL_cf7c117ede2446cfb8c0827fb7c689a1",
            "value": "config.json: 100%"
          }
        },
        "6740abf6d5834cf18e21a44ed9a4f2e9": {
          "model_module": "@jupyter-widgets/controls",
          "model_name": "FloatProgressModel",
          "model_module_version": "1.5.0",
          "state": {
            "_dom_classes": [],
            "_model_module": "@jupyter-widgets/controls",
            "_model_module_version": "1.5.0",
            "_model_name": "FloatProgressModel",
            "_view_count": null,
            "_view_module": "@jupyter-widgets/controls",
            "_view_module_version": "1.5.0",
            "_view_name": "ProgressView",
            "bar_style": "success",
            "description": "",
            "description_tooltip": null,
            "layout": "IPY_MODEL_3cfb09b61cf2439b82a51f4454f7125f",
            "max": 627,
            "min": 0,
            "orientation": "horizontal",
            "style": "IPY_MODEL_c57e1d07fc1a406d939cb8373bd7864f",
            "value": 627
          }
        },
        "4180e752c87e418e8488f1038a2aa052": {
          "model_module": "@jupyter-widgets/controls",
          "model_name": "HTMLModel",
          "model_module_version": "1.5.0",
          "state": {
            "_dom_classes": [],
            "_model_module": "@jupyter-widgets/controls",
            "_model_module_version": "1.5.0",
            "_model_name": "HTMLModel",
            "_view_count": null,
            "_view_module": "@jupyter-widgets/controls",
            "_view_module_version": "1.5.0",
            "_view_name": "HTMLView",
            "description": "",
            "description_tooltip": null,
            "layout": "IPY_MODEL_ac00a2c68ce8419693896464f7fdf407",
            "placeholder": "​",
            "style": "IPY_MODEL_34ebe367c28f440abc9318bf30b14870",
            "value": " 627/627 [00:00&lt;00:00, 46.8kB/s]"
          }
        },
        "7776b29964be4297b2a8bfc32f2d3495": {
          "model_module": "@jupyter-widgets/base",
          "model_name": "LayoutModel",
          "model_module_version": "1.2.0",
          "state": {
            "_model_module": "@jupyter-widgets/base",
            "_model_module_version": "1.2.0",
            "_model_name": "LayoutModel",
            "_view_count": null,
            "_view_module": "@jupyter-widgets/base",
            "_view_module_version": "1.2.0",
            "_view_name": "LayoutView",
            "align_content": null,
            "align_items": null,
            "align_self": null,
            "border": null,
            "bottom": null,
            "display": null,
            "flex": null,
            "flex_flow": null,
            "grid_area": null,
            "grid_auto_columns": null,
            "grid_auto_flow": null,
            "grid_auto_rows": null,
            "grid_column": null,
            "grid_gap": null,
            "grid_row": null,
            "grid_template_areas": null,
            "grid_template_columns": null,
            "grid_template_rows": null,
            "height": null,
            "justify_content": null,
            "justify_items": null,
            "left": null,
            "margin": null,
            "max_height": null,
            "max_width": null,
            "min_height": null,
            "min_width": null,
            "object_fit": null,
            "object_position": null,
            "order": null,
            "overflow": null,
            "overflow_x": null,
            "overflow_y": null,
            "padding": null,
            "right": null,
            "top": null,
            "visibility": null,
            "width": null
          }
        },
        "3fe142d29b56485d9da54a246d6636b2": {
          "model_module": "@jupyter-widgets/base",
          "model_name": "LayoutModel",
          "model_module_version": "1.2.0",
          "state": {
            "_model_module": "@jupyter-widgets/base",
            "_model_module_version": "1.2.0",
            "_model_name": "LayoutModel",
            "_view_count": null,
            "_view_module": "@jupyter-widgets/base",
            "_view_module_version": "1.2.0",
            "_view_name": "LayoutView",
            "align_content": null,
            "align_items": null,
            "align_self": null,
            "border": null,
            "bottom": null,
            "display": null,
            "flex": null,
            "flex_flow": null,
            "grid_area": null,
            "grid_auto_columns": null,
            "grid_auto_flow": null,
            "grid_auto_rows": null,
            "grid_column": null,
            "grid_gap": null,
            "grid_row": null,
            "grid_template_areas": null,
            "grid_template_columns": null,
            "grid_template_rows": null,
            "height": null,
            "justify_content": null,
            "justify_items": null,
            "left": null,
            "margin": null,
            "max_height": null,
            "max_width": null,
            "min_height": null,
            "min_width": null,
            "object_fit": null,
            "object_position": null,
            "order": null,
            "overflow": null,
            "overflow_x": null,
            "overflow_y": null,
            "padding": null,
            "right": null,
            "top": null,
            "visibility": null,
            "width": null
          }
        },
        "cf7c117ede2446cfb8c0827fb7c689a1": {
          "model_module": "@jupyter-widgets/controls",
          "model_name": "DescriptionStyleModel",
          "model_module_version": "1.5.0",
          "state": {
            "_model_module": "@jupyter-widgets/controls",
            "_model_module_version": "1.5.0",
            "_model_name": "DescriptionStyleModel",
            "_view_count": null,
            "_view_module": "@jupyter-widgets/base",
            "_view_module_version": "1.2.0",
            "_view_name": "StyleView",
            "description_width": ""
          }
        },
        "3cfb09b61cf2439b82a51f4454f7125f": {
          "model_module": "@jupyter-widgets/base",
          "model_name": "LayoutModel",
          "model_module_version": "1.2.0",
          "state": {
            "_model_module": "@jupyter-widgets/base",
            "_model_module_version": "1.2.0",
            "_model_name": "LayoutModel",
            "_view_count": null,
            "_view_module": "@jupyter-widgets/base",
            "_view_module_version": "1.2.0",
            "_view_name": "LayoutView",
            "align_content": null,
            "align_items": null,
            "align_self": null,
            "border": null,
            "bottom": null,
            "display": null,
            "flex": null,
            "flex_flow": null,
            "grid_area": null,
            "grid_auto_columns": null,
            "grid_auto_flow": null,
            "grid_auto_rows": null,
            "grid_column": null,
            "grid_gap": null,
            "grid_row": null,
            "grid_template_areas": null,
            "grid_template_columns": null,
            "grid_template_rows": null,
            "height": null,
            "justify_content": null,
            "justify_items": null,
            "left": null,
            "margin": null,
            "max_height": null,
            "max_width": null,
            "min_height": null,
            "min_width": null,
            "object_fit": null,
            "object_position": null,
            "order": null,
            "overflow": null,
            "overflow_x": null,
            "overflow_y": null,
            "padding": null,
            "right": null,
            "top": null,
            "visibility": null,
            "width": null
          }
        },
        "c57e1d07fc1a406d939cb8373bd7864f": {
          "model_module": "@jupyter-widgets/controls",
          "model_name": "ProgressStyleModel",
          "model_module_version": "1.5.0",
          "state": {
            "_model_module": "@jupyter-widgets/controls",
            "_model_module_version": "1.5.0",
            "_model_name": "ProgressStyleModel",
            "_view_count": null,
            "_view_module": "@jupyter-widgets/base",
            "_view_module_version": "1.2.0",
            "_view_name": "StyleView",
            "bar_color": null,
            "description_width": ""
          }
        },
        "ac00a2c68ce8419693896464f7fdf407": {
          "model_module": "@jupyter-widgets/base",
          "model_name": "LayoutModel",
          "model_module_version": "1.2.0",
          "state": {
            "_model_module": "@jupyter-widgets/base",
            "_model_module_version": "1.2.0",
            "_model_name": "LayoutModel",
            "_view_count": null,
            "_view_module": "@jupyter-widgets/base",
            "_view_module_version": "1.2.0",
            "_view_name": "LayoutView",
            "align_content": null,
            "align_items": null,
            "align_self": null,
            "border": null,
            "bottom": null,
            "display": null,
            "flex": null,
            "flex_flow": null,
            "grid_area": null,
            "grid_auto_columns": null,
            "grid_auto_flow": null,
            "grid_auto_rows": null,
            "grid_column": null,
            "grid_gap": null,
            "grid_row": null,
            "grid_template_areas": null,
            "grid_template_columns": null,
            "grid_template_rows": null,
            "height": null,
            "justify_content": null,
            "justify_items": null,
            "left": null,
            "margin": null,
            "max_height": null,
            "max_width": null,
            "min_height": null,
            "min_width": null,
            "object_fit": null,
            "object_position": null,
            "order": null,
            "overflow": null,
            "overflow_x": null,
            "overflow_y": null,
            "padding": null,
            "right": null,
            "top": null,
            "visibility": null,
            "width": null
          }
        },
        "34ebe367c28f440abc9318bf30b14870": {
          "model_module": "@jupyter-widgets/controls",
          "model_name": "DescriptionStyleModel",
          "model_module_version": "1.5.0",
          "state": {
            "_model_module": "@jupyter-widgets/controls",
            "_model_module_version": "1.5.0",
            "_model_name": "DescriptionStyleModel",
            "_view_count": null,
            "_view_module": "@jupyter-widgets/base",
            "_view_module_version": "1.2.0",
            "_view_name": "StyleView",
            "description_width": ""
          }
        },
        "8a4a1c7fd7c246c780b53f96fdacc3c5": {
          "model_module": "@jupyter-widgets/controls",
          "model_name": "HBoxModel",
          "model_module_version": "1.5.0",
          "state": {
            "_dom_classes": [],
            "_model_module": "@jupyter-widgets/controls",
            "_model_module_version": "1.5.0",
            "_model_name": "HBoxModel",
            "_view_count": null,
            "_view_module": "@jupyter-widgets/controls",
            "_view_module_version": "1.5.0",
            "_view_name": "HBoxView",
            "box_style": "",
            "children": [
              "IPY_MODEL_e96d85810dbc4a319ea1447ce271a3e2",
              "IPY_MODEL_d7cb5c2adc8141ec8c3b08b1aa3704f5",
              "IPY_MODEL_a1fc081607b940e7a4e95ec014c26464"
            ],
            "layout": "IPY_MODEL_5123c43aa7a14302aa8513b9b458b001"
          }
        },
        "e96d85810dbc4a319ea1447ce271a3e2": {
          "model_module": "@jupyter-widgets/controls",
          "model_name": "HTMLModel",
          "model_module_version": "1.5.0",
          "state": {
            "_dom_classes": [],
            "_model_module": "@jupyter-widgets/controls",
            "_model_module_version": "1.5.0",
            "_model_name": "HTMLModel",
            "_view_count": null,
            "_view_module": "@jupyter-widgets/controls",
            "_view_module_version": "1.5.0",
            "_view_name": "HTMLView",
            "description": "",
            "description_tooltip": null,
            "layout": "IPY_MODEL_93d4327a2b844241a963172348cccbd5",
            "placeholder": "​",
            "style": "IPY_MODEL_cf1e61c34708450f92a73183d570b0ad",
            "value": "model.safetensors.index.json: 100%"
          }
        },
        "d7cb5c2adc8141ec8c3b08b1aa3704f5": {
          "model_module": "@jupyter-widgets/controls",
          "model_name": "FloatProgressModel",
          "model_module_version": "1.5.0",
          "state": {
            "_dom_classes": [],
            "_model_module": "@jupyter-widgets/controls",
            "_model_module_version": "1.5.0",
            "_model_name": "FloatProgressModel",
            "_view_count": null,
            "_view_module": "@jupyter-widgets/controls",
            "_view_module_version": "1.5.0",
            "_view_name": "ProgressView",
            "bar_style": "success",
            "description": "",
            "description_tooltip": null,
            "layout": "IPY_MODEL_8d93dd8254ac4fcb959cee3b7c67cc25",
            "max": 13489,
            "min": 0,
            "orientation": "horizontal",
            "style": "IPY_MODEL_5ba5b9543e73452eb2a1ffe854e95982",
            "value": 13489
          }
        },
        "a1fc081607b940e7a4e95ec014c26464": {
          "model_module": "@jupyter-widgets/controls",
          "model_name": "HTMLModel",
          "model_module_version": "1.5.0",
          "state": {
            "_dom_classes": [],
            "_model_module": "@jupyter-widgets/controls",
            "_model_module_version": "1.5.0",
            "_model_name": "HTMLModel",
            "_view_count": null,
            "_view_module": "@jupyter-widgets/controls",
            "_view_module_version": "1.5.0",
            "_view_name": "HTMLView",
            "description": "",
            "description_tooltip": null,
            "layout": "IPY_MODEL_fcc7cb2bd1574c049e436855abaf70f5",
            "placeholder": "​",
            "style": "IPY_MODEL_8f536879b883424d949c448e80c0c108",
            "value": " 13.5k/13.5k [00:00&lt;00:00, 897kB/s]"
          }
        },
        "5123c43aa7a14302aa8513b9b458b001": {
          "model_module": "@jupyter-widgets/base",
          "model_name": "LayoutModel",
          "model_module_version": "1.2.0",
          "state": {
            "_model_module": "@jupyter-widgets/base",
            "_model_module_version": "1.2.0",
            "_model_name": "LayoutModel",
            "_view_count": null,
            "_view_module": "@jupyter-widgets/base",
            "_view_module_version": "1.2.0",
            "_view_name": "LayoutView",
            "align_content": null,
            "align_items": null,
            "align_self": null,
            "border": null,
            "bottom": null,
            "display": null,
            "flex": null,
            "flex_flow": null,
            "grid_area": null,
            "grid_auto_columns": null,
            "grid_auto_flow": null,
            "grid_auto_rows": null,
            "grid_column": null,
            "grid_gap": null,
            "grid_row": null,
            "grid_template_areas": null,
            "grid_template_columns": null,
            "grid_template_rows": null,
            "height": null,
            "justify_content": null,
            "justify_items": null,
            "left": null,
            "margin": null,
            "max_height": null,
            "max_width": null,
            "min_height": null,
            "min_width": null,
            "object_fit": null,
            "object_position": null,
            "order": null,
            "overflow": null,
            "overflow_x": null,
            "overflow_y": null,
            "padding": null,
            "right": null,
            "top": null,
            "visibility": null,
            "width": null
          }
        },
        "93d4327a2b844241a963172348cccbd5": {
          "model_module": "@jupyter-widgets/base",
          "model_name": "LayoutModel",
          "model_module_version": "1.2.0",
          "state": {
            "_model_module": "@jupyter-widgets/base",
            "_model_module_version": "1.2.0",
            "_model_name": "LayoutModel",
            "_view_count": null,
            "_view_module": "@jupyter-widgets/base",
            "_view_module_version": "1.2.0",
            "_view_name": "LayoutView",
            "align_content": null,
            "align_items": null,
            "align_self": null,
            "border": null,
            "bottom": null,
            "display": null,
            "flex": null,
            "flex_flow": null,
            "grid_area": null,
            "grid_auto_columns": null,
            "grid_auto_flow": null,
            "grid_auto_rows": null,
            "grid_column": null,
            "grid_gap": null,
            "grid_row": null,
            "grid_template_areas": null,
            "grid_template_columns": null,
            "grid_template_rows": null,
            "height": null,
            "justify_content": null,
            "justify_items": null,
            "left": null,
            "margin": null,
            "max_height": null,
            "max_width": null,
            "min_height": null,
            "min_width": null,
            "object_fit": null,
            "object_position": null,
            "order": null,
            "overflow": null,
            "overflow_x": null,
            "overflow_y": null,
            "padding": null,
            "right": null,
            "top": null,
            "visibility": null,
            "width": null
          }
        },
        "cf1e61c34708450f92a73183d570b0ad": {
          "model_module": "@jupyter-widgets/controls",
          "model_name": "DescriptionStyleModel",
          "model_module_version": "1.5.0",
          "state": {
            "_model_module": "@jupyter-widgets/controls",
            "_model_module_version": "1.5.0",
            "_model_name": "DescriptionStyleModel",
            "_view_count": null,
            "_view_module": "@jupyter-widgets/base",
            "_view_module_version": "1.2.0",
            "_view_name": "StyleView",
            "description_width": ""
          }
        },
        "8d93dd8254ac4fcb959cee3b7c67cc25": {
          "model_module": "@jupyter-widgets/base",
          "model_name": "LayoutModel",
          "model_module_version": "1.2.0",
          "state": {
            "_model_module": "@jupyter-widgets/base",
            "_model_module_version": "1.2.0",
            "_model_name": "LayoutModel",
            "_view_count": null,
            "_view_module": "@jupyter-widgets/base",
            "_view_module_version": "1.2.0",
            "_view_name": "LayoutView",
            "align_content": null,
            "align_items": null,
            "align_self": null,
            "border": null,
            "bottom": null,
            "display": null,
            "flex": null,
            "flex_flow": null,
            "grid_area": null,
            "grid_auto_columns": null,
            "grid_auto_flow": null,
            "grid_auto_rows": null,
            "grid_column": null,
            "grid_gap": null,
            "grid_row": null,
            "grid_template_areas": null,
            "grid_template_columns": null,
            "grid_template_rows": null,
            "height": null,
            "justify_content": null,
            "justify_items": null,
            "left": null,
            "margin": null,
            "max_height": null,
            "max_width": null,
            "min_height": null,
            "min_width": null,
            "object_fit": null,
            "object_position": null,
            "order": null,
            "overflow": null,
            "overflow_x": null,
            "overflow_y": null,
            "padding": null,
            "right": null,
            "top": null,
            "visibility": null,
            "width": null
          }
        },
        "5ba5b9543e73452eb2a1ffe854e95982": {
          "model_module": "@jupyter-widgets/controls",
          "model_name": "ProgressStyleModel",
          "model_module_version": "1.5.0",
          "state": {
            "_model_module": "@jupyter-widgets/controls",
            "_model_module_version": "1.5.0",
            "_model_name": "ProgressStyleModel",
            "_view_count": null,
            "_view_module": "@jupyter-widgets/base",
            "_view_module_version": "1.2.0",
            "_view_name": "StyleView",
            "bar_color": null,
            "description_width": ""
          }
        },
        "fcc7cb2bd1574c049e436855abaf70f5": {
          "model_module": "@jupyter-widgets/base",
          "model_name": "LayoutModel",
          "model_module_version": "1.2.0",
          "state": {
            "_model_module": "@jupyter-widgets/base",
            "_model_module_version": "1.2.0",
            "_model_name": "LayoutModel",
            "_view_count": null,
            "_view_module": "@jupyter-widgets/base",
            "_view_module_version": "1.2.0",
            "_view_name": "LayoutView",
            "align_content": null,
            "align_items": null,
            "align_self": null,
            "border": null,
            "bottom": null,
            "display": null,
            "flex": null,
            "flex_flow": null,
            "grid_area": null,
            "grid_auto_columns": null,
            "grid_auto_flow": null,
            "grid_auto_rows": null,
            "grid_column": null,
            "grid_gap": null,
            "grid_row": null,
            "grid_template_areas": null,
            "grid_template_columns": null,
            "grid_template_rows": null,
            "height": null,
            "justify_content": null,
            "justify_items": null,
            "left": null,
            "margin": null,
            "max_height": null,
            "max_width": null,
            "min_height": null,
            "min_width": null,
            "object_fit": null,
            "object_position": null,
            "order": null,
            "overflow": null,
            "overflow_x": null,
            "overflow_y": null,
            "padding": null,
            "right": null,
            "top": null,
            "visibility": null,
            "width": null
          }
        },
        "8f536879b883424d949c448e80c0c108": {
          "model_module": "@jupyter-widgets/controls",
          "model_name": "DescriptionStyleModel",
          "model_module_version": "1.5.0",
          "state": {
            "_model_module": "@jupyter-widgets/controls",
            "_model_module_version": "1.5.0",
            "_model_name": "DescriptionStyleModel",
            "_view_count": null,
            "_view_module": "@jupyter-widgets/base",
            "_view_module_version": "1.2.0",
            "_view_name": "StyleView",
            "description_width": ""
          }
        },
        "30d6eeb842424a37aab200876dc9b91b": {
          "model_module": "@jupyter-widgets/controls",
          "model_name": "HBoxModel",
          "model_module_version": "1.5.0",
          "state": {
            "_dom_classes": [],
            "_model_module": "@jupyter-widgets/controls",
            "_model_module_version": "1.5.0",
            "_model_name": "HBoxModel",
            "_view_count": null,
            "_view_module": "@jupyter-widgets/controls",
            "_view_module_version": "1.5.0",
            "_view_name": "HBoxView",
            "box_style": "",
            "children": [
              "IPY_MODEL_3496858405634e79be8a79a71762a1c5",
              "IPY_MODEL_4a883d32b7204277841cb00cce7c2999",
              "IPY_MODEL_21db07a28e0440b795ef1aed12c4a475"
            ],
            "layout": "IPY_MODEL_9d9a229300df4034a50f47dc2c955ac1"
          }
        },
        "3496858405634e79be8a79a71762a1c5": {
          "model_module": "@jupyter-widgets/controls",
          "model_name": "HTMLModel",
          "model_module_version": "1.5.0",
          "state": {
            "_dom_classes": [],
            "_model_module": "@jupyter-widgets/controls",
            "_model_module_version": "1.5.0",
            "_model_name": "HTMLModel",
            "_view_count": null,
            "_view_module": "@jupyter-widgets/controls",
            "_view_module_version": "1.5.0",
            "_view_name": "HTMLView",
            "description": "",
            "description_tooltip": null,
            "layout": "IPY_MODEL_9c6c3d5ff50e4e57a0a6d692fdd5eb1e",
            "placeholder": "​",
            "style": "IPY_MODEL_5bec85f1e91a4f53af65cfeaeab8f4d1",
            "value": "Downloading shards: 100%"
          }
        },
        "4a883d32b7204277841cb00cce7c2999": {
          "model_module": "@jupyter-widgets/controls",
          "model_name": "FloatProgressModel",
          "model_module_version": "1.5.0",
          "state": {
            "_dom_classes": [],
            "_model_module": "@jupyter-widgets/controls",
            "_model_module_version": "1.5.0",
            "_model_name": "FloatProgressModel",
            "_view_count": null,
            "_view_module": "@jupyter-widgets/controls",
            "_view_module_version": "1.5.0",
            "_view_name": "ProgressView",
            "bar_style": "success",
            "description": "",
            "description_tooltip": null,
            "layout": "IPY_MODEL_39f1935ae2484188925e76804480aa6f",
            "max": 2,
            "min": 0,
            "orientation": "horizontal",
            "style": "IPY_MODEL_438cc26cd04d4801ae1b8dd872553509",
            "value": 2
          }
        },
        "21db07a28e0440b795ef1aed12c4a475": {
          "model_module": "@jupyter-widgets/controls",
          "model_name": "HTMLModel",
          "model_module_version": "1.5.0",
          "state": {
            "_dom_classes": [],
            "_model_module": "@jupyter-widgets/controls",
            "_model_module_version": "1.5.0",
            "_model_name": "HTMLModel",
            "_view_count": null,
            "_view_module": "@jupyter-widgets/controls",
            "_view_module_version": "1.5.0",
            "_view_name": "HTMLView",
            "description": "",
            "description_tooltip": null,
            "layout": "IPY_MODEL_5631e07b44d746069b3e517dcdab311e",
            "placeholder": "​",
            "style": "IPY_MODEL_f76f1d25e881440a863e47fa58b8aa31",
            "value": " 2/2 [00:43&lt;00:00, 18.01s/it]"
          }
        },
        "9d9a229300df4034a50f47dc2c955ac1": {
          "model_module": "@jupyter-widgets/base",
          "model_name": "LayoutModel",
          "model_module_version": "1.2.0",
          "state": {
            "_model_module": "@jupyter-widgets/base",
            "_model_module_version": "1.2.0",
            "_model_name": "LayoutModel",
            "_view_count": null,
            "_view_module": "@jupyter-widgets/base",
            "_view_module_version": "1.2.0",
            "_view_name": "LayoutView",
            "align_content": null,
            "align_items": null,
            "align_self": null,
            "border": null,
            "bottom": null,
            "display": null,
            "flex": null,
            "flex_flow": null,
            "grid_area": null,
            "grid_auto_columns": null,
            "grid_auto_flow": null,
            "grid_auto_rows": null,
            "grid_column": null,
            "grid_gap": null,
            "grid_row": null,
            "grid_template_areas": null,
            "grid_template_columns": null,
            "grid_template_rows": null,
            "height": null,
            "justify_content": null,
            "justify_items": null,
            "left": null,
            "margin": null,
            "max_height": null,
            "max_width": null,
            "min_height": null,
            "min_width": null,
            "object_fit": null,
            "object_position": null,
            "order": null,
            "overflow": null,
            "overflow_x": null,
            "overflow_y": null,
            "padding": null,
            "right": null,
            "top": null,
            "visibility": null,
            "width": null
          }
        },
        "9c6c3d5ff50e4e57a0a6d692fdd5eb1e": {
          "model_module": "@jupyter-widgets/base",
          "model_name": "LayoutModel",
          "model_module_version": "1.2.0",
          "state": {
            "_model_module": "@jupyter-widgets/base",
            "_model_module_version": "1.2.0",
            "_model_name": "LayoutModel",
            "_view_count": null,
            "_view_module": "@jupyter-widgets/base",
            "_view_module_version": "1.2.0",
            "_view_name": "LayoutView",
            "align_content": null,
            "align_items": null,
            "align_self": null,
            "border": null,
            "bottom": null,
            "display": null,
            "flex": null,
            "flex_flow": null,
            "grid_area": null,
            "grid_auto_columns": null,
            "grid_auto_flow": null,
            "grid_auto_rows": null,
            "grid_column": null,
            "grid_gap": null,
            "grid_row": null,
            "grid_template_areas": null,
            "grid_template_columns": null,
            "grid_template_rows": null,
            "height": null,
            "justify_content": null,
            "justify_items": null,
            "left": null,
            "margin": null,
            "max_height": null,
            "max_width": null,
            "min_height": null,
            "min_width": null,
            "object_fit": null,
            "object_position": null,
            "order": null,
            "overflow": null,
            "overflow_x": null,
            "overflow_y": null,
            "padding": null,
            "right": null,
            "top": null,
            "visibility": null,
            "width": null
          }
        },
        "5bec85f1e91a4f53af65cfeaeab8f4d1": {
          "model_module": "@jupyter-widgets/controls",
          "model_name": "DescriptionStyleModel",
          "model_module_version": "1.5.0",
          "state": {
            "_model_module": "@jupyter-widgets/controls",
            "_model_module_version": "1.5.0",
            "_model_name": "DescriptionStyleModel",
            "_view_count": null,
            "_view_module": "@jupyter-widgets/base",
            "_view_module_version": "1.2.0",
            "_view_name": "StyleView",
            "description_width": ""
          }
        },
        "39f1935ae2484188925e76804480aa6f": {
          "model_module": "@jupyter-widgets/base",
          "model_name": "LayoutModel",
          "model_module_version": "1.2.0",
          "state": {
            "_model_module": "@jupyter-widgets/base",
            "_model_module_version": "1.2.0",
            "_model_name": "LayoutModel",
            "_view_count": null,
            "_view_module": "@jupyter-widgets/base",
            "_view_module_version": "1.2.0",
            "_view_name": "LayoutView",
            "align_content": null,
            "align_items": null,
            "align_self": null,
            "border": null,
            "bottom": null,
            "display": null,
            "flex": null,
            "flex_flow": null,
            "grid_area": null,
            "grid_auto_columns": null,
            "grid_auto_flow": null,
            "grid_auto_rows": null,
            "grid_column": null,
            "grid_gap": null,
            "grid_row": null,
            "grid_template_areas": null,
            "grid_template_columns": null,
            "grid_template_rows": null,
            "height": null,
            "justify_content": null,
            "justify_items": null,
            "left": null,
            "margin": null,
            "max_height": null,
            "max_width": null,
            "min_height": null,
            "min_width": null,
            "object_fit": null,
            "object_position": null,
            "order": null,
            "overflow": null,
            "overflow_x": null,
            "overflow_y": null,
            "padding": null,
            "right": null,
            "top": null,
            "visibility": null,
            "width": null
          }
        },
        "438cc26cd04d4801ae1b8dd872553509": {
          "model_module": "@jupyter-widgets/controls",
          "model_name": "ProgressStyleModel",
          "model_module_version": "1.5.0",
          "state": {
            "_model_module": "@jupyter-widgets/controls",
            "_model_module_version": "1.5.0",
            "_model_name": "ProgressStyleModel",
            "_view_count": null,
            "_view_module": "@jupyter-widgets/base",
            "_view_module_version": "1.2.0",
            "_view_name": "StyleView",
            "bar_color": null,
            "description_width": ""
          }
        },
        "5631e07b44d746069b3e517dcdab311e": {
          "model_module": "@jupyter-widgets/base",
          "model_name": "LayoutModel",
          "model_module_version": "1.2.0",
          "state": {
            "_model_module": "@jupyter-widgets/base",
            "_model_module_version": "1.2.0",
            "_model_name": "LayoutModel",
            "_view_count": null,
            "_view_module": "@jupyter-widgets/base",
            "_view_module_version": "1.2.0",
            "_view_name": "LayoutView",
            "align_content": null,
            "align_items": null,
            "align_self": null,
            "border": null,
            "bottom": null,
            "display": null,
            "flex": null,
            "flex_flow": null,
            "grid_area": null,
            "grid_auto_columns": null,
            "grid_auto_flow": null,
            "grid_auto_rows": null,
            "grid_column": null,
            "grid_gap": null,
            "grid_row": null,
            "grid_template_areas": null,
            "grid_template_columns": null,
            "grid_template_rows": null,
            "height": null,
            "justify_content": null,
            "justify_items": null,
            "left": null,
            "margin": null,
            "max_height": null,
            "max_width": null,
            "min_height": null,
            "min_width": null,
            "object_fit": null,
            "object_position": null,
            "order": null,
            "overflow": null,
            "overflow_x": null,
            "overflow_y": null,
            "padding": null,
            "right": null,
            "top": null,
            "visibility": null,
            "width": null
          }
        },
        "f76f1d25e881440a863e47fa58b8aa31": {
          "model_module": "@jupyter-widgets/controls",
          "model_name": "DescriptionStyleModel",
          "model_module_version": "1.5.0",
          "state": {
            "_model_module": "@jupyter-widgets/controls",
            "_model_module_version": "1.5.0",
            "_model_name": "DescriptionStyleModel",
            "_view_count": null,
            "_view_module": "@jupyter-widgets/base",
            "_view_module_version": "1.2.0",
            "_view_name": "StyleView",
            "description_width": ""
          }
        },
        "eba28c5012f64191808a11255fcb443d": {
          "model_module": "@jupyter-widgets/controls",
          "model_name": "HBoxModel",
          "model_module_version": "1.5.0",
          "state": {
            "_dom_classes": [],
            "_model_module": "@jupyter-widgets/controls",
            "_model_module_version": "1.5.0",
            "_model_name": "HBoxModel",
            "_view_count": null,
            "_view_module": "@jupyter-widgets/controls",
            "_view_module_version": "1.5.0",
            "_view_name": "HBoxView",
            "box_style": "",
            "children": [
              "IPY_MODEL_d8954bde78534acab19b55e80ee18367",
              "IPY_MODEL_e5724d92993747bebf13224183a35812",
              "IPY_MODEL_a41b3cdc578d45bda2891432f8b17cdd"
            ],
            "layout": "IPY_MODEL_2856aac7c0ec459d95f428cb8b586638"
          }
        },
        "d8954bde78534acab19b55e80ee18367": {
          "model_module": "@jupyter-widgets/controls",
          "model_name": "HTMLModel",
          "model_module_version": "1.5.0",
          "state": {
            "_dom_classes": [],
            "_model_module": "@jupyter-widgets/controls",
            "_model_module_version": "1.5.0",
            "_model_name": "HTMLModel",
            "_view_count": null,
            "_view_module": "@jupyter-widgets/controls",
            "_view_module_version": "1.5.0",
            "_view_name": "HTMLView",
            "description": "",
            "description_tooltip": null,
            "layout": "IPY_MODEL_ccbbbb22c1e946a89857efa3a181ca1f",
            "placeholder": "​",
            "style": "IPY_MODEL_39675bd6e74c4be08504e5ae033f0819",
            "value": "model-00001-of-00002.safetensors: 100%"
          }
        },
        "e5724d92993747bebf13224183a35812": {
          "model_module": "@jupyter-widgets/controls",
          "model_name": "FloatProgressModel",
          "model_module_version": "1.5.0",
          "state": {
            "_dom_classes": [],
            "_model_module": "@jupyter-widgets/controls",
            "_model_module_version": "1.5.0",
            "_model_name": "FloatProgressModel",
            "_view_count": null,
            "_view_module": "@jupyter-widgets/controls",
            "_view_module_version": "1.5.0",
            "_view_name": "ProgressView",
            "bar_style": "success",
            "description": "",
            "description_tooltip": null,
            "layout": "IPY_MODEL_f143b41966fa4076a9e5aab033dad01e",
            "max": 4945242264,
            "min": 0,
            "orientation": "horizontal",
            "style": "IPY_MODEL_452936bafe3b45cfa20b29710401cbba",
            "value": 4945242264
          }
        },
        "a41b3cdc578d45bda2891432f8b17cdd": {
          "model_module": "@jupyter-widgets/controls",
          "model_name": "HTMLModel",
          "model_module_version": "1.5.0",
          "state": {
            "_dom_classes": [],
            "_model_module": "@jupyter-widgets/controls",
            "_model_module_version": "1.5.0",
            "_model_name": "HTMLModel",
            "_view_count": null,
            "_view_module": "@jupyter-widgets/controls",
            "_view_module_version": "1.5.0",
            "_view_name": "HTMLView",
            "description": "",
            "description_tooltip": null,
            "layout": "IPY_MODEL_c6c7b4099a214081a0151f14f52abc6d",
            "placeholder": "​",
            "style": "IPY_MODEL_9d84afad15124bf68ae5637fc91ad0b4",
            "value": " 4.95G/4.95G [00:42&lt;00:00, 204MB/s]"
          }
        },
        "2856aac7c0ec459d95f428cb8b586638": {
          "model_module": "@jupyter-widgets/base",
          "model_name": "LayoutModel",
          "model_module_version": "1.2.0",
          "state": {
            "_model_module": "@jupyter-widgets/base",
            "_model_module_version": "1.2.0",
            "_model_name": "LayoutModel",
            "_view_count": null,
            "_view_module": "@jupyter-widgets/base",
            "_view_module_version": "1.2.0",
            "_view_name": "LayoutView",
            "align_content": null,
            "align_items": null,
            "align_self": null,
            "border": null,
            "bottom": null,
            "display": null,
            "flex": null,
            "flex_flow": null,
            "grid_area": null,
            "grid_auto_columns": null,
            "grid_auto_flow": null,
            "grid_auto_rows": null,
            "grid_column": null,
            "grid_gap": null,
            "grid_row": null,
            "grid_template_areas": null,
            "grid_template_columns": null,
            "grid_template_rows": null,
            "height": null,
            "justify_content": null,
            "justify_items": null,
            "left": null,
            "margin": null,
            "max_height": null,
            "max_width": null,
            "min_height": null,
            "min_width": null,
            "object_fit": null,
            "object_position": null,
            "order": null,
            "overflow": null,
            "overflow_x": null,
            "overflow_y": null,
            "padding": null,
            "right": null,
            "top": null,
            "visibility": null,
            "width": null
          }
        },
        "ccbbbb22c1e946a89857efa3a181ca1f": {
          "model_module": "@jupyter-widgets/base",
          "model_name": "LayoutModel",
          "model_module_version": "1.2.0",
          "state": {
            "_model_module": "@jupyter-widgets/base",
            "_model_module_version": "1.2.0",
            "_model_name": "LayoutModel",
            "_view_count": null,
            "_view_module": "@jupyter-widgets/base",
            "_view_module_version": "1.2.0",
            "_view_name": "LayoutView",
            "align_content": null,
            "align_items": null,
            "align_self": null,
            "border": null,
            "bottom": null,
            "display": null,
            "flex": null,
            "flex_flow": null,
            "grid_area": null,
            "grid_auto_columns": null,
            "grid_auto_flow": null,
            "grid_auto_rows": null,
            "grid_column": null,
            "grid_gap": null,
            "grid_row": null,
            "grid_template_areas": null,
            "grid_template_columns": null,
            "grid_template_rows": null,
            "height": null,
            "justify_content": null,
            "justify_items": null,
            "left": null,
            "margin": null,
            "max_height": null,
            "max_width": null,
            "min_height": null,
            "min_width": null,
            "object_fit": null,
            "object_position": null,
            "order": null,
            "overflow": null,
            "overflow_x": null,
            "overflow_y": null,
            "padding": null,
            "right": null,
            "top": null,
            "visibility": null,
            "width": null
          }
        },
        "39675bd6e74c4be08504e5ae033f0819": {
          "model_module": "@jupyter-widgets/controls",
          "model_name": "DescriptionStyleModel",
          "model_module_version": "1.5.0",
          "state": {
            "_model_module": "@jupyter-widgets/controls",
            "_model_module_version": "1.5.0",
            "_model_name": "DescriptionStyleModel",
            "_view_count": null,
            "_view_module": "@jupyter-widgets/base",
            "_view_module_version": "1.2.0",
            "_view_name": "StyleView",
            "description_width": ""
          }
        },
        "f143b41966fa4076a9e5aab033dad01e": {
          "model_module": "@jupyter-widgets/base",
          "model_name": "LayoutModel",
          "model_module_version": "1.2.0",
          "state": {
            "_model_module": "@jupyter-widgets/base",
            "_model_module_version": "1.2.0",
            "_model_name": "LayoutModel",
            "_view_count": null,
            "_view_module": "@jupyter-widgets/base",
            "_view_module_version": "1.2.0",
            "_view_name": "LayoutView",
            "align_content": null,
            "align_items": null,
            "align_self": null,
            "border": null,
            "bottom": null,
            "display": null,
            "flex": null,
            "flex_flow": null,
            "grid_area": null,
            "grid_auto_columns": null,
            "grid_auto_flow": null,
            "grid_auto_rows": null,
            "grid_column": null,
            "grid_gap": null,
            "grid_row": null,
            "grid_template_areas": null,
            "grid_template_columns": null,
            "grid_template_rows": null,
            "height": null,
            "justify_content": null,
            "justify_items": null,
            "left": null,
            "margin": null,
            "max_height": null,
            "max_width": null,
            "min_height": null,
            "min_width": null,
            "object_fit": null,
            "object_position": null,
            "order": null,
            "overflow": null,
            "overflow_x": null,
            "overflow_y": null,
            "padding": null,
            "right": null,
            "top": null,
            "visibility": null,
            "width": null
          }
        },
        "452936bafe3b45cfa20b29710401cbba": {
          "model_module": "@jupyter-widgets/controls",
          "model_name": "ProgressStyleModel",
          "model_module_version": "1.5.0",
          "state": {
            "_model_module": "@jupyter-widgets/controls",
            "_model_module_version": "1.5.0",
            "_model_name": "ProgressStyleModel",
            "_view_count": null,
            "_view_module": "@jupyter-widgets/base",
            "_view_module_version": "1.2.0",
            "_view_name": "StyleView",
            "bar_color": null,
            "description_width": ""
          }
        },
        "c6c7b4099a214081a0151f14f52abc6d": {
          "model_module": "@jupyter-widgets/base",
          "model_name": "LayoutModel",
          "model_module_version": "1.2.0",
          "state": {
            "_model_module": "@jupyter-widgets/base",
            "_model_module_version": "1.2.0",
            "_model_name": "LayoutModel",
            "_view_count": null,
            "_view_module": "@jupyter-widgets/base",
            "_view_module_version": "1.2.0",
            "_view_name": "LayoutView",
            "align_content": null,
            "align_items": null,
            "align_self": null,
            "border": null,
            "bottom": null,
            "display": null,
            "flex": null,
            "flex_flow": null,
            "grid_area": null,
            "grid_auto_columns": null,
            "grid_auto_flow": null,
            "grid_auto_rows": null,
            "grid_column": null,
            "grid_gap": null,
            "grid_row": null,
            "grid_template_areas": null,
            "grid_template_columns": null,
            "grid_template_rows": null,
            "height": null,
            "justify_content": null,
            "justify_items": null,
            "left": null,
            "margin": null,
            "max_height": null,
            "max_width": null,
            "min_height": null,
            "min_width": null,
            "object_fit": null,
            "object_position": null,
            "order": null,
            "overflow": null,
            "overflow_x": null,
            "overflow_y": null,
            "padding": null,
            "right": null,
            "top": null,
            "visibility": null,
            "width": null
          }
        },
        "9d84afad15124bf68ae5637fc91ad0b4": {
          "model_module": "@jupyter-widgets/controls",
          "model_name": "DescriptionStyleModel",
          "model_module_version": "1.5.0",
          "state": {
            "_model_module": "@jupyter-widgets/controls",
            "_model_module_version": "1.5.0",
            "_model_name": "DescriptionStyleModel",
            "_view_count": null,
            "_view_module": "@jupyter-widgets/base",
            "_view_module_version": "1.2.0",
            "_view_name": "StyleView",
            "description_width": ""
          }
        },
        "e70fc1dfc8144fcda861660097809115": {
          "model_module": "@jupyter-widgets/controls",
          "model_name": "HBoxModel",
          "model_module_version": "1.5.0",
          "state": {
            "_dom_classes": [],
            "_model_module": "@jupyter-widgets/controls",
            "_model_module_version": "1.5.0",
            "_model_name": "HBoxModel",
            "_view_count": null,
            "_view_module": "@jupyter-widgets/controls",
            "_view_module_version": "1.5.0",
            "_view_name": "HBoxView",
            "box_style": "",
            "children": [
              "IPY_MODEL_d4188577026a49cab2cfb234c992a703",
              "IPY_MODEL_c3ba17c5f0364ee2b988ae0f409e07f9",
              "IPY_MODEL_e485dbc6456a4710a2da93209d6cbc7d"
            ],
            "layout": "IPY_MODEL_f74eeeb3c00d417290f8d8d035f5e8c6"
          }
        },
        "d4188577026a49cab2cfb234c992a703": {
          "model_module": "@jupyter-widgets/controls",
          "model_name": "HTMLModel",
          "model_module_version": "1.5.0",
          "state": {
            "_dom_classes": [],
            "_model_module": "@jupyter-widgets/controls",
            "_model_module_version": "1.5.0",
            "_model_name": "HTMLModel",
            "_view_count": null,
            "_view_module": "@jupyter-widgets/controls",
            "_view_module_version": "1.5.0",
            "_view_name": "HTMLView",
            "description": "",
            "description_tooltip": null,
            "layout": "IPY_MODEL_155df0095b1a429dbfd1bc05181e3af8",
            "placeholder": "​",
            "style": "IPY_MODEL_f81d5da1a9f64a359b0bef916a60bb3b",
            "value": "model-00002-of-00002.safetensors: 100%"
          }
        },
        "c3ba17c5f0364ee2b988ae0f409e07f9": {
          "model_module": "@jupyter-widgets/controls",
          "model_name": "FloatProgressModel",
          "model_module_version": "1.5.0",
          "state": {
            "_dom_classes": [],
            "_model_module": "@jupyter-widgets/controls",
            "_model_module_version": "1.5.0",
            "_model_name": "FloatProgressModel",
            "_view_count": null,
            "_view_module": "@jupyter-widgets/controls",
            "_view_module_version": "1.5.0",
            "_view_name": "ProgressView",
            "bar_style": "success",
            "description": "",
            "description_tooltip": null,
            "layout": "IPY_MODEL_fbfc4c9f61d44d69b8b29d11a26bc8a7",
            "max": 67121608,
            "min": 0,
            "orientation": "horizontal",
            "style": "IPY_MODEL_4fc473aa6b024a5a908991cce96c608d",
            "value": 67121608
          }
        },
        "e485dbc6456a4710a2da93209d6cbc7d": {
          "model_module": "@jupyter-widgets/controls",
          "model_name": "HTMLModel",
          "model_module_version": "1.5.0",
          "state": {
            "_dom_classes": [],
            "_model_module": "@jupyter-widgets/controls",
            "_model_module_version": "1.5.0",
            "_model_name": "HTMLModel",
            "_view_count": null,
            "_view_module": "@jupyter-widgets/controls",
            "_view_module_version": "1.5.0",
            "_view_name": "HTMLView",
            "description": "",
            "description_tooltip": null,
            "layout": "IPY_MODEL_a23bcb905db94901b2d9a201300424b7",
            "placeholder": "​",
            "style": "IPY_MODEL_c1ef21dff26b410da4673e359f23ac64",
            "value": " 67.1M/67.1M [00:00&lt;00:00, 173MB/s]"
          }
        },
        "f74eeeb3c00d417290f8d8d035f5e8c6": {
          "model_module": "@jupyter-widgets/base",
          "model_name": "LayoutModel",
          "model_module_version": "1.2.0",
          "state": {
            "_model_module": "@jupyter-widgets/base",
            "_model_module_version": "1.2.0",
            "_model_name": "LayoutModel",
            "_view_count": null,
            "_view_module": "@jupyter-widgets/base",
            "_view_module_version": "1.2.0",
            "_view_name": "LayoutView",
            "align_content": null,
            "align_items": null,
            "align_self": null,
            "border": null,
            "bottom": null,
            "display": null,
            "flex": null,
            "flex_flow": null,
            "grid_area": null,
            "grid_auto_columns": null,
            "grid_auto_flow": null,
            "grid_auto_rows": null,
            "grid_column": null,
            "grid_gap": null,
            "grid_row": null,
            "grid_template_areas": null,
            "grid_template_columns": null,
            "grid_template_rows": null,
            "height": null,
            "justify_content": null,
            "justify_items": null,
            "left": null,
            "margin": null,
            "max_height": null,
            "max_width": null,
            "min_height": null,
            "min_width": null,
            "object_fit": null,
            "object_position": null,
            "order": null,
            "overflow": null,
            "overflow_x": null,
            "overflow_y": null,
            "padding": null,
            "right": null,
            "top": null,
            "visibility": null,
            "width": null
          }
        },
        "155df0095b1a429dbfd1bc05181e3af8": {
          "model_module": "@jupyter-widgets/base",
          "model_name": "LayoutModel",
          "model_module_version": "1.2.0",
          "state": {
            "_model_module": "@jupyter-widgets/base",
            "_model_module_version": "1.2.0",
            "_model_name": "LayoutModel",
            "_view_count": null,
            "_view_module": "@jupyter-widgets/base",
            "_view_module_version": "1.2.0",
            "_view_name": "LayoutView",
            "align_content": null,
            "align_items": null,
            "align_self": null,
            "border": null,
            "bottom": null,
            "display": null,
            "flex": null,
            "flex_flow": null,
            "grid_area": null,
            "grid_auto_columns": null,
            "grid_auto_flow": null,
            "grid_auto_rows": null,
            "grid_column": null,
            "grid_gap": null,
            "grid_row": null,
            "grid_template_areas": null,
            "grid_template_columns": null,
            "grid_template_rows": null,
            "height": null,
            "justify_content": null,
            "justify_items": null,
            "left": null,
            "margin": null,
            "max_height": null,
            "max_width": null,
            "min_height": null,
            "min_width": null,
            "object_fit": null,
            "object_position": null,
            "order": null,
            "overflow": null,
            "overflow_x": null,
            "overflow_y": null,
            "padding": null,
            "right": null,
            "top": null,
            "visibility": null,
            "width": null
          }
        },
        "f81d5da1a9f64a359b0bef916a60bb3b": {
          "model_module": "@jupyter-widgets/controls",
          "model_name": "DescriptionStyleModel",
          "model_module_version": "1.5.0",
          "state": {
            "_model_module": "@jupyter-widgets/controls",
            "_model_module_version": "1.5.0",
            "_model_name": "DescriptionStyleModel",
            "_view_count": null,
            "_view_module": "@jupyter-widgets/base",
            "_view_module_version": "1.2.0",
            "_view_name": "StyleView",
            "description_width": ""
          }
        },
        "fbfc4c9f61d44d69b8b29d11a26bc8a7": {
          "model_module": "@jupyter-widgets/base",
          "model_name": "LayoutModel",
          "model_module_version": "1.2.0",
          "state": {
            "_model_module": "@jupyter-widgets/base",
            "_model_module_version": "1.2.0",
            "_model_name": "LayoutModel",
            "_view_count": null,
            "_view_module": "@jupyter-widgets/base",
            "_view_module_version": "1.2.0",
            "_view_name": "LayoutView",
            "align_content": null,
            "align_items": null,
            "align_self": null,
            "border": null,
            "bottom": null,
            "display": null,
            "flex": null,
            "flex_flow": null,
            "grid_area": null,
            "grid_auto_columns": null,
            "grid_auto_flow": null,
            "grid_auto_rows": null,
            "grid_column": null,
            "grid_gap": null,
            "grid_row": null,
            "grid_template_areas": null,
            "grid_template_columns": null,
            "grid_template_rows": null,
            "height": null,
            "justify_content": null,
            "justify_items": null,
            "left": null,
            "margin": null,
            "max_height": null,
            "max_width": null,
            "min_height": null,
            "min_width": null,
            "object_fit": null,
            "object_position": null,
            "order": null,
            "overflow": null,
            "overflow_x": null,
            "overflow_y": null,
            "padding": null,
            "right": null,
            "top": null,
            "visibility": null,
            "width": null
          }
        },
        "4fc473aa6b024a5a908991cce96c608d": {
          "model_module": "@jupyter-widgets/controls",
          "model_name": "ProgressStyleModel",
          "model_module_version": "1.5.0",
          "state": {
            "_model_module": "@jupyter-widgets/controls",
            "_model_module_version": "1.5.0",
            "_model_name": "ProgressStyleModel",
            "_view_count": null,
            "_view_module": "@jupyter-widgets/base",
            "_view_module_version": "1.2.0",
            "_view_name": "StyleView",
            "bar_color": null,
            "description_width": ""
          }
        },
        "a23bcb905db94901b2d9a201300424b7": {
          "model_module": "@jupyter-widgets/base",
          "model_name": "LayoutModel",
          "model_module_version": "1.2.0",
          "state": {
            "_model_module": "@jupyter-widgets/base",
            "_model_module_version": "1.2.0",
            "_model_name": "LayoutModel",
            "_view_count": null,
            "_view_module": "@jupyter-widgets/base",
            "_view_module_version": "1.2.0",
            "_view_name": "LayoutView",
            "align_content": null,
            "align_items": null,
            "align_self": null,
            "border": null,
            "bottom": null,
            "display": null,
            "flex": null,
            "flex_flow": null,
            "grid_area": null,
            "grid_auto_columns": null,
            "grid_auto_flow": null,
            "grid_auto_rows": null,
            "grid_column": null,
            "grid_gap": null,
            "grid_row": null,
            "grid_template_areas": null,
            "grid_template_columns": null,
            "grid_template_rows": null,
            "height": null,
            "justify_content": null,
            "justify_items": null,
            "left": null,
            "margin": null,
            "max_height": null,
            "max_width": null,
            "min_height": null,
            "min_width": null,
            "object_fit": null,
            "object_position": null,
            "order": null,
            "overflow": null,
            "overflow_x": null,
            "overflow_y": null,
            "padding": null,
            "right": null,
            "top": null,
            "visibility": null,
            "width": null
          }
        },
        "c1ef21dff26b410da4673e359f23ac64": {
          "model_module": "@jupyter-widgets/controls",
          "model_name": "DescriptionStyleModel",
          "model_module_version": "1.5.0",
          "state": {
            "_model_module": "@jupyter-widgets/controls",
            "_model_module_version": "1.5.0",
            "_model_name": "DescriptionStyleModel",
            "_view_count": null,
            "_view_module": "@jupyter-widgets/base",
            "_view_module_version": "1.2.0",
            "_view_name": "StyleView",
            "description_width": ""
          }
        },
        "a4d4ca7be7cd481ca82c2b002c9554dc": {
          "model_module": "@jupyter-widgets/controls",
          "model_name": "HBoxModel",
          "model_module_version": "1.5.0",
          "state": {
            "_dom_classes": [],
            "_model_module": "@jupyter-widgets/controls",
            "_model_module_version": "1.5.0",
            "_model_name": "HBoxModel",
            "_view_count": null,
            "_view_module": "@jupyter-widgets/controls",
            "_view_module_version": "1.5.0",
            "_view_name": "HBoxView",
            "box_style": "",
            "children": [
              "IPY_MODEL_21e1b7ed849542b788e6f33bdb3fdf26",
              "IPY_MODEL_7e39568cf35649c992dd06b7c04220ee",
              "IPY_MODEL_f5de880be2a74e30bf571486ef0568d9"
            ],
            "layout": "IPY_MODEL_ca8089bff5884bdd97e05cfe6ead869b"
          }
        },
        "21e1b7ed849542b788e6f33bdb3fdf26": {
          "model_module": "@jupyter-widgets/controls",
          "model_name": "HTMLModel",
          "model_module_version": "1.5.0",
          "state": {
            "_dom_classes": [],
            "_model_module": "@jupyter-widgets/controls",
            "_model_module_version": "1.5.0",
            "_model_name": "HTMLModel",
            "_view_count": null,
            "_view_module": "@jupyter-widgets/controls",
            "_view_module_version": "1.5.0",
            "_view_name": "HTMLView",
            "description": "",
            "description_tooltip": null,
            "layout": "IPY_MODEL_611be3656dd74af29f8d371995ea044c",
            "placeholder": "​",
            "style": "IPY_MODEL_0eec088e9002402ea0018398d0b66fe8",
            "value": "Loading checkpoint shards: 100%"
          }
        },
        "7e39568cf35649c992dd06b7c04220ee": {
          "model_module": "@jupyter-widgets/controls",
          "model_name": "FloatProgressModel",
          "model_module_version": "1.5.0",
          "state": {
            "_dom_classes": [],
            "_model_module": "@jupyter-widgets/controls",
            "_model_module_version": "1.5.0",
            "_model_name": "FloatProgressModel",
            "_view_count": null,
            "_view_module": "@jupyter-widgets/controls",
            "_view_module_version": "1.5.0",
            "_view_name": "ProgressView",
            "bar_style": "success",
            "description": "",
            "description_tooltip": null,
            "layout": "IPY_MODEL_80217935b5d845d5bf3e6bf710c4fbb0",
            "max": 2,
            "min": 0,
            "orientation": "horizontal",
            "style": "IPY_MODEL_01c1ed0b07f7476aaebfbca42fd41f61",
            "value": 2
          }
        },
        "f5de880be2a74e30bf571486ef0568d9": {
          "model_module": "@jupyter-widgets/controls",
          "model_name": "HTMLModel",
          "model_module_version": "1.5.0",
          "state": {
            "_dom_classes": [],
            "_model_module": "@jupyter-widgets/controls",
            "_model_module_version": "1.5.0",
            "_model_name": "HTMLModel",
            "_view_count": null,
            "_view_module": "@jupyter-widgets/controls",
            "_view_module_version": "1.5.0",
            "_view_name": "HTMLView",
            "description": "",
            "description_tooltip": null,
            "layout": "IPY_MODEL_2b640c6e7a37431a8e2ea7164392d059",
            "placeholder": "​",
            "style": "IPY_MODEL_4561f3ad629c43e0a569ee9ea2a1c52e",
            "value": " 2/2 [00:21&lt;00:00,  8.97s/it]"
          }
        },
        "ca8089bff5884bdd97e05cfe6ead869b": {
          "model_module": "@jupyter-widgets/base",
          "model_name": "LayoutModel",
          "model_module_version": "1.2.0",
          "state": {
            "_model_module": "@jupyter-widgets/base",
            "_model_module_version": "1.2.0",
            "_model_name": "LayoutModel",
            "_view_count": null,
            "_view_module": "@jupyter-widgets/base",
            "_view_module_version": "1.2.0",
            "_view_name": "LayoutView",
            "align_content": null,
            "align_items": null,
            "align_self": null,
            "border": null,
            "bottom": null,
            "display": null,
            "flex": null,
            "flex_flow": null,
            "grid_area": null,
            "grid_auto_columns": null,
            "grid_auto_flow": null,
            "grid_auto_rows": null,
            "grid_column": null,
            "grid_gap": null,
            "grid_row": null,
            "grid_template_areas": null,
            "grid_template_columns": null,
            "grid_template_rows": null,
            "height": null,
            "justify_content": null,
            "justify_items": null,
            "left": null,
            "margin": null,
            "max_height": null,
            "max_width": null,
            "min_height": null,
            "min_width": null,
            "object_fit": null,
            "object_position": null,
            "order": null,
            "overflow": null,
            "overflow_x": null,
            "overflow_y": null,
            "padding": null,
            "right": null,
            "top": null,
            "visibility": null,
            "width": null
          }
        },
        "611be3656dd74af29f8d371995ea044c": {
          "model_module": "@jupyter-widgets/base",
          "model_name": "LayoutModel",
          "model_module_version": "1.2.0",
          "state": {
            "_model_module": "@jupyter-widgets/base",
            "_model_module_version": "1.2.0",
            "_model_name": "LayoutModel",
            "_view_count": null,
            "_view_module": "@jupyter-widgets/base",
            "_view_module_version": "1.2.0",
            "_view_name": "LayoutView",
            "align_content": null,
            "align_items": null,
            "align_self": null,
            "border": null,
            "bottom": null,
            "display": null,
            "flex": null,
            "flex_flow": null,
            "grid_area": null,
            "grid_auto_columns": null,
            "grid_auto_flow": null,
            "grid_auto_rows": null,
            "grid_column": null,
            "grid_gap": null,
            "grid_row": null,
            "grid_template_areas": null,
            "grid_template_columns": null,
            "grid_template_rows": null,
            "height": null,
            "justify_content": null,
            "justify_items": null,
            "left": null,
            "margin": null,
            "max_height": null,
            "max_width": null,
            "min_height": null,
            "min_width": null,
            "object_fit": null,
            "object_position": null,
            "order": null,
            "overflow": null,
            "overflow_x": null,
            "overflow_y": null,
            "padding": null,
            "right": null,
            "top": null,
            "visibility": null,
            "width": null
          }
        },
        "0eec088e9002402ea0018398d0b66fe8": {
          "model_module": "@jupyter-widgets/controls",
          "model_name": "DescriptionStyleModel",
          "model_module_version": "1.5.0",
          "state": {
            "_model_module": "@jupyter-widgets/controls",
            "_model_module_version": "1.5.0",
            "_model_name": "DescriptionStyleModel",
            "_view_count": null,
            "_view_module": "@jupyter-widgets/base",
            "_view_module_version": "1.2.0",
            "_view_name": "StyleView",
            "description_width": ""
          }
        },
        "80217935b5d845d5bf3e6bf710c4fbb0": {
          "model_module": "@jupyter-widgets/base",
          "model_name": "LayoutModel",
          "model_module_version": "1.2.0",
          "state": {
            "_model_module": "@jupyter-widgets/base",
            "_model_module_version": "1.2.0",
            "_model_name": "LayoutModel",
            "_view_count": null,
            "_view_module": "@jupyter-widgets/base",
            "_view_module_version": "1.2.0",
            "_view_name": "LayoutView",
            "align_content": null,
            "align_items": null,
            "align_self": null,
            "border": null,
            "bottom": null,
            "display": null,
            "flex": null,
            "flex_flow": null,
            "grid_area": null,
            "grid_auto_columns": null,
            "grid_auto_flow": null,
            "grid_auto_rows": null,
            "grid_column": null,
            "grid_gap": null,
            "grid_row": null,
            "grid_template_areas": null,
            "grid_template_columns": null,
            "grid_template_rows": null,
            "height": null,
            "justify_content": null,
            "justify_items": null,
            "left": null,
            "margin": null,
            "max_height": null,
            "max_width": null,
            "min_height": null,
            "min_width": null,
            "object_fit": null,
            "object_position": null,
            "order": null,
            "overflow": null,
            "overflow_x": null,
            "overflow_y": null,
            "padding": null,
            "right": null,
            "top": null,
            "visibility": null,
            "width": null
          }
        },
        "01c1ed0b07f7476aaebfbca42fd41f61": {
          "model_module": "@jupyter-widgets/controls",
          "model_name": "ProgressStyleModel",
          "model_module_version": "1.5.0",
          "state": {
            "_model_module": "@jupyter-widgets/controls",
            "_model_module_version": "1.5.0",
            "_model_name": "ProgressStyleModel",
            "_view_count": null,
            "_view_module": "@jupyter-widgets/base",
            "_view_module_version": "1.2.0",
            "_view_name": "StyleView",
            "bar_color": null,
            "description_width": ""
          }
        },
        "2b640c6e7a37431a8e2ea7164392d059": {
          "model_module": "@jupyter-widgets/base",
          "model_name": "LayoutModel",
          "model_module_version": "1.2.0",
          "state": {
            "_model_module": "@jupyter-widgets/base",
            "_model_module_version": "1.2.0",
            "_model_name": "LayoutModel",
            "_view_count": null,
            "_view_module": "@jupyter-widgets/base",
            "_view_module_version": "1.2.0",
            "_view_name": "LayoutView",
            "align_content": null,
            "align_items": null,
            "align_self": null,
            "border": null,
            "bottom": null,
            "display": null,
            "flex": null,
            "flex_flow": null,
            "grid_area": null,
            "grid_auto_columns": null,
            "grid_auto_flow": null,
            "grid_auto_rows": null,
            "grid_column": null,
            "grid_gap": null,
            "grid_row": null,
            "grid_template_areas": null,
            "grid_template_columns": null,
            "grid_template_rows": null,
            "height": null,
            "justify_content": null,
            "justify_items": null,
            "left": null,
            "margin": null,
            "max_height": null,
            "max_width": null,
            "min_height": null,
            "min_width": null,
            "object_fit": null,
            "object_position": null,
            "order": null,
            "overflow": null,
            "overflow_x": null,
            "overflow_y": null,
            "padding": null,
            "right": null,
            "top": null,
            "visibility": null,
            "width": null
          }
        },
        "4561f3ad629c43e0a569ee9ea2a1c52e": {
          "model_module": "@jupyter-widgets/controls",
          "model_name": "DescriptionStyleModel",
          "model_module_version": "1.5.0",
          "state": {
            "_model_module": "@jupyter-widgets/controls",
            "_model_module_version": "1.5.0",
            "_model_name": "DescriptionStyleModel",
            "_view_count": null,
            "_view_module": "@jupyter-widgets/base",
            "_view_module_version": "1.2.0",
            "_view_name": "StyleView",
            "description_width": ""
          }
        },
        "60306200a9fc4c0ab91ce7acab5cdcc8": {
          "model_module": "@jupyter-widgets/controls",
          "model_name": "HBoxModel",
          "model_module_version": "1.5.0",
          "state": {
            "_dom_classes": [],
            "_model_module": "@jupyter-widgets/controls",
            "_model_module_version": "1.5.0",
            "_model_name": "HBoxModel",
            "_view_count": null,
            "_view_module": "@jupyter-widgets/controls",
            "_view_module_version": "1.5.0",
            "_view_name": "HBoxView",
            "box_style": "",
            "children": [
              "IPY_MODEL_6025534d78ad4c40b4bce31b4eadf46e",
              "IPY_MODEL_f214660d2c5946d2b5d140f3e5c46dea",
              "IPY_MODEL_a6d27231a814466dbcc54b6329109a08"
            ],
            "layout": "IPY_MODEL_8f56df17a9924becbef0501f55f96446"
          }
        },
        "6025534d78ad4c40b4bce31b4eadf46e": {
          "model_module": "@jupyter-widgets/controls",
          "model_name": "HTMLModel",
          "model_module_version": "1.5.0",
          "state": {
            "_dom_classes": [],
            "_model_module": "@jupyter-widgets/controls",
            "_model_module_version": "1.5.0",
            "_model_name": "HTMLModel",
            "_view_count": null,
            "_view_module": "@jupyter-widgets/controls",
            "_view_module_version": "1.5.0",
            "_view_name": "HTMLView",
            "description": "",
            "description_tooltip": null,
            "layout": "IPY_MODEL_e19a68cb0ba64856a8b385a763cc1237",
            "placeholder": "​",
            "style": "IPY_MODEL_e4a7ef6a154b432bb21b2d4386938819",
            "value": "generation_config.json: 100%"
          }
        },
        "f214660d2c5946d2b5d140f3e5c46dea": {
          "model_module": "@jupyter-widgets/controls",
          "model_name": "FloatProgressModel",
          "model_module_version": "1.5.0",
          "state": {
            "_dom_classes": [],
            "_model_module": "@jupyter-widgets/controls",
            "_model_module_version": "1.5.0",
            "_model_name": "FloatProgressModel",
            "_view_count": null,
            "_view_module": "@jupyter-widgets/controls",
            "_view_module_version": "1.5.0",
            "_view_name": "ProgressView",
            "bar_style": "success",
            "description": "",
            "description_tooltip": null,
            "layout": "IPY_MODEL_2edc33211fd3471b8a9f75e07e6b846f",
            "max": 137,
            "min": 0,
            "orientation": "horizontal",
            "style": "IPY_MODEL_422e8f6634e748849ec2194795fda40a",
            "value": 137
          }
        },
        "a6d27231a814466dbcc54b6329109a08": {
          "model_module": "@jupyter-widgets/controls",
          "model_name": "HTMLModel",
          "model_module_version": "1.5.0",
          "state": {
            "_dom_classes": [],
            "_model_module": "@jupyter-widgets/controls",
            "_model_module_version": "1.5.0",
            "_model_name": "HTMLModel",
            "_view_count": null,
            "_view_module": "@jupyter-widgets/controls",
            "_view_module_version": "1.5.0",
            "_view_name": "HTMLView",
            "description": "",
            "description_tooltip": null,
            "layout": "IPY_MODEL_12acdbfde8db483b84e016daf287a981",
            "placeholder": "​",
            "style": "IPY_MODEL_f29184e6d3f24e92b3f2a54fe59755aa",
            "value": " 137/137 [00:00&lt;00:00, 8.08kB/s]"
          }
        },
        "8f56df17a9924becbef0501f55f96446": {
          "model_module": "@jupyter-widgets/base",
          "model_name": "LayoutModel",
          "model_module_version": "1.2.0",
          "state": {
            "_model_module": "@jupyter-widgets/base",
            "_model_module_version": "1.2.0",
            "_model_name": "LayoutModel",
            "_view_count": null,
            "_view_module": "@jupyter-widgets/base",
            "_view_module_version": "1.2.0",
            "_view_name": "LayoutView",
            "align_content": null,
            "align_items": null,
            "align_self": null,
            "border": null,
            "bottom": null,
            "display": null,
            "flex": null,
            "flex_flow": null,
            "grid_area": null,
            "grid_auto_columns": null,
            "grid_auto_flow": null,
            "grid_auto_rows": null,
            "grid_column": null,
            "grid_gap": null,
            "grid_row": null,
            "grid_template_areas": null,
            "grid_template_columns": null,
            "grid_template_rows": null,
            "height": null,
            "justify_content": null,
            "justify_items": null,
            "left": null,
            "margin": null,
            "max_height": null,
            "max_width": null,
            "min_height": null,
            "min_width": null,
            "object_fit": null,
            "object_position": null,
            "order": null,
            "overflow": null,
            "overflow_x": null,
            "overflow_y": null,
            "padding": null,
            "right": null,
            "top": null,
            "visibility": null,
            "width": null
          }
        },
        "e19a68cb0ba64856a8b385a763cc1237": {
          "model_module": "@jupyter-widgets/base",
          "model_name": "LayoutModel",
          "model_module_version": "1.2.0",
          "state": {
            "_model_module": "@jupyter-widgets/base",
            "_model_module_version": "1.2.0",
            "_model_name": "LayoutModel",
            "_view_count": null,
            "_view_module": "@jupyter-widgets/base",
            "_view_module_version": "1.2.0",
            "_view_name": "LayoutView",
            "align_content": null,
            "align_items": null,
            "align_self": null,
            "border": null,
            "bottom": null,
            "display": null,
            "flex": null,
            "flex_flow": null,
            "grid_area": null,
            "grid_auto_columns": null,
            "grid_auto_flow": null,
            "grid_auto_rows": null,
            "grid_column": null,
            "grid_gap": null,
            "grid_row": null,
            "grid_template_areas": null,
            "grid_template_columns": null,
            "grid_template_rows": null,
            "height": null,
            "justify_content": null,
            "justify_items": null,
            "left": null,
            "margin": null,
            "max_height": null,
            "max_width": null,
            "min_height": null,
            "min_width": null,
            "object_fit": null,
            "object_position": null,
            "order": null,
            "overflow": null,
            "overflow_x": null,
            "overflow_y": null,
            "padding": null,
            "right": null,
            "top": null,
            "visibility": null,
            "width": null
          }
        },
        "e4a7ef6a154b432bb21b2d4386938819": {
          "model_module": "@jupyter-widgets/controls",
          "model_name": "DescriptionStyleModel",
          "model_module_version": "1.5.0",
          "state": {
            "_model_module": "@jupyter-widgets/controls",
            "_model_module_version": "1.5.0",
            "_model_name": "DescriptionStyleModel",
            "_view_count": null,
            "_view_module": "@jupyter-widgets/base",
            "_view_module_version": "1.2.0",
            "_view_name": "StyleView",
            "description_width": ""
          }
        },
        "2edc33211fd3471b8a9f75e07e6b846f": {
          "model_module": "@jupyter-widgets/base",
          "model_name": "LayoutModel",
          "model_module_version": "1.2.0",
          "state": {
            "_model_module": "@jupyter-widgets/base",
            "_model_module_version": "1.2.0",
            "_model_name": "LayoutModel",
            "_view_count": null,
            "_view_module": "@jupyter-widgets/base",
            "_view_module_version": "1.2.0",
            "_view_name": "LayoutView",
            "align_content": null,
            "align_items": null,
            "align_self": null,
            "border": null,
            "bottom": null,
            "display": null,
            "flex": null,
            "flex_flow": null,
            "grid_area": null,
            "grid_auto_columns": null,
            "grid_auto_flow": null,
            "grid_auto_rows": null,
            "grid_column": null,
            "grid_gap": null,
            "grid_row": null,
            "grid_template_areas": null,
            "grid_template_columns": null,
            "grid_template_rows": null,
            "height": null,
            "justify_content": null,
            "justify_items": null,
            "left": null,
            "margin": null,
            "max_height": null,
            "max_width": null,
            "min_height": null,
            "min_width": null,
            "object_fit": null,
            "object_position": null,
            "order": null,
            "overflow": null,
            "overflow_x": null,
            "overflow_y": null,
            "padding": null,
            "right": null,
            "top": null,
            "visibility": null,
            "width": null
          }
        },
        "422e8f6634e748849ec2194795fda40a": {
          "model_module": "@jupyter-widgets/controls",
          "model_name": "ProgressStyleModel",
          "model_module_version": "1.5.0",
          "state": {
            "_model_module": "@jupyter-widgets/controls",
            "_model_module_version": "1.5.0",
            "_model_name": "ProgressStyleModel",
            "_view_count": null,
            "_view_module": "@jupyter-widgets/base",
            "_view_module_version": "1.2.0",
            "_view_name": "StyleView",
            "bar_color": null,
            "description_width": ""
          }
        },
        "12acdbfde8db483b84e016daf287a981": {
          "model_module": "@jupyter-widgets/base",
          "model_name": "LayoutModel",
          "model_module_version": "1.2.0",
          "state": {
            "_model_module": "@jupyter-widgets/base",
            "_model_module_version": "1.2.0",
            "_model_name": "LayoutModel",
            "_view_count": null,
            "_view_module": "@jupyter-widgets/base",
            "_view_module_version": "1.2.0",
            "_view_name": "LayoutView",
            "align_content": null,
            "align_items": null,
            "align_self": null,
            "border": null,
            "bottom": null,
            "display": null,
            "flex": null,
            "flex_flow": null,
            "grid_area": null,
            "grid_auto_columns": null,
            "grid_auto_flow": null,
            "grid_auto_rows": null,
            "grid_column": null,
            "grid_gap": null,
            "grid_row": null,
            "grid_template_areas": null,
            "grid_template_columns": null,
            "grid_template_rows": null,
            "height": null,
            "justify_content": null,
            "justify_items": null,
            "left": null,
            "margin": null,
            "max_height": null,
            "max_width": null,
            "min_height": null,
            "min_width": null,
            "object_fit": null,
            "object_position": null,
            "order": null,
            "overflow": null,
            "overflow_x": null,
            "overflow_y": null,
            "padding": null,
            "right": null,
            "top": null,
            "visibility": null,
            "width": null
          }
        },
        "f29184e6d3f24e92b3f2a54fe59755aa": {
          "model_module": "@jupyter-widgets/controls",
          "model_name": "DescriptionStyleModel",
          "model_module_version": "1.5.0",
          "state": {
            "_model_module": "@jupyter-widgets/controls",
            "_model_module_version": "1.5.0",
            "_model_name": "DescriptionStyleModel",
            "_view_count": null,
            "_view_module": "@jupyter-widgets/base",
            "_view_module_version": "1.2.0",
            "_view_name": "StyleView",
            "description_width": ""
          }
        }
      }
    },
    "accelerator": "GPU"
  },
  "nbformat_minor": 0,
  "nbformat": 4,
  "cells": [
    {
      "cell_type": "markdown",
      "source": [
        "\n",
        "## Main [Langchain Components](https://python.langchain.com/docs/integrations/components) for interacting with LLM\n",
        "\n",
        "- 🗃️ LLMs\n",
        "- 🗃️ Chat models\n",
        "- 🗃️ Embedding models\n",
        "- 🗃️ Document loaders\n",
        "- 🗃️ Document transformers\n",
        "- 🗃️ Vector stores\n",
        "- 🗃️ Retrievers\n",
        "- 🗃️ Tools\n",
        "- 🗃️ Toolkits\n",
        "- 🗃️ Memory\n",
        "- 🗃️ Callbacks\n",
        "- 🗃️ Chat loaders\n",
        "- 🗃️ Adapters\n",
        "- 🗃️ Stores"
      ],
      "metadata": {
        "id": "TR5hjSi2rRKj"
      }
    },
    {
      "cell_type": "markdown",
      "source": [
        "#### API Keys, Websites, and Models for Cohere, Google AI, and Hugging Face\n",
        "\n",
        "\n",
        "|            | API Keys    | Websites                        | Models                            |\n",
        "|------------|-------------|---------------------------------|-----------------------------------|\n",
        "| Cohere     | cohere_api_key | [Cohere Website](https://cohere.ai/) | Cohere Models                    |\n",
        "| Google AI  | google_api_key | [Google AI Website](https://makersuite.google.com/app/apikey) | Google AI Models                 |\n",
        "| Hugging Face | huggingface_api_key | [Hugging Face Website](https://huggingface.co/) | Hugging Face Models           |\n",
        "\n",
        "**Note: After obtaining API keys, securely store them in Google Colab. For instructions on how to do this, refer to this  [Guide](https://drlee.io/how-to-use-secrets-in-google-colab-for-api-key-protection-a-guide-for-openai-huggingface-and-c1ec9e1277e0)**"
      ],
      "metadata": {
        "id": "yQZY9xkVtku0"
      }
    },
    {
      "cell_type": "code",
      "source": [
        "## Get API Keys from Colab User data\n",
        "from google.colab import userdata\n",
        "import os\n",
        "os.environ[\"LANGCHAIN_TRACING_V2\"] = \"false\"\n",
        "\n",
        "cohere_api_key= userdata.get(\"COHERE_API_KEY\")\n",
        "GOOGLE_API_KEY= userdata.get(\"GOOGLE_API_KEY\")\n",
        "hugging_face_api_key = userdata.get(\"HUGGINGFACEHUB_API_KEY\")\n",
        "\n",
        "LANGCHAIN_API_KEY=userdata.get(\"LANGCHAIN_API_KEY\")\n"
      ],
      "metadata": {
        "id": "-1tS4xH3r_eb"
      },
      "execution_count": 22,
      "outputs": []
    },
    {
      "cell_type": "markdown",
      "source": [
        "## 1. [Google Open Source LLM](https://ai.google.dev/tutorials/python_quickstart) ==> Gemini"
      ],
      "metadata": {
        "id": "9vT8NPfirRKm"
      }
    },
    {
      "cell_type": "code",
      "source": [
        "import pathlib\n",
        "import textwrap\n",
        "\n",
        "import google.generativeai as genai\n",
        "\n",
        "from IPython.display import display\n",
        "from IPython.display import Markdown\n",
        "\n",
        "\n",
        "def to_markdown(text):\n",
        "  text = text.replace('•', '  *')\n",
        "  return Markdown(textwrap.indent(text, '> ', predicate=lambda _: True))"
      ],
      "metadata": {
        "execution": {
          "iopub.status.busy": "2024-03-02T15:01:43.615723Z",
          "iopub.execute_input": "2024-03-02T15:01:43.616109Z",
          "iopub.status.idle": "2024-03-02T15:01:44.169894Z",
          "shell.execute_reply.started": "2024-03-02T15:01:43.616081Z",
          "shell.execute_reply": "2024-03-02T15:01:44.169141Z"
        },
        "trusted": true,
        "id": "yztMAc6ZrRKm"
      },
      "execution_count": 8,
      "outputs": []
    },
    {
      "cell_type": "code",
      "source": [
        "## Configure API key\n",
        "import getpass\n",
        "import os\n",
        "import google.generativeai as genai\n",
        "\n",
        "## To Setup Google API key\n",
        "# os.environ['GOOGLE_API_KEY'] = GOOGLE_API_KEY\n",
        "\n",
        "# if \"GOOGLE_API_KEY\" not in os.environ:\n",
        "#    os.environ[\"GOOGLE_API_KEY\"] = getpass.getpass(\"Provide your Google API Key\")\n",
        "\n",
        "## We can directly get the API Key using like this\n",
        "genai.configure(api_key=GOOGLE_API_KEY)\n",
        "\n"
      ],
      "metadata": {
        "execution": {
          "iopub.status.busy": "2024-03-02T15:02:01.549116Z",
          "iopub.execute_input": "2024-03-02T15:02:01.549969Z",
          "iopub.status.idle": "2024-03-02T15:02:01.554785Z",
          "shell.execute_reply.started": "2024-03-02T15:02:01.549936Z",
          "shell.execute_reply": "2024-03-02T15:02:01.553817Z"
        },
        "trusted": true,
        "id": "sdsF_8L1rRKn"
      },
      "execution_count": 9,
      "outputs": []
    },
    {
      "cell_type": "code",
      "source": [
        "## List of Google Models\n",
        "for m in genai.list_models():\n",
        "    if 'generateContent' in m.supported_generation_methods:\n",
        "        print(m.name)"
      ],
      "metadata": {
        "execution": {
          "iopub.status.busy": "2024-03-02T15:02:04.311776Z",
          "iopub.execute_input": "2024-03-02T15:02:04.312144Z",
          "iopub.status.idle": "2024-03-02T15:02:05.134174Z",
          "shell.execute_reply.started": "2024-03-02T15:02:04.312115Z",
          "shell.execute_reply": "2024-03-02T15:02:05.133288Z"
        },
        "trusted": true,
        "colab": {
          "base_uri": "https://localhost:8080/",
          "height": 121
        },
        "id": "mvdeNfkWrRKn",
        "outputId": "b5991e27-dde8-4f44-a4c5-05282147cf46"
      },
      "execution_count": 10,
      "outputs": [
        {
          "output_type": "stream",
          "name": "stdout",
          "text": [
            "models/gemini-1.0-pro\n",
            "models/gemini-1.0-pro-001\n",
            "models/gemini-1.0-pro-latest\n",
            "models/gemini-1.0-pro-vision-latest\n",
            "models/gemini-pro\n",
            "models/gemini-pro-vision\n"
          ]
        }
      ]
    },
    {
      "cell_type": "code",
      "source": [
        "model = genai.GenerativeModel('gemini-pro')"
      ],
      "metadata": {
        "execution": {
          "iopub.status.busy": "2024-03-02T15:02:27.999012Z",
          "iopub.execute_input": "2024-03-02T15:02:27.999357Z",
          "iopub.status.idle": "2024-03-02T15:02:28.003677Z",
          "shell.execute_reply.started": "2024-03-02T15:02:27.999328Z",
          "shell.execute_reply": "2024-03-02T15:02:28.002674Z"
        },
        "trusted": true,
        "id": "cSePY4-FrRKo"
      },
      "execution_count": null,
      "outputs": []
    },
    {
      "cell_type": "code",
      "source": [
        "%%time\n",
        "response = model.generate_content(\"What is the meaning of life?\")\n",
        "\n",
        "\"\"\"\n",
        "response = model.generate_content(\n",
        "    \"What is the meaning of life?\",\n",
        "    generation_config=genai.types.GenerationConfig(\n",
        "        # Only one candidate for now.\n",
        "        candidate_count=1,\n",
        "        stop_sequences=['x'],\n",
        "        max_output_tokens=20,\n",
        "        temperature=1.0,)\n",
        ")\n",
        "\"\"\""
      ],
      "metadata": {
        "execution": {
          "iopub.status.busy": "2024-03-02T15:06:03.420704Z",
          "iopub.execute_input": "2024-03-02T15:06:03.421379Z",
          "iopub.status.idle": "2024-03-02T15:06:15.950896Z",
          "shell.execute_reply.started": "2024-03-02T15:06:03.421347Z",
          "shell.execute_reply": "2024-03-02T15:06:15.949945Z"
        },
        "trusted": true,
        "colab": {
          "base_uri": "https://localhost:8080/",
          "height": 87
        },
        "id": "EOTNH9rFrRKo",
        "outputId": "0358415a-cb11-4bf1-8672-23ca41cee1be"
      },
      "execution_count": null,
      "outputs": [
        {
          "output_type": "stream",
          "name": "stdout",
          "text": [
            "CPU times: user 97.8 ms, sys: 11.4 ms, total: 109 ms\n",
            "Wall time: 7.83 s\n"
          ]
        },
        {
          "output_type": "execute_result",
          "data": {
            "text/plain": [
              "'\\nresponse = model.generate_content(\\n    \"What is the meaning of life?\",\\n    generation_config=genai.types.GenerationConfig(\\n        # Only one candidate for now.\\n        candidate_count=1,\\n        stop_sequences=[\\'x\\'],\\n        max_output_tokens=20,\\n        temperature=1.0,)\\n)\\n'"
            ],
            "application/vnd.google.colaboratory.intrinsic+json": {
              "type": "string"
            }
          },
          "metadata": {},
          "execution_count": 8
        }
      ]
    },
    {
      "cell_type": "code",
      "source": [
        "## To get the text\n",
        "response.text"
      ],
      "metadata": {
        "execution": {
          "iopub.status.busy": "2024-03-02T15:06:41.789684Z",
          "iopub.execute_input": "2024-03-02T15:06:41.790332Z",
          "iopub.status.idle": "2024-03-02T15:06:41.796531Z",
          "shell.execute_reply.started": "2024-03-02T15:06:41.790294Z",
          "shell.execute_reply": "2024-03-02T15:06:41.795541Z"
        },
        "trusted": true,
        "colab": {
          "base_uri": "https://localhost:8080/",
          "height": 140
        },
        "id": "uzg4KrEGrRKp",
        "outputId": "ab94eebe-5177-43e7-c775-423978f61713"
      },
      "execution_count": null,
      "outputs": [
        {
          "output_type": "execute_result",
          "data": {
            "text/plain": [
              "\"The meaning of life is a philosophical question that has been pondered by humans for centuries. There is no one definitive answer to this question, as it is a deeply personal one that can vary depending on individual beliefs, values, and experiences. Some common themes that emerge in discussions about the meaning of life include:\\n\\n**Purpose and Meaningful Activity:** Many people find meaning in their lives through their work, hobbies, volunteering, or other activities that bring them a sense of purpose and fulfillment.\\n**Relationships and Connections:** Human relationships are a central aspect of life for many people, and finding love, companionship, and community can bring significant meaning.\\n**Personal Growth and Development:** Striving for self-improvement, learning new things, and expanding one's horizons can give life meaning and a sense of accomplishment.\\n**Contribution to Society:** Making a positive impact on society, whether through acts of kindness, social activism, or other forms of service, can give people a sense of purpose and meaning.\\n**Living in Harmony with Nature:** Connecting with the natural world, appreciating its beauty, and striving to protect our environment can provide meaning for some people.\\n**Finding Spiritual Fulfillment:** For many, spirituality or religion plays a central role in their sense of meaning and purpose.\\n**Experiencing the Present Moment:** Appreciating the present moment and living in the here and now can help people find meaning and joy in life.\\n**Creating a Legacy:** Leaving a lasting impact on the world or on future generations through one's work, relationships, or other contributions can provide a sense of meaning and purpose.\\n\\nUltimately, the meaning of life is a question that each individual must answer for themselves based on their own values, beliefs, and experiences. There is no right or wrong answer, and what gives one person meaning may not be meaningful to another.\""
            ],
            "application/vnd.google.colaboratory.intrinsic+json": {
              "type": "string"
            }
          },
          "metadata": {},
          "execution_count": 9
        }
      ]
    },
    {
      "cell_type": "code",
      "source": [
        "## To get the text in Markdown format\n",
        "to_markdown(response.text)"
      ],
      "metadata": {
        "execution": {
          "iopub.status.busy": "2024-03-02T15:06:44.154023Z",
          "iopub.execute_input": "2024-03-02T15:06:44.154915Z",
          "iopub.status.idle": "2024-03-02T15:06:44.160924Z",
          "shell.execute_reply.started": "2024-03-02T15:06:44.154880Z",
          "shell.execute_reply": "2024-03-02T15:06:44.160007Z"
        },
        "trusted": true,
        "colab": {
          "base_uri": "https://localhost:8080/",
          "height": 317
        },
        "id": "ig7PDsUerRKp",
        "outputId": "91859ceb-f302-461e-835b-99bd43f60ffc"
      },
      "execution_count": null,
      "outputs": [
        {
          "output_type": "execute_result",
          "data": {
            "text/plain": [
              "<IPython.core.display.Markdown object>"
            ],
            "text/markdown": "> The meaning of life is a philosophical question that has been pondered by humans for centuries. There is no one definitive answer to this question, as it is a deeply personal one that can vary depending on individual beliefs, values, and experiences. Some common themes that emerge in discussions about the meaning of life include:\n> \n> **Purpose and Meaningful Activity:** Many people find meaning in their lives through their work, hobbies, volunteering, or other activities that bring them a sense of purpose and fulfillment.\n> **Relationships and Connections:** Human relationships are a central aspect of life for many people, and finding love, companionship, and community can bring significant meaning.\n> **Personal Growth and Development:** Striving for self-improvement, learning new things, and expanding one's horizons can give life meaning and a sense of accomplishment.\n> **Contribution to Society:** Making a positive impact on society, whether through acts of kindness, social activism, or other forms of service, can give people a sense of purpose and meaning.\n> **Living in Harmony with Nature:** Connecting with the natural world, appreciating its beauty, and striving to protect our environment can provide meaning for some people.\n> **Finding Spiritual Fulfillment:** For many, spirituality or religion plays a central role in their sense of meaning and purpose.\n> **Experiencing the Present Moment:** Appreciating the present moment and living in the here and now can help people find meaning and joy in life.\n> **Creating a Legacy:** Leaving a lasting impact on the world or on future generations through one's work, relationships, or other contributions can provide a sense of meaning and purpose.\n> \n> Ultimately, the meaning of life is a question that each individual must answer for themselves based on their own values, beliefs, and experiences. There is no right or wrong answer, and what gives one person meaning may not be meaningful to another."
          },
          "metadata": {},
          "execution_count": 10
        }
      ]
    },
    {
      "cell_type": "code",
      "source": [
        "response.prompt_feedback"
      ],
      "metadata": {
        "execution": {
          "iopub.status.busy": "2024-03-02T15:07:26.733504Z",
          "iopub.execute_input": "2024-03-02T15:07:26.733871Z",
          "iopub.status.idle": "2024-03-02T15:07:26.741852Z",
          "shell.execute_reply.started": "2024-03-02T15:07:26.733842Z",
          "shell.execute_reply": "2024-03-02T15:07:26.740970Z"
        },
        "trusted": true,
        "id": "qcvLqHpQrRKp"
      },
      "execution_count": null,
      "outputs": []
    },
    {
      "cell_type": "markdown",
      "source": [
        "### Streaming in LLMs\n",
        "\n",
        "Streaming in LLMs refers to the process of delivering response token by token, enabling immediate presentation of results to users without waiting for the entire generation to complete.\n",
        "\n",
        "Large Language Models (LLMs) incorporate a streaming response mechanism, allowing processing to begin as soon as initial fragments of the response are available, rather than waiting for the entire response. This capability is particularly useful for showcasing evolving responses to users in real-time during the generation process, or for facilitating concurrent processing alongside response generation."
      ],
      "metadata": {
        "id": "60sBirTOrRKq"
      }
    },
    {
      "cell_type": "code",
      "source": [
        "%%time\n",
        "response = model.generate_content(\"What is the meaning of life?\", stream=True)"
      ],
      "metadata": {
        "execution": {
          "iopub.status.busy": "2024-03-02T15:07:34.481983Z",
          "iopub.execute_input": "2024-03-02T15:07:34.482674Z",
          "iopub.status.idle": "2024-03-02T15:07:35.976460Z",
          "shell.execute_reply.started": "2024-03-02T15:07:34.482639Z",
          "shell.execute_reply": "2024-03-02T15:07:35.975527Z"
        },
        "trusted": true,
        "colab": {
          "base_uri": "https://localhost:8080/",
          "height": 52
        },
        "id": "pNZIeuGVrRKq",
        "outputId": "9dcbf969-8d55-4863-f393-3785c12e2ab2"
      },
      "execution_count": null,
      "outputs": [
        {
          "output_type": "stream",
          "name": "stdout",
          "text": [
            "CPU times: user 94.2 ms, sys: 10.8 ms, total: 105 ms\n",
            "Wall time: 7.42 s\n"
          ]
        }
      ]
    },
    {
      "cell_type": "code",
      "source": [
        "for chunk in response:\n",
        "    print(chunk.text)\n",
        "    print(\"_\"*80)"
      ],
      "metadata": {
        "execution": {
          "iopub.status.busy": "2024-03-02T15:07:39.948296Z",
          "iopub.execute_input": "2024-03-02T15:07:39.949131Z",
          "iopub.status.idle": "2024-03-02T15:07:40.853731Z",
          "shell.execute_reply.started": "2024-03-02T15:07:39.949096Z",
          "shell.execute_reply": "2024-03-02T15:07:40.852697Z"
        },
        "trusted": true,
        "colab": {
          "base_uri": "https://localhost:8080/"
        },
        "id": "AE-gj2mCrRKq",
        "outputId": "5d10f2c0-bec2-49f8-ca06-9a19b10d62ec"
      },
      "execution_count": null,
      "outputs": [
        {
          "output_type": "stream",
          "name": "stdout",
          "text": [
            "The meaning of life is a profoundly personal and subjective question that has been pondered by\n",
            "________________________________________________________________________________\n",
            " philosophers, theologians, and individuals throughout history. While there is no one universally accepted answer, some common themes that emerge include:\n",
            "\n",
            "* **Purpose:** Finding a\n",
            "________________________________________________________________________________\n",
            " higher purpose or goal that gives life meaning and direction. This could be related to a career, creative endeavors, relationships, or making a positive impact on the world.\n",
            "\n",
            "* **Growth and Fulfillment:** Striving to develop oneself, learn, and experience new things. This involves pursuing personal growth, intellectual stimulation, and emotional\n",
            "________________________________________________________________________________\n",
            " and spiritual fulfillment.\n",
            "\n",
            "* **Contribution:** Making a meaningful contribution to society or others. This can involve volunteering, helping others, or creating something that benefits the world.\n",
            "\n",
            "* **Connection:** Building strong and meaningful relationships with others. This includes family, friends, loved ones, and members of the community.\n",
            "\n",
            "* **Authenticity:** Living an authentic life that is true to one's values, beliefs, and aspirations. This involves being honest with oneself and others, pursuing what brings joy and meaning, and avoiding living a life based on societal expectations or external pressures.\n",
            "\n",
            "* **Happiness and Well-being:** Finding joy, contentment\n",
            "________________________________________________________________________________\n",
            ", and a sense of well-being in life. This can involve cultivating gratitude, practicing mindfulness, and engaging in activities that bring pleasure and fulfillment.\n",
            "\n",
            "Ultimately, the meaning of life is what you make it. It is a personal journey that involves introspection, exploration, and the continuous pursuit of what brings you fulfillment and makes your existence worthwhile. There is no right or wrong answer, but rather a unique and evolving path for each individual.\n",
            "________________________________________________________________________________\n"
          ]
        }
      ]
    },
    {
      "cell_type": "markdown",
      "source": [
        "## Chat Conversations with Gemini"
      ],
      "metadata": {
        "id": "BrmKVRRwrRKq"
      }
    },
    {
      "cell_type": "code",
      "source": [
        "model = genai.GenerativeModel('gemini-pro')\n",
        "chat = model.start_chat(history=[])\n",
        "chat"
      ],
      "metadata": {
        "execution": {
          "iopub.status.busy": "2024-03-02T15:12:46.407634Z",
          "iopub.execute_input": "2024-03-02T15:12:46.407988Z",
          "iopub.status.idle": "2024-03-02T15:12:46.414941Z",
          "shell.execute_reply.started": "2024-03-02T15:12:46.407959Z",
          "shell.execute_reply": "2024-03-02T15:12:46.414027Z"
        },
        "trusted": true,
        "colab": {
          "base_uri": "https://localhost:8080/"
        },
        "id": "kVBDM0x7rRKr",
        "outputId": "c06f55bb-0e74-4b7b-9132-f3c84da3ffdf"
      },
      "execution_count": null,
      "outputs": [
        {
          "output_type": "execute_result",
          "data": {
            "text/plain": [
              "<google.generativeai.generative_models.ChatSession at 0x780acc4ff910>"
            ]
          },
          "metadata": {},
          "execution_count": 13
        }
      ]
    },
    {
      "cell_type": "code",
      "source": [
        "response = chat.send_message(\"In one sentence, explain how a computer works to a young child.\")\n",
        "to_markdown(response.text)"
      ],
      "metadata": {
        "execution": {
          "iopub.status.busy": "2024-03-02T15:12:52.428536Z",
          "iopub.execute_input": "2024-03-02T15:12:52.428904Z",
          "iopub.status.idle": "2024-03-02T15:12:53.937039Z",
          "shell.execute_reply.started": "2024-03-02T15:12:52.428873Z",
          "shell.execute_reply": "2024-03-02T15:12:53.936016Z"
        },
        "trusted": true,
        "colab": {
          "base_uri": "https://localhost:8080/",
          "height": 62
        },
        "id": "XrHeFM5CrRKr",
        "outputId": "6a0aab3c-8765-4883-bc6a-204d337e826c"
      },
      "execution_count": null,
      "outputs": [
        {
          "output_type": "execute_result",
          "data": {
            "text/plain": [
              "<IPython.core.display.Markdown object>"
            ],
            "text/markdown": "> A computer is like a magic box that can help you do all kinds of things by remembering information and following your instructions."
          },
          "metadata": {},
          "execution_count": 14
        }
      ]
    },
    {
      "cell_type": "code",
      "source": [
        "chat.history"
      ],
      "metadata": {
        "execution": {
          "iopub.status.busy": "2024-03-02T15:12:56.807774Z",
          "iopub.execute_input": "2024-03-02T15:12:56.808579Z",
          "iopub.status.idle": "2024-03-02T15:12:56.814749Z",
          "shell.execute_reply.started": "2024-03-02T15:12:56.808540Z",
          "shell.execute_reply": "2024-03-02T15:12:56.813571Z"
        },
        "trusted": true,
        "colab": {
          "base_uri": "https://localhost:8080/"
        },
        "id": "nyYn7FYPrRKr",
        "outputId": "d16fd758-d8df-432b-f417-ac5626fbb071"
      },
      "execution_count": null,
      "outputs": [
        {
          "output_type": "execute_result",
          "data": {
            "text/plain": [
              "[parts {\n",
              "   text: \"In one sentence, explain how a computer works to a young child.\"\n",
              " }\n",
              " role: \"user\",\n",
              " parts {\n",
              "   text: \"A computer is like a magic box that can help you do all kinds of things by remembering information and following your instructions.\"\n",
              " }\n",
              " role: \"model\"]"
            ]
          },
          "metadata": {},
          "execution_count": 15
        }
      ]
    },
    {
      "cell_type": "code",
      "source": [
        "response = chat.send_message(\"Okay, how about a more detailed explanation to a high schooler?\", stream=True)\n",
        "\n",
        "for chunk in response:\n",
        "    print(chunk.text)\n",
        "    print(\"_\"*80)"
      ],
      "metadata": {
        "execution": {
          "iopub.status.busy": "2024-03-02T15:14:17.402697Z",
          "iopub.execute_input": "2024-03-02T15:14:17.403057Z",
          "iopub.status.idle": "2024-03-02T15:14:27.371807Z",
          "shell.execute_reply.started": "2024-03-02T15:14:17.403028Z",
          "shell.execute_reply": "2024-03-02T15:14:27.370951Z"
        },
        "trusted": true,
        "colab": {
          "base_uri": "https://localhost:8080/",
          "height": 245
        },
        "id": "UG6kSj5FrRKr",
        "outputId": "77982c97-caec-4aad-96d5-3f53aabda4c2"
      },
      "execution_count": null,
      "outputs": [
        {
          "output_type": "stream",
          "name": "stdout",
          "text": [
            "A computer is an electronic device that can be programmed to carry out a set of\n",
            "________________________________________________________________________________\n",
            " instructions. It has four main components: the central processing unit (CPU), the memory, the storage devices, and the input/output (I/O)\n",
            "________________________________________________________________________________\n",
            " devices. The CPU is the \"brain\" of the computer and controls all of its operations. The memory stores the instructions and data that the CPU is currently working on. The storage devices store data that is not currently being used by the CPU. The I/O devices allow the computer to communicate with the outside world,\n",
            "________________________________________________________________________________\n",
            " such as through a keyboard, mouse, or printer.\n",
            "\n",
            "When you give a computer a command, the CPU fetches the instructions for that command from the memory. It then executes those instructions, one by one. The CPU can perform simple operations, such as adding two numbers together, or more complex operations, such as running a video game.\n",
            "\n",
            "Computers are used for a wide variety of tasks, such as word processing, spreadsheets, presentations, games, and web browsing. They are also used in businesses, schools, and governments all over the world.\n",
            "________________________________________________________________________________\n"
          ]
        }
      ]
    },
    {
      "cell_type": "code",
      "source": [
        "## Total Conversation History\n",
        "chat._history"
      ],
      "metadata": {
        "execution": {
          "iopub.status.busy": "2024-03-02T15:14:27.373537Z",
          "iopub.execute_input": "2024-03-02T15:14:27.374009Z",
          "iopub.status.idle": "2024-03-02T15:14:27.380847Z",
          "shell.execute_reply.started": "2024-03-02T15:14:27.373974Z",
          "shell.execute_reply": "2024-03-02T15:14:27.379955Z"
        },
        "trusted": true,
        "colab": {
          "base_uri": "https://localhost:8080/"
        },
        "id": "E_as82oZrRKs",
        "outputId": "acc70cb7-9e06-47fb-da33-31d681caf1da"
      },
      "execution_count": null,
      "outputs": [
        {
          "output_type": "execute_result",
          "data": {
            "text/plain": [
              "[parts {\n",
              "   text: \"In one sentence, explain how a computer works to a young child.\"\n",
              " }\n",
              " role: \"user\",\n",
              " parts {\n",
              "   text: \"A computer is like a magic box that can help you do all kinds of things by remembering information and following your instructions.\"\n",
              " }\n",
              " role: \"model\"]"
            ]
          },
          "metadata": {},
          "execution_count": 18
        }
      ]
    },
    {
      "cell_type": "markdown",
      "source": [
        "## Embeddings\n",
        "\n",
        "| Task Type           | Description                                                                                           |\n",
        "|---------------------|-------------------------------------------------------------------------------------------------------|\n",
        "| RETRIEVAL_QUERY     | Specifies the given text is a query in a search/retrieval setting.                                    |\n",
        "| RETRIEVAL_DOCUMENT  | Specifies the given text is a document in a search/retrieval setting. Using this task type requires a title. |\n",
        "| SEMANTIC_SIMILARITY | Specifies the given text will be used for Semantic Textual Similarity (STS).                           |\n",
        "| CLASSIFICATION      | Specifies that the embeddings will be used for classification.                                        |\n",
        "| CLUSTERING          | Specifies that the embeddings will be used for clustering.                                             |"
      ],
      "metadata": {
        "id": "MG5BY9OGrRKs"
      }
    },
    {
      "cell_type": "code",
      "source": [
        "## For Single Senetece embedding\n",
        "result = genai.embed_content(\n",
        "    model=\"models/embedding-001\",\n",
        "    content=\"What is the meaning of life?\",\n",
        "    task_type=\"retrieval_document\",\n",
        "    title=\"Embedding of single string\")\n",
        "\n",
        "# 1 input > 1 vector output\n",
        "print(str(result['embedding'])[:50], '... TRIMMED]')"
      ],
      "metadata": {
        "execution": {
          "iopub.status.busy": "2024-03-02T15:14:53.390843Z",
          "iopub.execute_input": "2024-03-02T15:14:53.391180Z",
          "iopub.status.idle": "2024-03-02T15:14:54.102282Z",
          "shell.execute_reply.started": "2024-03-02T15:14:53.391154Z",
          "shell.execute_reply": "2024-03-02T15:14:54.101319Z"
        },
        "trusted": true,
        "colab": {
          "base_uri": "https://localhost:8080/",
          "height": 34
        },
        "id": "9bB9_f_GrRKs",
        "outputId": "f4cdccf2-a275-4f24-e691-051ab026c882"
      },
      "execution_count": null,
      "outputs": [
        {
          "output_type": "stream",
          "name": "stdout",
          "text": [
            "[-0.003216741, -0.013358698, -0.017649598, -0.0091 ... TRIMMED]\n"
          ]
        }
      ]
    },
    {
      "cell_type": "code",
      "source": [
        "## For Multiple sentence Embedding\n",
        "result = genai.embed_content(\n",
        "    model=\"models/embedding-001\",\n",
        "    content=[\n",
        "      'What is the meaning of life?',\n",
        "      'How much wood would a woodchuck chuck?',\n",
        "      'How does the brain work?'],\n",
        "    task_type=\"retrieval_document\",\n",
        "    title=\"Embedding of list of strings\")\n",
        "\n",
        "# A list of inputs > A list of vectors output\n",
        "for v in result['embedding']:\n",
        "  print(str(v)[:50], '... TRIMMED ...')"
      ],
      "metadata": {
        "execution": {
          "iopub.status.busy": "2024-03-02T15:15:00.979498Z",
          "iopub.execute_input": "2024-03-02T15:15:00.980160Z",
          "iopub.status.idle": "2024-03-02T15:15:01.306005Z",
          "shell.execute_reply.started": "2024-03-02T15:15:00.980124Z",
          "shell.execute_reply": "2024-03-02T15:15:01.305102Z"
        },
        "trusted": true,
        "colab": {
          "base_uri": "https://localhost:8080/",
          "height": 69
        },
        "id": "u1CReROirRKs",
        "outputId": "df05745a-5dd3-486f-a3a9-4937cf58c697"
      },
      "execution_count": null,
      "outputs": [
        {
          "output_type": "stream",
          "name": "stdout",
          "text": [
            "[0.0040260437, 0.004124458, -0.014209415, -0.00183 ... TRIMMED ...\n",
            "[-0.004049845, -0.0075574904, -0.0073463684, -0.03 ... TRIMMED ...\n",
            "[0.025310587, -0.0080734305, -0.029902633, 0.01160 ... TRIMMED ...\n"
          ]
        }
      ]
    },
    {
      "cell_type": "code",
      "source": [
        "## lets check the Dimensions of Embeddings\n",
        "len(result['embedding'][0])"
      ],
      "metadata": {
        "execution": {
          "iopub.status.busy": "2024-03-02T15:15:04.948036Z",
          "iopub.execute_input": "2024-03-02T15:15:04.948626Z",
          "iopub.status.idle": "2024-03-02T15:15:04.954392Z",
          "shell.execute_reply.started": "2024-03-02T15:15:04.948594Z",
          "shell.execute_reply": "2024-03-02T15:15:04.953476Z"
        },
        "trusted": true,
        "colab": {
          "base_uri": "https://localhost:8080/"
        },
        "id": "HKyqwK9erRKs",
        "outputId": "cd67b74f-3b5e-44a5-f924-b43e8d30543a"
      },
      "execution_count": null,
      "outputs": [
        {
          "output_type": "execute_result",
          "data": {
            "text/plain": [
              "768"
            ]
          },
          "metadata": {},
          "execution_count": 21
        }
      ]
    },
    {
      "cell_type": "markdown",
      "source": [
        "**Note: Default size of embeddings in transformers typically depends on the specific transformer model architecture being used. However, a common default size for embeddings in many transformer-based models is 768 dimensions for models like BERT, RoBERTa, and DistilBERT.**"
      ],
      "metadata": {
        "id": "MSdy8C7hrRKt"
      }
    },
    {
      "cell_type": "markdown",
      "source": [
        "## [Acessing Google AI chat models using Langchain](https://python.langchain.com/docs/integrations/chat/google_generative_ai)"
      ],
      "metadata": {
        "id": "Lf8rGKhprRKt"
      }
    },
    {
      "cell_type": "code",
      "source": [
        "import locale\n",
        "def getpreferredencoding(do_setlocale = True):\n",
        "    return \"UTF-8\"\n",
        "locale.getpreferredencoding = getpreferredencoding\n",
        "\n",
        "%pip install --upgrade --quiet  langchain-google-genai pillow -q"
      ],
      "metadata": {
        "execution": {
          "iopub.status.busy": "2024-03-03T00:50:16.961543Z",
          "iopub.execute_input": "2024-03-03T00:50:16.962139Z",
          "iopub.status.idle": "2024-03-03T00:50:32.739084Z",
          "shell.execute_reply.started": "2024-03-03T00:50:16.962107Z",
          "shell.execute_reply": "2024-03-03T00:50:32.738042Z"
        },
        "trusted": true,
        "colab": {
          "base_uri": "https://localhost:8080/"
        },
        "id": "0yA62MnwrRKt",
        "outputId": "9593da9e-a2d0-451f-af73-38f75527627d"
      },
      "execution_count": null,
      "outputs": [
        {
          "output_type": "stream",
          "name": "stdout",
          "text": [
            "\u001b[2K     \u001b[90m━━━━━━━━━━━━━━━━━━━━━━━━━━━━━━━━━━━━━━━━\u001b[0m \u001b[32m4.5/4.5 MB\u001b[0m \u001b[31m18.1 MB/s\u001b[0m eta \u001b[36m0:00:00\u001b[0m\n",
            "\u001b[2K     \u001b[90m━━━━━━━━━━━━━━━━━━━━━━━━━━━━━━━━━━━━━━━━\u001b[0m \u001b[32m252.4/252.4 kB\u001b[0m \u001b[31m20.3 MB/s\u001b[0m eta \u001b[36m0:00:00\u001b[0m\n",
            "\u001b[2K     \u001b[90m━━━━━━━━━━━━━━━━━━━━━━━━━━━━━━━━━━━━━━━━\u001b[0m \u001b[32m64.2/64.2 kB\u001b[0m \u001b[31m7.6 MB/s\u001b[0m eta \u001b[36m0:00:00\u001b[0m\n",
            "\u001b[2K     \u001b[90m━━━━━━━━━━━━━━━━━━━━━━━━━━━━━━━━━━━━━━━━\u001b[0m \u001b[32m138.5/138.5 kB\u001b[0m \u001b[31m15.0 MB/s\u001b[0m eta \u001b[36m0:00:00\u001b[0m\n",
            "\u001b[?25h\u001b[31mERROR: pip's dependency resolver does not currently take into account all the packages that are installed. This behaviour is the source of the following dependency conflicts.\n",
            "imageio 2.31.6 requires pillow<10.1.0,>=8.3.2, but you have pillow 10.2.0 which is incompatible.\u001b[0m\u001b[31m\n",
            "\u001b[0m"
          ]
        }
      ]
    },
    {
      "cell_type": "code",
      "source": [
        "from langchain_google_genai import GoogleGenerativeAI\n",
        "\n",
        "llm = GoogleGenerativeAI(model=\"gemini-pro\", google_api_key=GOOGLE_API_KEY)\n",
        "print(\n",
        "    llm.invoke(\n",
        "        \"What are some of the pros and cons of Python as a programming language?\"\n",
        "    )\n",
        ")"
      ],
      "metadata": {
        "execution": {
          "iopub.status.busy": "2024-03-03T00:51:21.725898Z",
          "iopub.execute_input": "2024-03-03T00:51:21.726604Z",
          "iopub.status.idle": "2024-03-03T00:51:21.771330Z",
          "shell.execute_reply.started": "2024-03-03T00:51:21.726573Z",
          "shell.execute_reply": "2024-03-03T00:51:21.770139Z"
        },
        "trusted": true,
        "colab": {
          "base_uri": "https://localhost:8080/"
        },
        "id": "5wozRg92rRKw",
        "outputId": "f41b2e19-1dd3-4e50-8b6c-34405b343efd"
      },
      "execution_count": null,
      "outputs": [
        {
          "output_type": "stream",
          "name": "stdout",
          "text": [
            "**Pros:**\n",
            "\n",
            "* **Beginner-friendly:** Python's simple syntax and readable code make it easy for beginners to learn and understand.\n",
            "* **Versatile:** Python is a general-purpose language suitable for various applications, including web development, data science, machine learning, and scripting.\n",
            "* **Extensive library support:** Python has a vast collection of libraries and frameworks that provide out-of-the-box functionality for various tasks.\n",
            "* **Cross-platform:** Python programs can run on different operating systems (Windows, macOS, Linux) without the need for recompilation.\n",
            "* **Dynamically typed:** Python is a dynamically typed language, which allows for greater flexibility and rapid development.\n",
            "* **Interpreted:** Python is an interpreted language, making it easier to debug and iterate on code.\n",
            "\n",
            "**Cons:**\n",
            "\n",
            "* **Performance:** Compared to compiled languages, Python can be slower due to its interpreted nature.\n",
            "* **Memory usage:** Python programs tend to consume more memory than compiled languages.\n",
            "* **Lack of type safety:** Python's dynamic typing can lead to runtime errors if data types are not handled correctly.\n",
            "* **Inconsistent syntax:** Python has some inconsistencies in its syntax, which can be confusing for beginners.\n",
            "* **GIL (Global Interpreter Lock):** Python's GIL prevents parallel execution of multiple threads, limiting its performance in multithreaded applications.\n",
            "* **Lack of support for mobile development:** Python is not widely used for mobile app development compared to languages like Java or Swift.\n"
          ]
        }
      ]
    },
    {
      "cell_type": "code",
      "source": [
        "from langchain_google_genai import ChatGoogleGenerativeAI\n",
        "llm = ChatGoogleGenerativeAI(model=\"gemini-pro\",google_api_key=GOOGLE_API_KEY)\n",
        "result = llm.invoke(\"I want you to act as a poet who is sitting near the sea in the evening, listening to the rhythmic waves crashing against the shore. I would like you to capture the essence of the sea in your words and create a beautiful poem that evokes the emotions and sensations of being by the sea. \")\n",
        "print(result.content)"
      ],
      "metadata": {
        "execution": {
          "iopub.status.busy": "2024-03-02T15:26:50.476584Z",
          "iopub.execute_input": "2024-03-02T15:26:50.477271Z",
          "iopub.status.idle": "2024-03-02T15:26:50.523519Z",
          "shell.execute_reply.started": "2024-03-02T15:26:50.477237Z",
          "shell.execute_reply": "2024-03-02T15:26:50.522215Z"
        },
        "trusted": true,
        "colab": {
          "base_uri": "https://localhost:8080/"
        },
        "id": "9NWqDyX8rRKw",
        "outputId": "761c569e-8d2e-4eb4-db75-7b993349ddb5"
      },
      "execution_count": null,
      "outputs": [
        {
          "output_type": "stream",
          "name": "stdout",
          "text": [
            "**Ode to the Sea**\n",
            "\n",
            "In twilight's embrace, where whispers dance,\n",
            "I sit by the shore, lost in a trance.\n",
            "The waves' rhythmic crash, a symphony's call,\n",
            "Inviting me to surrender, to heed their thrall.\n",
            "\n",
            "A salty breeze caresses my face,\n",
            "Whispering secrets of time and space.\n",
            "The sun, a golden orb, sinks below the line,\n",
            "Casting hues of amber on the ocean's brine.\n",
            "\n",
            "The sea, a canvas of blues and greens,\n",
            "Mirrors the vastness of my dreams.\n",
            "Its depths conceal mysteries untold,\n",
            "Stories of ships and sailors bold.\n",
            "\n",
            "Its surface shimmers, a diamond's gleam,\n",
            "Reflecting the moon's ethereal beam.\n",
            "The waves, like dancers, sway and glide,\n",
            "Their movements graceful, their rhythm a guide.\n",
            "\n",
            "I feel the sea's embrace, its gentle sway,\n",
            "Washing away my cares, my troubles at bay.\n",
            "Its lullaby soothes my weary soul,\n",
            "Restoring balance, making me whole.\n",
            "\n",
            "Oh, sea, your beauty knows no bounds,\n",
            "A source of solace, where peace abounds.\n",
            "Your waves, your whispers, a symphony divine,\n",
            "A testament to nature's power and design.\n",
            "\n",
            "As darkness descends, the stars ignite,\n",
            "Guiding my thoughts through the moonlit night.\n",
            "The sea remains, a constant guide,\n",
            "A reminder of its presence by my side.\n",
            "\n",
            "So let me linger here, in this tranquil embrace,\n",
            "Immersed in the sea's timeless grace.\n",
            "May its rhythms forever fill my heart,\n",
            "A symphony of beauty, a work of art.\n"
          ]
        }
      ]
    },
    {
      "cell_type": "markdown",
      "source": [
        "## 2. [COHERE Model](https://cohere.com/)\n",
        "\n",
        "### [Guides and Concepts by COHERE platform about Generative AI](https://docs.cohere.com/docs/the-cohere-platform)\n",
        "### [Different Models available in Cohere](https://dashboard.cohere.com/playground/chat)"
      ],
      "metadata": {
        "id": "my60KHHxrRKw"
      }
    },
    {
      "cell_type": "markdown",
      "source": [
        "## [Using Cohere Models with COHERE Platform](https://docs.cohere.com/reference/about)"
      ],
      "metadata": {
        "id": "0HifD3Q_rRKw"
      }
    },
    {
      "cell_type": "code",
      "source": [
        "pip install cohere -q"
      ],
      "metadata": {
        "execution": {
          "iopub.status.busy": "2024-03-02T15:20:46.066985Z",
          "iopub.execute_input": "2024-03-02T15:20:46.067983Z",
          "iopub.status.idle": "2024-03-02T15:20:58.434882Z",
          "shell.execute_reply.started": "2024-03-02T15:20:46.067944Z",
          "shell.execute_reply": "2024-03-02T15:20:58.433787Z"
        },
        "trusted": true,
        "colab": {
          "base_uri": "https://localhost:8080/"
        },
        "id": "ZgGUN8l_rRKx",
        "outputId": "c3fa2a3f-9257-4d19-a543-37d406ec39e5"
      },
      "execution_count": null,
      "outputs": [
        {
          "output_type": "stream",
          "name": "stdout",
          "text": [
            "\u001b[2K     \u001b[90m━━━━━━━━━━━━━━━━━━━━━━━━━━━━━━━━━━━━━━━━\u001b[0m \u001b[32m52.0/52.0 kB\u001b[0m \u001b[31m1.3 MB/s\u001b[0m eta \u001b[36m0:00:00\u001b[0m\n",
            "\u001b[2K     \u001b[90m━━━━━━━━━━━━━━━━━━━━━━━━━━━━━━━━━━━━━━━━\u001b[0m \u001b[32m3.1/3.1 MB\u001b[0m \u001b[31m29.5 MB/s\u001b[0m eta \u001b[36m0:00:00\u001b[0m\n",
            "\u001b[?25h"
          ]
        }
      ]
    },
    {
      "cell_type": "code",
      "source": [
        "import cohere\n",
        "# set up the Cohere client.\n",
        "co = cohere.Client(cohere_api_key)\n",
        "response = co.chat(\n",
        "  chat_history=[\n",
        "    {\"role\": \"USER\", \"message\": \"Who discovered gravity?\"},\n",
        "    {\"role\": \"CHATBOT\", \"message\": \"The man who is widely credited with discovering gravity is Sir Isaac Newton\"}\n",
        "  ],\n",
        "  message=\"What year was he born?\",\n",
        "  # perform web search before answering the question. You can also use your own custom connector.\n",
        "  connectors=[{\"id\": \"web-search\"}]\n",
        ")\n",
        "print(response)"
      ],
      "metadata": {
        "execution": {
          "iopub.status.busy": "2024-03-02T15:49:22.769110Z",
          "iopub.execute_input": "2024-03-02T15:49:22.769451Z",
          "iopub.status.idle": "2024-03-02T15:49:39.697595Z",
          "shell.execute_reply.started": "2024-03-02T15:49:22.769423Z",
          "shell.execute_reply": "2024-03-02T15:49:39.696650Z"
        },
        "trusted": true,
        "colab": {
          "base_uri": "https://localhost:8080/"
        },
        "id": "oGbyMeEhrRKx",
        "outputId": "93188efe-4e8d-40e7-fb71-0f58c32a8427"
      },
      "execution_count": null,
      "outputs": [
        {
          "output_type": "stream",
          "name": "stdout",
          "text": [
            "cohere.Chat {\n",
            "\tid: e84b4b67-c7eb-4434-b85a-e9bdaa65791a\n",
            "\tresponse_id: e84b4b67-c7eb-4434-b85a-e9bdaa65791a\n",
            "\tgeneration_id: 6d2a341b-fa2f-4156-b138-3c686306a107\n",
            "\tmessage: What year was he born?\n",
            "\ttext: Isaac Newton was born on January 4 1643 according to the Gregorian calendar. This was recorded as December 25 1642 according to the Julian calendar, which was used in England at the time. This means his birth date is recorded as both December 25 and January 4.\n",
            "\tconversation_id: None\n",
            "\tprompt: None\n",
            "\tchat_history: None\n",
            "\tpreamble: None\n",
            "\tclient: <cohere.client.Client object at 0x780ac35eefb0>\n",
            "\ttoken_count: {'prompt_tokens': 1478, 'response_tokens': 54, 'total_tokens': 1532, 'billed_tokens': 77}\n",
            "\tmeta: {'api_version': {'version': '1'}, 'billed_units': {'input_tokens': 23, 'output_tokens': 54}}\n",
            "\tis_search_required: None\n",
            "\tcitations: [{'start': 25, 'end': 34, 'text': 'January 4', 'document_ids': ['web-search_7:3', 'web-search_4:1', 'web-search_1:69', 'web-search_4:30']}, {'start': 35, 'end': 39, 'text': '1643', 'document_ids': ['web-search_7:3', 'web-search_4:1', 'web-search_1:69', 'web-search_4:30', 'web-search_1:4']}, {'start': 57, 'end': 76, 'text': 'Gregorian calendar.', 'document_ids': ['web-search_7:3', 'web-search_1:69']}, {'start': 98, 'end': 114, 'text': 'December 25 1642', 'document_ids': ['web-search_7:3', 'web-search_4:1', 'web-search_1:69', 'web-search_1:4']}, {'start': 132, 'end': 147, 'text': 'Julian calendar', 'document_ids': ['web-search_7:3', 'web-search_1:69']}, {'start': 159, 'end': 187, 'text': 'used in England at the time.', 'document_ids': ['web-search_7:3']}, {'start': 234, 'end': 245, 'text': 'December 25', 'document_ids': ['web-search_7:3', 'web-search_4:1', 'web-search_1:69', 'web-search_1:4']}, {'start': 250, 'end': 260, 'text': 'January 4.', 'document_ids': ['web-search_7:3', 'web-search_4:1', 'web-search_1:69', 'web-search_4:30']}]\n",
            "\tdocuments: [{'id': 'web-search_7:3', 'snippet': '\\n\\nIsaac Newton was born 25 December 1642 Old Style (4 January 1643 on the Gregorian calendar, which is now used) at Woolsthorpe Manor in Woolsthorpe-by-Colsterworth, a hamlet in the county of Lincolnshire. (At the time of Newton\\'s birth, England had not adopted the Gregorian calendar and therefore his date of birth was recorded as 25 December, according to the Julian calendar.)\\n\\nNewton was born two months after the death of his father, a prosperous farmer also named Isaac Newton. His father was described as a \"wealthy and uneducated man\". Born prematurely, young Isaac was a small child; his mother Hannah Ayscough reportedly said that he could have fit inside a quart mug.', 'timestamp': '2024-03-02T08:38:13', 'title': 'Early life of Isaac Newton - Wikipedia', 'url': 'https://en.wikipedia.org/wiki/Early_life_of_Isaac_Newton'}, {'id': 'web-search_4:1', 'snippet': ' In 1705, he was knighted by Queen Anne of England, making him Sir Isaac Newton.\\n\\nEarly Life and Family\\n\\nNewton was born on January 4, 1643, in Woolsthorpe, Lincolnshire, England. Using the \"old\" Julian calendar, Newton\\'s birth date is sometimes displayed as December 25, 1642.\\n\\nNewton was the only son of a prosperous local farmer, also named Isaac, who died three months before he was born. A premature baby born tiny and weak, Newton was not expected to survive.\\n\\nWhen he was 3 years old, his mother, Hannah Ayscough Newton, remarried a well-to-do minister, Barnabas Smith, and went to live with him, leaving young Newton with his maternal grandmother.', 'timestamp': '2024-03-02T15:12:40', 'title': 'Isaac Newton - Quotes, Facts & Laws', 'url': 'https://www.biography.com/scientists/isaac-newton'}, {'id': 'web-search_1:69', 'snippet': \" At Newton's birth, Gregorian dates were ten days ahead of Julian dates; thus, his birth is recorded as taking place on 25 December 1642 Old Style, but it can be converted to a New Style (modern) date of 4 January 1643. By the time of his death, the difference between the calendars had increased to eleven days. Moreover, he died in the period after the start of the New Style year on 1 January but before that of the Old Style new year on 25 March. His death occurred on 20 March 1726, according to the Old Style calendar, but the year is usually adjusted to 1727. A full conversion to New Style gives the date 31 March 1727.\\n\\n^ This claim was made by William Stukeley in 1727, in a letter about Newton written to Richard Mead.\", 'timestamp': '2024-03-02T21:29:29', 'title': 'Isaac Newton - Wikipedia', 'url': 'https://en.wikipedia.org/wiki/Isaac_Newton'}, {'id': 'web-search_4:30', 'snippet': \"\\n\\nBirth date: January 4, 1643\\n\\nBirth City: Woolsthorpe, Lincolnshire, England\\n\\nBirth Country: United Kingdom\\n\\nBest Known For: Isaac Newton was an English physicist and mathematician famous for his laws of physics. He was a key figure in the Scientific Revolution of the 17th century.\\n\\nScience and Medicine\\n\\nTechnology and Engineering\\n\\nEducation and Academia\\n\\nAstrological Sign: Capricorn\\n\\nUniversity of Cambridge, Trinity College\\n\\nIsaac Newton helped develop the principles of modern physics, including the laws of motion, and is credited as one of the great minds of the 17th-century Scientific Revolution.\\n\\nIn 1687, Newton published his most acclaimed work, 'Philosophiae Naturalis Principia Mathematica' ('Mathematical Principles of Natural Philosophy'), which has been called the single most influential book on physics.\", 'timestamp': '2024-03-02T15:12:40', 'title': 'Isaac Newton - Quotes, Facts & Laws', 'url': 'https://www.biography.com/scientists/isaac-newton'}, {'id': 'web-search_1:4', 'snippet': ' He was knighted by Queen Anne in 1705 and spent the last three decades of his life in London, serving as Warden (1696–1699) and Master (1699–1727) of the Royal Mint, as well as president of the Royal Society (1703–1727).\\n\\nIsaac Newton was born (according to the Julian calendar in use in England at the time) on Christmas Day, 25 December 1642 (NS 4 January 1643) at Woolsthorpe Manor in Woolsthorpe-by-Colsterworth, a hamlet in the county of Lincolnshire. His father, also named Isaac Newton, had died three months before. Born prematurely, Newton was a small child; his mother Hannah Ayscough reportedly said that he could have fit inside a quart mug.', 'timestamp': '2024-03-02T21:29:29', 'title': 'Isaac Newton - Wikipedia', 'url': 'https://en.wikipedia.org/wiki/Isaac_Newton'}]\n",
            "\tsearch_results: [{'search_query': {'text': 'Isaac Newton birth year', 'generation_id': 'addb058a-e071-46a4-8fbb-436d1cf5b942'}, 'document_ids': ['web-search_1:69', 'web-search_1:4', 'web-search_4:1', 'web-search_4:30', 'web-search_7:3'], 'connector': {'id': 'web-search'}}]\n",
            "\tsearch_queries: [{'text': 'Isaac Newton birth year', 'generation_id': 'addb058a-e071-46a4-8fbb-436d1cf5b942'}]\n",
            "\tfinish_reason: COMPLETE\n",
            "}\n"
          ]
        }
      ]
    },
    {
      "cell_type": "code",
      "source": [
        "to_markdown(response.text)"
      ],
      "metadata": {
        "execution": {
          "iopub.status.busy": "2024-03-02T15:49:39.699158Z",
          "iopub.execute_input": "2024-03-02T15:49:39.699429Z",
          "iopub.status.idle": "2024-03-02T15:49:39.705558Z",
          "shell.execute_reply.started": "2024-03-02T15:49:39.699405Z",
          "shell.execute_reply": "2024-03-02T15:49:39.704596Z"
        },
        "trusted": true,
        "colab": {
          "base_uri": "https://localhost:8080/",
          "height": 80
        },
        "id": "LvP7g2JYrRKy",
        "outputId": "810b0aa8-0c20-4468-cd36-1bb1dea3aa3b"
      },
      "execution_count": null,
      "outputs": [
        {
          "output_type": "execute_result",
          "data": {
            "text/plain": [
              "<IPython.core.display.Markdown object>"
            ],
            "text/markdown": "> Isaac Newton was born on January 4 1643 according to the Gregorian calendar. This was recorded as December 25 1642 according to the Julian calendar, which was used in England at the time. This means his birth date is recorded as both December 25 and January 4."
          },
          "metadata": {},
          "execution_count": 28
        }
      ]
    },
    {
      "cell_type": "code",
      "source": [
        "# Create another prompt\n",
        "message = \"Write about Quntum Computing and how can we do qunatum computing with machine learning Models and what should be our assumptions .\"\n",
        "\n",
        "response = co.chat(\n",
        "    model='command-nightly',\n",
        "    message=message,\n",
        ")\n",
        "print(response.text)"
      ],
      "metadata": {
        "execution": {
          "iopub.status.busy": "2024-03-02T15:49:52.703891Z",
          "iopub.execute_input": "2024-03-02T15:49:52.704482Z",
          "iopub.status.idle": "2024-03-02T15:49:59.621712Z",
          "shell.execute_reply.started": "2024-03-02T15:49:52.704455Z",
          "shell.execute_reply": "2024-03-02T15:49:59.620818Z"
        },
        "trusted": true,
        "colab": {
          "base_uri": "https://localhost:8080/"
        },
        "id": "3Cu249KMrRKy",
        "outputId": "e2b3dd22-be03-4e6c-c0fe-d5b33181a4c7"
      },
      "execution_count": null,
      "outputs": [
        {
          "output_type": "stream",
          "name": "stdout",
          "text": [
            "Quantum computing is an emerging technology that harnesses the laws of quantum mechanics to solve problems too complex for classical computers. Quantum computers use quantum bits, or qubits, to encode information and process vast amounts of data in parallel, enabling exponentially faster computation for certain tasks.\n",
            "\n",
            "Quantum machine learning (QML) is an interdisciplinary field combining quantum computing with machine learning techniques to address complex challenges. By leveraging quantum phenomena, QML aims to solve challenging machine learning problems, such as enhancing data classification, clustering, and regression techniques.\n",
            "\n",
            "To perform quantum computing with machine learning models, the following steps can be taken:\n",
            "\n",
            "1. Quantum Data Encoding: First, classical machine learning data must be converted and encoded into a quantum representation. This process involves mapping the classical data onto qubits, utilizing techniques such as amplitude encoding or angle encoding to represent the information quantumly.\n",
            "\n",
            "2. Quantum Model Training: Next, the encoded data is used to train quantum machine learning models. Quantum algorithms, such as Grover's algorithm or quantum support vector machines, are utilized to train the model on the quantum data. This step aims to optimize the model's performance and accuracy on the quantum computer.\n",
            "\n",
            "3. Quantum Model Inference: After training, the quantum model can be utilized for inference tasks. The trained model is deployed on a quantum computer, where it can process quantum data and generate predictions or classifications based on the learned patterns. The results are then measured and decoded back into classical information.\n",
            "\n",
            "4. Comparison and Evaluation: Finally, the performance of the quantum machine learning model is compared to classical machine learning models. This step involves evaluating the accuracy, speed, and overall effectiveness of the quantum model in relation to classical counterparts. This comparison helps to validate the advantages and potential applications of quantum computing in machine learning tasks.\n",
            "\n",
            "For successful quantum computing with machine learning, certain assumptions can be made:\n",
            "\n",
            "1. Speed and Parallelism: Quantum computers offer exponential speed advantages for specific problems, assuming efficient algorithms are utilized to harness parallel processing capabilities.\n",
            "\n",
            "2. Enhanced Data Processing: Quantum computing can provide improved data processing and analysis, particularly for complex datasets with intricate patterns and high-dimensional structures.\n",
            "\n",
            "3. Quantum Algorithm Efficiency: The effectiveness of QML relies on the development and optimization of quantum algorithms to efficiently solve specific machine learning problems. Research in this area aims to create robust and efficient quantum algorithms for various tasks.\n",
            "\n",
            "4. Scalable Qubits: The success of quantum computing depends on the availability of scalable and reliable qubits. Advancements in qubit technology, such as error correction and fault-tolerant designs, are crucial for building practical quantum computers.\n",
            "\n",
            "5. Domain-Specific Applications: Initial applications of QML are likely to be domain-specific, focusing on areas such as optimization, data analysis, and simulation, where the advantages of quantum computing can be leveraged to provide significant performance gains.\n",
            "\n",
            "In summary, combining quantum computing with machine learning holds great potential for solving complex problems. While challenges remain in algorithm development, qubit scalability, and error correction, the field of QML is actively working to overcome these obstacles, driving the advancement of quantum-enhanced machine learning applications. As research and technology continue to evolve, QML may revolutionize various domains and provide powerful tools for data analysis and problem-solving.\n"
          ]
        }
      ]
    },
    {
      "cell_type": "code",
      "source": [
        "## Get the response in a markdown format\n",
        "to_markdown(response.text)"
      ],
      "metadata": {
        "colab": {
          "base_uri": "https://localhost:8080/",
          "height": 745
        },
        "id": "qp1pcLtWxY3R",
        "outputId": "b42d002b-34b3-4520-ec50-72098a492cd4"
      },
      "execution_count": null,
      "outputs": [
        {
          "output_type": "execute_result",
          "data": {
            "text/plain": [
              "<IPython.core.display.Markdown object>"
            ],
            "text/markdown": "> Quantum computing is an emerging technology that harnesses the laws of quantum mechanics to solve problems too complex for classical computers. Quantum computers use quantum bits, or qubits, to encode information and process vast amounts of data in parallel, enabling exponentially faster computation for certain tasks.\n> \n> Quantum machine learning (QML) is an interdisciplinary field combining quantum computing with machine learning techniques to address complex challenges. By leveraging quantum phenomena, QML aims to solve challenging machine learning problems, such as enhancing data classification, clustering, and regression techniques.\n> \n> To perform quantum computing with machine learning models, the following steps can be taken:\n> \n> 1. Quantum Data Encoding: First, classical machine learning data must be converted and encoded into a quantum representation. This process involves mapping the classical data onto qubits, utilizing techniques such as amplitude encoding or angle encoding to represent the information quantumly.\n> \n> 2. Quantum Model Training: Next, the encoded data is used to train quantum machine learning models. Quantum algorithms, such as Grover's algorithm or quantum support vector machines, are utilized to train the model on the quantum data. This step aims to optimize the model's performance and accuracy on the quantum computer.\n> \n> 3. Quantum Model Inference: After training, the quantum model can be utilized for inference tasks. The trained model is deployed on a quantum computer, where it can process quantum data and generate predictions or classifications based on the learned patterns. The results are then measured and decoded back into classical information.\n> \n> 4. Comparison and Evaluation: Finally, the performance of the quantum machine learning model is compared to classical machine learning models. This step involves evaluating the accuracy, speed, and overall effectiveness of the quantum model in relation to classical counterparts. This comparison helps to validate the advantages and potential applications of quantum computing in machine learning tasks.\n> \n> For successful quantum computing with machine learning, certain assumptions can be made:\n> \n> 1. Speed and Parallelism: Quantum computers offer exponential speed advantages for specific problems, assuming efficient algorithms are utilized to harness parallel processing capabilities.\n> \n> 2. Enhanced Data Processing: Quantum computing can provide improved data processing and analysis, particularly for complex datasets with intricate patterns and high-dimensional structures.\n> \n> 3. Quantum Algorithm Efficiency: The effectiveness of QML relies on the development and optimization of quantum algorithms to efficiently solve specific machine learning problems. Research in this area aims to create robust and efficient quantum algorithms for various tasks.\n> \n> 4. Scalable Qubits: The success of quantum computing depends on the availability of scalable and reliable qubits. Advancements in qubit technology, such as error correction and fault-tolerant designs, are crucial for building practical quantum computers.\n> \n> 5. Domain-Specific Applications: Initial applications of QML are likely to be domain-specific, focusing on areas such as optimization, data analysis, and simulation, where the advantages of quantum computing can be leveraged to provide significant performance gains.\n> \n> In summary, combining quantum computing with machine learning holds great potential for solving complex problems. While challenges remain in algorithm development, qubit scalability, and error correction, the field of QML is actively working to overcome these obstacles, driving the advancement of quantum-enhanced machine learning applications. As research and technology continue to evolve, QML may revolutionize various domains and provide powerful tools for data analysis and problem-solving."
          },
          "metadata": {},
          "execution_count": 32
        }
      ]
    },
    {
      "cell_type": "markdown",
      "source": [
        "## [ Using Cohere Models with Langchain Framework](https://python.langchain.com/docs/integrations/providers/cohere)"
      ],
      "metadata": {
        "id": "ukvNcnb1rRKz"
      }
    },
    {
      "cell_type": "code",
      "source": [
        "pip install langchain-community -q"
      ],
      "metadata": {
        "execution": {
          "iopub.status.busy": "2024-03-02T15:50:03.801060Z",
          "iopub.execute_input": "2024-03-02T15:50:03.801396Z",
          "iopub.status.idle": "2024-03-02T15:50:16.018917Z",
          "shell.execute_reply.started": "2024-03-02T15:50:03.801369Z",
          "shell.execute_reply": "2024-03-02T15:50:16.017829Z"
        },
        "trusted": true,
        "colab": {
          "base_uri": "https://localhost:8080/"
        },
        "id": "V0CAqMVerRKz",
        "outputId": "b1a09ce6-fa33-44c7-ba89-8af94ecbcbc9"
      },
      "execution_count": null,
      "outputs": [
        {
          "output_type": "stream",
          "name": "stdout",
          "text": [
            "\u001b[2K     \u001b[90m━━━━━━━━━━━━━━━━━━━━━━━━━━━━━━━━━━━━━━━━\u001b[0m \u001b[32m1.8/1.8 MB\u001b[0m \u001b[31m7.7 MB/s\u001b[0m eta \u001b[36m0:00:00\u001b[0m\n",
            "\u001b[2K     \u001b[90m━━━━━━━━━━━━━━━━━━━━━━━━━━━━━━━━━━━━━━━━\u001b[0m \u001b[32m49.4/49.4 kB\u001b[0m \u001b[31m4.4 MB/s\u001b[0m eta \u001b[36m0:00:00\u001b[0m\n",
            "\u001b[?25h"
          ]
        }
      ]
    },
    {
      "cell_type": "code",
      "source": [
        "## Chat\n",
        "from langchain_community.chat_models import ChatCohere\n",
        "from langchain_core.messages import HumanMessage\n",
        "chat = ChatCohere(cohere_api_key=cohere_api_key)\n",
        "messages = [HumanMessage(content=\"knock knock\")]\n",
        "print(chat(messages))"
      ],
      "metadata": {
        "execution": {
          "iopub.status.busy": "2024-03-02T15:50:33.776501Z",
          "iopub.execute_input": "2024-03-02T15:50:33.777422Z",
          "iopub.status.idle": "2024-03-02T15:50:34.828699Z",
          "shell.execute_reply.started": "2024-03-02T15:50:33.777386Z",
          "shell.execute_reply": "2024-03-02T15:50:34.827802Z"
        },
        "trusted": true,
        "colab": {
          "base_uri": "https://localhost:8080/"
        },
        "id": "eWpkDubYrRKz",
        "outputId": "26ba0566-ed26-4d1d-f43c-4bb9a662cb83"
      },
      "execution_count": null,
      "outputs": [
        {
          "output_type": "stream",
          "name": "stderr",
          "text": [
            "/usr/local/lib/python3.10/dist-packages/langchain_core/_api/deprecation.py:117: LangChainDeprecationWarning: The function `__call__` was deprecated in LangChain 0.1.7 and will be removed in 0.2.0. Use invoke instead.\n",
            "  warn_deprecated(\n"
          ]
        },
        {
          "output_type": "stream",
          "name": "stdout",
          "text": [
            "content=\"Who's there?\"\n"
          ]
        }
      ]
    },
    {
      "cell_type": "code",
      "source": [
        "## Lets make our LLM to write a poetry\n",
        "from langchain_community.llms import Cohere\n",
        "\n",
        "llm = Cohere(model=\"command\",cohere_api_key=cohere_api_key)\n",
        "print(llm.invoke(\"I want you to act as a poet who is sitting near the sea in the evening, listening to the rhythmic waves crashing against the shore. I would like you to capture the essence of the sea in your words and create a beautiful poem that evokes the emotions and sensations of being by the sea.\"))"
      ],
      "metadata": {
        "execution": {
          "iopub.status.busy": "2024-03-02T15:50:45.933281Z",
          "iopub.execute_input": "2024-03-02T15:50:45.933988Z",
          "iopub.status.idle": "2024-03-02T15:50:53.505377Z",
          "shell.execute_reply.started": "2024-03-02T15:50:45.933946Z",
          "shell.execute_reply": "2024-03-02T15:50:53.504533Z"
        },
        "trusted": true,
        "colab": {
          "base_uri": "https://localhost:8080/"
        },
        "id": "jTRsw0PsrRKz",
        "outputId": "73ab22fd-de29-4b31-8d70-9fa230824048"
      },
      "execution_count": null,
      "outputs": [
        {
          "output_type": "stream",
          "name": "stdout",
          "text": [
            " As the sun dipped beneath the horizon,  \n",
            "It painted the sky with hues divine, \n",
            "From pale, pastel pink to fiery crimson, \n",
            " A fleeting work of art, a gift for the evening. \n",
            "\n",
            "The waves extend their dance upon the shore, \n",
            " Rhythmical, steady, poised,\n",
            "Like nature's own orchestral composition, \n",
            " A soothing melody, calming emotions unchained. \n",
            "\n",
            "The sea breathes life into this solemn sky, \n",
            " Inhale its vitality, exhale your worries,\n",
            " Its vastness embodies both strength and vulnerability, \n",
            " A mirror for the tortuous journey of life's vagaries. \n",
            "\n",
            "Let the whispering breeze grant you solace, \n",
            "Carrying the kiss of the sea upon its lips, \n",
            "It weaves a magical spell, a mesmeric trance, \n",
            "In this moment, mere beings become creatures of peace. \n",
            "\n",
            "The water leaves its everlasting kiss on the sand, \n",
            " Gracing the shore with its presence, ever transient,\n",
            "Each gentle splash is a lesson in humility, \n",
            " For we are but mere spectators of nature's great precision. \n",
            "\n",
            "Beneath the cover of twilight, the sea and I find harmony, \n",
            " A fleeting moment of connection, a silent communion,\n",
            "In the vast tapestry of existence\n"
          ]
        }
      ]
    },
    {
      "cell_type": "code",
      "source": [
        "from langchain_community.embeddings import CohereEmbeddings\n",
        "\n",
        "# Instantiate CohereEmbeddings with the model and cohere_api_key\n",
        "embeddings = CohereEmbeddings(model=\"embed-english-light-v3.0\", cohere_api_key=cohere_api_key)\n",
        "\n",
        "# Embed documents using the embed_documents method\n",
        "vector_embeddings = embeddings.embed_documents([\"Hello, How are you?.\"])\n",
        "\n",
        "# Print the first 10 dimensions of the embeddings\n",
        "print(\"first 10 dimensions values of embeddings \")\n",
        "print(vector_embeddings[0][:10])\n",
        "print(\"_\" * 100)\n",
        "\n",
        "# Print the total dimensions of the embeddings\n",
        "print(f\"Total dimensions of embeddings {len(vector_embeddings[0])}\")\n"
      ],
      "metadata": {
        "execution": {
          "iopub.status.busy": "2024-03-02T15:50:59.171925Z",
          "iopub.execute_input": "2024-03-02T15:50:59.172508Z",
          "iopub.status.idle": "2024-03-02T15:50:59.515066Z",
          "shell.execute_reply.started": "2024-03-02T15:50:59.172476Z",
          "shell.execute_reply": "2024-03-02T15:50:59.514181Z"
        },
        "trusted": true,
        "colab": {
          "base_uri": "https://localhost:8080/"
        },
        "id": "6JhI7IKjrRK0",
        "outputId": "fe5aed2e-0005-4d4a-8a43-b978735124da"
      },
      "execution_count": null,
      "outputs": [
        {
          "output_type": "stream",
          "name": "stdout",
          "text": [
            "first 10 dimensions values of embeddings \n",
            "[0.045806885, 0.0016412735, -0.012580872, 0.0064430237, -0.043640137, 0.010169983, 0.0703125, 0.054107666, 0.0047912598, 0.01398468]\n",
            "____________________________________________________________________________________________________\n",
            "Total dimensions of embeddings 384\n"
          ]
        }
      ]
    },
    {
      "cell_type": "markdown",
      "source": [
        "## Using Hugging Face Models"
      ],
      "metadata": {
        "id": "qZkMBvf6rRK0"
      }
    },
    {
      "cell_type": "code",
      "source": [
        "pip install huggingface_hub -U transformers  accelerate -q"
      ],
      "metadata": {
        "execution": {
          "iopub.status.busy": "2024-03-02T16:30:25.396550Z",
          "iopub.execute_input": "2024-03-02T16:30:25.396932Z",
          "iopub.status.idle": "2024-03-02T16:30:38.986947Z",
          "shell.execute_reply.started": "2024-03-02T16:30:25.396904Z",
          "shell.execute_reply": "2024-03-02T16:30:38.985809Z"
        },
        "trusted": true,
        "colab": {
          "base_uri": "https://localhost:8080/"
        },
        "id": "lOn04f-YrRK0",
        "outputId": "e136313f-d682-411e-e5ff-2c29e93efff0"
      },
      "execution_count": null,
      "outputs": [
        {
          "output_type": "stream",
          "name": "stdout",
          "text": [
            "\u001b[2K     \u001b[90m━━━━━━━━━━━━━━━━━━━━━━━━━━━━━━━━━━━━━━━━\u001b[0m \u001b[32m346.2/346.2 kB\u001b[0m \u001b[31m2.5 MB/s\u001b[0m eta \u001b[36m0:00:00\u001b[0m\n",
            "\u001b[2K     \u001b[90m━━━━━━━━━━━━━━━━━━━━━━━━━━━━━━━━━━━━━━━━\u001b[0m \u001b[32m8.5/8.5 MB\u001b[0m \u001b[31m38.3 MB/s\u001b[0m eta \u001b[36m0:00:00\u001b[0m\n",
            "\u001b[2K     \u001b[90m━━━━━━━━━━━━━━━━━━━━━━━━━━━━━━━━━━━━━━━━\u001b[0m \u001b[32m280.0/280.0 kB\u001b[0m \u001b[31m35.1 MB/s\u001b[0m eta \u001b[36m0:00:00\u001b[0m\n",
            "\u001b[?25h"
          ]
        }
      ]
    },
    {
      "cell_type": "code",
      "source": [
        "# pip install accelerate\n",
        "from transformers import AutoTokenizer, AutoModelForCausalLM\n",
        "### Download Tokenizer and Model Google/gemma-2b\n",
        "tokenizer = AutoTokenizer.from_pretrained(\"google/gemma-2b\",token=hugging_face_api_key)\n",
        "model = AutoModelForCausalLM.from_pretrained(\"google/gemma-2b\", device_map=\"auto\",token=hugging_face_api_key)"
      ],
      "metadata": {
        "execution": {
          "iopub.status.busy": "2024-03-02T16:50:05.476883Z",
          "iopub.execute_input": "2024-03-02T16:50:05.477805Z",
          "iopub.status.idle": "2024-03-02T16:50:13.035887Z",
          "shell.execute_reply.started": "2024-03-02T16:50:05.477764Z",
          "shell.execute_reply": "2024-03-02T16:50:13.035081Z"
        },
        "trusted": true,
        "colab": {
          "base_uri": "https://localhost:8080/",
          "height": 369,
          "referenced_widgets": [
            "2d81740bdcb64cf787feda109391886e",
            "e0ebce6c4ed74f2ca4e70fca1f491f8a",
            "0b71520eda574e668bc98a59d1981dc6",
            "984f443282ed4e5884bd8412acb90fd0",
            "1b425e969148477dbf6cfc8d7117fd47",
            "d415f811f903457d804eadaa2e8f1315",
            "8c7b3917cb214e5d8c638c79733d0766",
            "9c60c271179b479f8bf807f9bd632e9e",
            "b9a8f424261f4eb896c269ead1edd040",
            "9da47cd954bc496981e323a35ae4c72d",
            "c6c3c2a27ca04f14a4b2dfceb7bb857c",
            "3eb96ff0cb3b4f7f8dcb7d013f7ce33b",
            "ffb63645ac2a40f4b71132435129f34a",
            "a16271a5f47e418c809c7d7d9091838b",
            "0c5041ff1fc54b3b8f79ed77cb72e468",
            "fbe19296d1534bb38a26a312ceb0e9f2",
            "360e76f7e1564cd8aa41b58f7ee7e5f7",
            "522227d9ff0d4055b98a2bb983353791",
            "6c71159ee7e34523ba8d7508d263caa1",
            "e9ca734d8b7541c48b0815a28176d680",
            "46fc5e0060ae4a08b259a1790da15a46",
            "97b9e996f8084b4f81791c0faabe227b",
            "46e30d3c781e4052b494782e919d9a3d",
            "3b4ccf4627db4b75981af19c3f6f5246",
            "dfb578234ed7450ca78c6814081e991d",
            "d579dc254a5f43d383646c34cd500e99",
            "3128da4a88d94583af2f5b896965f5a7",
            "249eb67b4d0d46c3b62d0d55ced27e3e",
            "b811f51b5102437a9d47de9e9411734a",
            "d91cb5de8a6a41e2a93bc253688ff0ca",
            "fdfb585483c143e8b015302ed5afee37",
            "b33bfcf3a0e74dbba6c8c7803f5d60fe",
            "1d19550572f44c1ba15de34cf493ccdb",
            "6ee09b6841f2485fa0399ada124b117a",
            "6688c1a113b4414e8bbecc7421901a67",
            "ca251b5017d447eaa2958f6e57e17a40",
            "e4f952c89c2c45c98bf0fc018fd4148a",
            "7e82d77d08a144cd98cd5a5f44b66924",
            "f02516d50dec43c5afda5e2f330f6e6d",
            "db8e4a4e738e43ad9e0a0d1592638a82",
            "54ba42473f654841956f6909b7f4eef8",
            "35640ee0899e47e69f8287c03d217aa0",
            "b3484fd5787e4b129108355fe1e1a271",
            "54d38b5419d646b58b438f7b1302daf7",
            "bba7ad1017e348f1b2c6acbc8b65cb93",
            "b033156427c44c108f7a8d1303b2edb2",
            "6740abf6d5834cf18e21a44ed9a4f2e9",
            "4180e752c87e418e8488f1038a2aa052",
            "7776b29964be4297b2a8bfc32f2d3495",
            "3fe142d29b56485d9da54a246d6636b2",
            "cf7c117ede2446cfb8c0827fb7c689a1",
            "3cfb09b61cf2439b82a51f4454f7125f",
            "c57e1d07fc1a406d939cb8373bd7864f",
            "ac00a2c68ce8419693896464f7fdf407",
            "34ebe367c28f440abc9318bf30b14870",
            "8a4a1c7fd7c246c780b53f96fdacc3c5",
            "e96d85810dbc4a319ea1447ce271a3e2",
            "d7cb5c2adc8141ec8c3b08b1aa3704f5",
            "a1fc081607b940e7a4e95ec014c26464",
            "5123c43aa7a14302aa8513b9b458b001",
            "93d4327a2b844241a963172348cccbd5",
            "cf1e61c34708450f92a73183d570b0ad",
            "8d93dd8254ac4fcb959cee3b7c67cc25",
            "5ba5b9543e73452eb2a1ffe854e95982",
            "fcc7cb2bd1574c049e436855abaf70f5",
            "8f536879b883424d949c448e80c0c108",
            "30d6eeb842424a37aab200876dc9b91b",
            "3496858405634e79be8a79a71762a1c5",
            "4a883d32b7204277841cb00cce7c2999",
            "21db07a28e0440b795ef1aed12c4a475",
            "9d9a229300df4034a50f47dc2c955ac1",
            "9c6c3d5ff50e4e57a0a6d692fdd5eb1e",
            "5bec85f1e91a4f53af65cfeaeab8f4d1",
            "39f1935ae2484188925e76804480aa6f",
            "438cc26cd04d4801ae1b8dd872553509",
            "5631e07b44d746069b3e517dcdab311e",
            "f76f1d25e881440a863e47fa58b8aa31",
            "eba28c5012f64191808a11255fcb443d",
            "d8954bde78534acab19b55e80ee18367",
            "e5724d92993747bebf13224183a35812",
            "a41b3cdc578d45bda2891432f8b17cdd",
            "2856aac7c0ec459d95f428cb8b586638",
            "ccbbbb22c1e946a89857efa3a181ca1f",
            "39675bd6e74c4be08504e5ae033f0819",
            "f143b41966fa4076a9e5aab033dad01e",
            "452936bafe3b45cfa20b29710401cbba",
            "c6c7b4099a214081a0151f14f52abc6d",
            "9d84afad15124bf68ae5637fc91ad0b4",
            "e70fc1dfc8144fcda861660097809115",
            "d4188577026a49cab2cfb234c992a703",
            "c3ba17c5f0364ee2b988ae0f409e07f9",
            "e485dbc6456a4710a2da93209d6cbc7d",
            "f74eeeb3c00d417290f8d8d035f5e8c6",
            "155df0095b1a429dbfd1bc05181e3af8",
            "f81d5da1a9f64a359b0bef916a60bb3b",
            "fbfc4c9f61d44d69b8b29d11a26bc8a7",
            "4fc473aa6b024a5a908991cce96c608d",
            "a23bcb905db94901b2d9a201300424b7",
            "c1ef21dff26b410da4673e359f23ac64",
            "a4d4ca7be7cd481ca82c2b002c9554dc",
            "21e1b7ed849542b788e6f33bdb3fdf26",
            "7e39568cf35649c992dd06b7c04220ee",
            "f5de880be2a74e30bf571486ef0568d9",
            "ca8089bff5884bdd97e05cfe6ead869b",
            "611be3656dd74af29f8d371995ea044c",
            "0eec088e9002402ea0018398d0b66fe8",
            "80217935b5d845d5bf3e6bf710c4fbb0",
            "01c1ed0b07f7476aaebfbca42fd41f61",
            "2b640c6e7a37431a8e2ea7164392d059",
            "4561f3ad629c43e0a569ee9ea2a1c52e",
            "60306200a9fc4c0ab91ce7acab5cdcc8",
            "6025534d78ad4c40b4bce31b4eadf46e",
            "f214660d2c5946d2b5d140f3e5c46dea",
            "a6d27231a814466dbcc54b6329109a08",
            "8f56df17a9924becbef0501f55f96446",
            "e19a68cb0ba64856a8b385a763cc1237",
            "e4a7ef6a154b432bb21b2d4386938819",
            "2edc33211fd3471b8a9f75e07e6b846f",
            "422e8f6634e748849ec2194795fda40a",
            "12acdbfde8db483b84e016daf287a981",
            "f29184e6d3f24e92b3f2a54fe59755aa"
          ]
        },
        "id": "CgYqRmMNrRK1",
        "outputId": "69ec554b-3d78-47e4-9e49-9a989012d82d"
      },
      "execution_count": null,
      "outputs": [
        {
          "output_type": "display_data",
          "data": {
            "text/plain": [
              "tokenizer_config.json:   0%|          | 0.00/1.11k [00:00<?, ?B/s]"
            ],
            "application/vnd.jupyter.widget-view+json": {
              "version_major": 2,
              "version_minor": 0,
              "model_id": "2d81740bdcb64cf787feda109391886e"
            }
          },
          "metadata": {}
        },
        {
          "output_type": "display_data",
          "data": {
            "text/plain": [
              "tokenizer.model:   0%|          | 0.00/4.24M [00:00<?, ?B/s]"
            ],
            "application/vnd.jupyter.widget-view+json": {
              "version_major": 2,
              "version_minor": 0,
              "model_id": "3eb96ff0cb3b4f7f8dcb7d013f7ce33b"
            }
          },
          "metadata": {}
        },
        {
          "output_type": "display_data",
          "data": {
            "text/plain": [
              "tokenizer.json:   0%|          | 0.00/17.5M [00:00<?, ?B/s]"
            ],
            "application/vnd.jupyter.widget-view+json": {
              "version_major": 2,
              "version_minor": 0,
              "model_id": "46e30d3c781e4052b494782e919d9a3d"
            }
          },
          "metadata": {}
        },
        {
          "output_type": "display_data",
          "data": {
            "text/plain": [
              "special_tokens_map.json:   0%|          | 0.00/555 [00:00<?, ?B/s]"
            ],
            "application/vnd.jupyter.widget-view+json": {
              "version_major": 2,
              "version_minor": 0,
              "model_id": "6ee09b6841f2485fa0399ada124b117a"
            }
          },
          "metadata": {}
        },
        {
          "output_type": "display_data",
          "data": {
            "text/plain": [
              "config.json:   0%|          | 0.00/627 [00:00<?, ?B/s]"
            ],
            "application/vnd.jupyter.widget-view+json": {
              "version_major": 2,
              "version_minor": 0,
              "model_id": "bba7ad1017e348f1b2c6acbc8b65cb93"
            }
          },
          "metadata": {}
        },
        {
          "output_type": "display_data",
          "data": {
            "text/plain": [
              "model.safetensors.index.json:   0%|          | 0.00/13.5k [00:00<?, ?B/s]"
            ],
            "application/vnd.jupyter.widget-view+json": {
              "version_major": 2,
              "version_minor": 0,
              "model_id": "8a4a1c7fd7c246c780b53f96fdacc3c5"
            }
          },
          "metadata": {}
        },
        {
          "output_type": "display_data",
          "data": {
            "text/plain": [
              "Downloading shards:   0%|          | 0/2 [00:00<?, ?it/s]"
            ],
            "application/vnd.jupyter.widget-view+json": {
              "version_major": 2,
              "version_minor": 0,
              "model_id": "30d6eeb842424a37aab200876dc9b91b"
            }
          },
          "metadata": {}
        },
        {
          "output_type": "display_data",
          "data": {
            "text/plain": [
              "model-00001-of-00002.safetensors:   0%|          | 0.00/4.95G [00:00<?, ?B/s]"
            ],
            "application/vnd.jupyter.widget-view+json": {
              "version_major": 2,
              "version_minor": 0,
              "model_id": "eba28c5012f64191808a11255fcb443d"
            }
          },
          "metadata": {}
        },
        {
          "output_type": "display_data",
          "data": {
            "text/plain": [
              "model-00002-of-00002.safetensors:   0%|          | 0.00/67.1M [00:00<?, ?B/s]"
            ],
            "application/vnd.jupyter.widget-view+json": {
              "version_major": 2,
              "version_minor": 0,
              "model_id": "e70fc1dfc8144fcda861660097809115"
            }
          },
          "metadata": {}
        },
        {
          "output_type": "display_data",
          "data": {
            "text/plain": [
              "Loading checkpoint shards:   0%|          | 0/2 [00:00<?, ?it/s]"
            ],
            "application/vnd.jupyter.widget-view+json": {
              "version_major": 2,
              "version_minor": 0,
              "model_id": "a4d4ca7be7cd481ca82c2b002c9554dc"
            }
          },
          "metadata": {}
        },
        {
          "output_type": "display_data",
          "data": {
            "text/plain": [
              "generation_config.json:   0%|          | 0.00/137 [00:00<?, ?B/s]"
            ],
            "application/vnd.jupyter.widget-view+json": {
              "version_major": 2,
              "version_minor": 0,
              "model_id": "60306200a9fc4c0ab91ce7acab5cdcc8"
            }
          },
          "metadata": {}
        }
      ]
    },
    {
      "cell_type": "code",
      "source": [
        "## Input to the model\n",
        "input_text = \"can you tell me why sky is blue.\"\n",
        "## Convert Input to Numerical ID using tokenizer class and pusing input to CUDA device\n",
        "input_ids = tokenizer(input_text, return_tensors=\"pt\").to(\"cuda\")"
      ],
      "metadata": {
        "execution": {
          "iopub.status.busy": "2024-03-02T16:32:55.493346Z",
          "iopub.execute_input": "2024-03-02T16:32:55.494123Z",
          "iopub.status.idle": "2024-03-02T16:32:55.499303Z",
          "shell.execute_reply.started": "2024-03-02T16:32:55.494087Z",
          "shell.execute_reply": "2024-03-02T16:32:55.498316Z"
        },
        "trusted": true,
        "id": "uP2mJfyGrRK1"
      },
      "execution_count": null,
      "outputs": []
    },
    {
      "cell_type": "code",
      "source": [
        "outputs = model.generate(**input_ids,max_new_tokens=200)\n",
        "print(tokenizer.decode(outputs[0]))"
      ],
      "metadata": {
        "execution": {
          "iopub.status.busy": "2024-03-02T16:32:57.939170Z",
          "iopub.execute_input": "2024-03-02T16:32:57.939552Z",
          "iopub.status.idle": "2024-03-02T16:33:04.479117Z",
          "shell.execute_reply.started": "2024-03-02T16:32:57.939521Z",
          "shell.execute_reply": "2024-03-02T16:33:04.478017Z"
        },
        "trusted": true,
        "colab": {
          "base_uri": "https://localhost:8080/"
        },
        "id": "9FukT6_erRK1",
        "outputId": "8cd8b29d-5d6d-4c08-e709-5b93ab7d0e9e"
      },
      "execution_count": null,
      "outputs": [
        {
          "output_type": "stream",
          "name": "stdout",
          "text": [
            "<bos>can you tell me why sky is blue.\n",
            "\n",
            "Answer:\n",
            "\n",
            "Step 1/2\n",
            "First, we need to understand that the sky is not actually blue. The sky is actually a combination of different colors, including blue, green, and red. The reason why the sky appears blue is because of the way our eyes and brains process light. When sunlight hits the atmosphere, it is scattered in all directions. This scattering of light is what gives the sky its blue color. The blue color is due to the scattering of blue light, which is scattered more than other colors of light. This is why the sky appears blue, even though it is not actually blue.\n",
            "\n",
            "Step 2/2\n",
            "Additionally, the atmosphere also affects the color of the sky. The higher the altitude, the more blue light is scattered, which makes the sky appear bluer. The lower the altitude, the more red light is scattered, which makes the sky appear redder. Overall, the sky appears blue because of the way our eyes and brains process light\n"
          ]
        }
      ]
    },
    {
      "cell_type": "code",
      "source": [
        "to_markdown(tokenizer.decode(outputs[0]))"
      ],
      "metadata": {
        "colab": {
          "base_uri": "https://localhost:8080/",
          "height": 219
        },
        "id": "JT6M3IL_0-Fd",
        "outputId": "669f5330-1646-4326-f439-7bfce2bc287b"
      },
      "execution_count": null,
      "outputs": [
        {
          "output_type": "execute_result",
          "data": {
            "text/plain": [
              "<IPython.core.display.Markdown object>"
            ],
            "text/markdown": "> <bos>can you tell me why sky is blue.\n> \n> Answer:\n> \n> Step 1/2\n> First, we need to understand that the sky is not actually blue. The sky is actually a combination of different colors, including blue, green, and red. The reason why the sky appears blue is because of the way our eyes and brains process light. When sunlight hits the atmosphere, it is scattered in all directions. This scattering of light is what gives the sky its blue color. The blue color is due to the scattering of blue light, which is scattered more than other colors of light. This is why the sky appears blue, even though it is not actually blue.\n> \n> Step 2/2\n> Additionally, the atmosphere also affects the color of the sky. The higher the altitude, the more blue light is scattered, which makes the sky appear bluer. The lower the altitude, the more red light is scattered, which makes the sky appear redder. Overall, the sky appears blue because of the way our eyes and brains process light"
          },
          "metadata": {},
          "execution_count": 9
        }
      ]
    },
    {
      "cell_type": "markdown",
      "source": [
        "## Using Hugging Face models with Langchain"
      ],
      "metadata": {
        "id": "wVOvNpDMrRK1"
      }
    },
    {
      "cell_type": "code",
      "source": [
        "from langchain_community.llms import HuggingFaceHub\n",
        "from langchain_community.llms.huggingface_pipeline import HuggingFacePipeline"
      ],
      "metadata": {
        "id": "FmWSy4SLrRK1"
      },
      "execution_count": null,
      "outputs": []
    },
    {
      "cell_type": "code",
      "source": [
        "from langchain_community.llms.huggingface_pipeline import HuggingFacePipeline\n",
        "from transformers import AutoModelForCausalLM, AutoTokenizer, pipeline\n",
        "\n",
        "pipe = pipeline(\"text-generation\", model=model, tokenizer=tokenizer, max_new_tokens=500)\n",
        "hf = HuggingFacePipeline(pipeline=pipe)"
      ],
      "metadata": {
        "execution": {
          "iopub.status.busy": "2024-03-02T16:59:36.573484Z",
          "iopub.execute_input": "2024-03-02T16:59:36.574319Z",
          "iopub.status.idle": "2024-03-02T16:59:37.210806Z",
          "shell.execute_reply.started": "2024-03-02T16:59:36.574284Z",
          "shell.execute_reply": "2024-03-02T16:59:37.209760Z"
        },
        "trusted": true,
        "id": "es2RwDVMrRK2"
      },
      "execution_count": null,
      "outputs": []
    },
    {
      "cell_type": "code",
      "source": [
        "pip install langchain langchain-cli --q"
      ],
      "metadata": {
        "execution": {
          "iopub.status.busy": "2024-03-02T16:39:12.154353Z",
          "iopub.execute_input": "2024-03-02T16:39:12.155024Z",
          "iopub.status.idle": "2024-03-02T16:39:26.281893Z",
          "shell.execute_reply.started": "2024-03-02T16:39:12.154993Z",
          "shell.execute_reply": "2024-03-02T16:39:26.280566Z"
        },
        "trusted": true,
        "colab": {
          "base_uri": "https://localhost:8080/"
        },
        "id": "6EhGZXRZrRK2",
        "outputId": "9c270d0f-f6c6-45cc-8413-308e347da0d5"
      },
      "execution_count": null,
      "outputs": [
        {
          "output_type": "stream",
          "name": "stdout",
          "text": [
            "\u001b[2K     \u001b[90m━━━━━━━━━━━━━━━━━━━━━━━━━━━━━━━━━━━━━━━━\u001b[0m \u001b[32m806.2/806.2 kB\u001b[0m \u001b[31m4.7 MB/s\u001b[0m eta \u001b[36m0:00:00\u001b[0m\n",
            "\u001b[2K     \u001b[90m━━━━━━━━━━━━━━━━━━━━━━━━━━━━━━━━━━━━━━━━\u001b[0m \u001b[32m41.5/41.5 kB\u001b[0m \u001b[31m5.4 MB/s\u001b[0m eta \u001b[36m0:00:00\u001b[0m\n",
            "\u001b[2K     \u001b[90m━━━━━━━━━━━━━━━━━━━━━━━━━━━━━━━━━━━━━━━━\u001b[0m \u001b[32m195.4/195.4 kB\u001b[0m \u001b[31m23.5 MB/s\u001b[0m eta \u001b[36m0:00:00\u001b[0m\n",
            "\u001b[2K     \u001b[90m━━━━━━━━━━━━━━━━━━━━━━━━━━━━━━━━━━━━━━━━\u001b[0m \u001b[32m513.9/513.9 kB\u001b[0m \u001b[31m31.9 MB/s\u001b[0m eta \u001b[36m0:00:00\u001b[0m\n",
            "\u001b[2K     \u001b[90m━━━━━━━━━━━━━━━━━━━━━━━━━━━━━━━━━━━━━━━━\u001b[0m \u001b[32m59.5/59.5 kB\u001b[0m \u001b[31m8.7 MB/s\u001b[0m eta \u001b[36m0:00:00\u001b[0m\n",
            "\u001b[2K     \u001b[90m━━━━━━━━━━━━━━━━━━━━━━━━━━━━━━━━━━━━━━━━\u001b[0m \u001b[32m62.7/62.7 kB\u001b[0m \u001b[31m8.8 MB/s\u001b[0m eta \u001b[36m0:00:00\u001b[0m\n",
            "\u001b[2K     \u001b[90m━━━━━━━━━━━━━━━━━━━━━━━━━━━━━━━━━━━━━━━━\u001b[0m \u001b[32m75.6/75.6 kB\u001b[0m \u001b[31m10.8 MB/s\u001b[0m eta \u001b[36m0:00:00\u001b[0m\n",
            "\u001b[2K     \u001b[90m━━━━━━━━━━━━━━━━━━━━━━━━━━━━━━━━━━━━━━━━\u001b[0m \u001b[32m92.1/92.1 kB\u001b[0m \u001b[31m12.1 MB/s\u001b[0m eta \u001b[36m0:00:00\u001b[0m\n",
            "\u001b[2K     \u001b[90m━━━━━━━━━━━━━━━━━━━━━━━━━━━━━━━━━━━━━━━━\u001b[0m \u001b[32m58.3/58.3 kB\u001b[0m \u001b[31m8.0 MB/s\u001b[0m eta \u001b[36m0:00:00\u001b[0m\n",
            "\u001b[2K     \u001b[90m━━━━━━━━━━━━━━━━━━━━━━━━━━━━━━━━━━━━━━━━\u001b[0m \u001b[32m71.5/71.5 kB\u001b[0m \u001b[31m10.7 MB/s\u001b[0m eta \u001b[36m0:00:00\u001b[0m\n",
            "\u001b[2K     \u001b[90m━━━━━━━━━━━━━━━━━━━━━━━━━━━━━━━━━━━━━━━━\u001b[0m \u001b[32m77.8/77.8 kB\u001b[0m \u001b[31m10.5 MB/s\u001b[0m eta \u001b[36m0:00:00\u001b[0m\n",
            "\u001b[?25h"
          ]
        }
      ]
    },
    {
      "cell_type": "code",
      "source": [
        "from langchain.prompts import PromptTemplate\n",
        "\n",
        "template = \"Answer me this Question: {question}\"\n",
        "\n",
        "prompt = PromptTemplate.from_template(template)\n",
        "\n",
        "chain = prompt | hf\n",
        "\n",
        "question = \"what is Machine learning  ?\"\n",
        "\n",
        "print(chain.invoke({\"question\": question}))"
      ],
      "metadata": {
        "execution": {
          "iopub.status.busy": "2024-03-02T17:01:11.895902Z",
          "iopub.execute_input": "2024-03-02T17:01:11.896329Z",
          "iopub.status.idle": "2024-03-02T17:01:54.601983Z",
          "shell.execute_reply.started": "2024-03-02T17:01:11.896298Z",
          "shell.execute_reply": "2024-03-02T17:01:54.600967Z"
        },
        "trusted": true,
        "colab": {
          "base_uri": "https://localhost:8080/"
        },
        "id": "-3_WRMKdrRK2",
        "outputId": "241ac7ab-d4fb-49e1-dbcb-3fb3dd4d8065"
      },
      "execution_count": null,
      "outputs": [
        {
          "output_type": "stream",
          "name": "stdout",
          "text": [
            "????????????????????????????????????????????????????????????????????????????????????????????????????????????????????????????????????????????????????????????????????????????????????????????????????????????????????????????????????????????????????????????????????????????????????????????????????????????????????????????????????????????????????????????????????????????????????????????????????????????????????????????????????????????????????????????????????????????????????????????????????????????????????\n"
          ]
        }
      ]
    },
    {
      "cell_type": "code",
      "source": [
        "## Loading Hugging face LLM using Hugging face Pipelines\n",
        "\n",
        "from langchain_community.llms.huggingface_pipeline import HuggingFacePipeline\n",
        "from transformers import AutoModelForCausalLM, AutoTokenizer, pipeline\n",
        "\n",
        "model_id = \"gpt2\"\n",
        "tokenizer = AutoTokenizer.from_pretrained(model_id,token=hugging_face_api_key)\n",
        "model = AutoModelForCausalLM.from_pretrained(model_id,token=hugging_face_api_key)\n",
        "pipe = pipeline(\"text-generation\", model=model, tokenizer=tokenizer, max_new_tokens=190)\n",
        "hf = HuggingFacePipeline(pipeline=pipe)"
      ],
      "metadata": {
        "id": "wtAk9W4mrRK2"
      },
      "execution_count": null,
      "outputs": []
    },
    {
      "cell_type": "code",
      "source": [
        "from langchain.prompts import PromptTemplate\n",
        "\n",
        "template = \"\"\"Question: {question}\n",
        "\n",
        "Answer: Let's think step by step.\"\"\"\n",
        "prompt = PromptTemplate.from_template(template)\n",
        "\n",
        "chain = prompt | hf\n",
        "\n",
        "question = \"What is electroencephalography?\"\n",
        "\n",
        "print(chain.invoke({\"question\": question}))"
      ],
      "metadata": {
        "colab": {
          "base_uri": "https://localhost:8080/"
        },
        "id": "idmf2L0M8sAS",
        "outputId": "1b466ac7-b273-4493-9259-1c656564e777"
      },
      "execution_count": null,
      "outputs": [
        {
          "output_type": "stream",
          "name": "stderr",
          "text": [
            "Setting `pad_token_id` to `eos_token_id`:50256 for open-end generation.\n"
          ]
        },
        {
          "output_type": "stream",
          "name": "stdout",
          "text": [
            "\n",
            "\n",
            "Step 1: Go and read\n",
            "\n",
            "Step 2: Reread\n",
            "\n",
            "Step 3: Start and finish to get you started\n",
            "\n",
            "The electroencephalography you will learn about it:\n",
            "\n",
            "The Electroencephalography and its Role in Memory and Creativity\n",
            "\n",
            "The Electroencephalography of Brain Types and Neurochemical Responses in Attention\n",
            "\n",
            "The Electroencephalography of the Visual System and the Motor Cortex\n",
            "\n",
            "The Electroencephalography of the Electrical Fields of Motor Cortex\n",
            "\n",
            "The Electroencephalography of Cells and Organisms in the Brain\n",
            "\n",
            "The Electroencephalography of the Brain Brain Structure and Functions\n",
            "\n",
            "Electroencephalography of the Electrical Field Functions\n",
            "\n",
            "Electroencephalographic Parameters and Neural Regions\n",
            "\n",
            "Electroencephalography of the Brain Brain Structure and Functions\n",
            "\n",
            "Electroencephalographic Properties and Functions in the Visual Domain\n",
            "\n",
            "Electroencephalographic Properties and\n"
          ]
        }
      ]
    },
    {
      "cell_type": "markdown",
      "source": [
        "## Langchain Practice"
      ],
      "metadata": {
        "id": "5OEeFKls94sV"
      }
    },
    {
      "cell_type": "code",
      "source": [
        "## Loading Hugging face LLM using Hugging face Hub\n",
        "\n",
        "from langchain import PromptTemplate, HuggingFaceHub, LLMChain\n",
        "\n",
        "# initialize HF LLM\n",
        "mistral = HuggingFaceHub(\n",
        "    repo_id=\"mistralai/Mixtral-8x7B-Instruct-v0.1\",\n",
        "    model_kwargs={\"temperature\":1e-10,\"max_new_tokens\":200},huggingfacehub_api_token=hugging_face_api_key\n",
        ")\n",
        "\n",
        "# build prompt template for simple question-answering\n",
        "template = \"\"\"Question: {question}\n",
        "\n",
        "Answer: \"\"\"\n",
        "prompt = PromptTemplate(template=template, input_variables=[\"question\"])\n",
        "\n",
        "llm_chain = LLMChain(prompt=prompt,llm=mistral)\n",
        "\n",
        "''' question = \"Can you tell me why sky is blue?\"\n",
        "\n",
        "print(llm_chain.run(question)) '''\n"
      ],
      "metadata": {
        "colab": {
          "base_uri": "https://localhost:8080/"
        },
        "id": "XUerOt2R96MQ",
        "outputId": "a21b93b9-1a67-407b-a693-f386949d2190"
      },
      "execution_count": null,
      "outputs": [
        {
          "output_type": "stream",
          "name": "stdout",
          "text": [
            "Question: Can you tell me why sky is blue?\n",
            "\n",
            "Answer: \n"
          ]
        }
      ]
    },
    {
      "cell_type": "code",
      "source": [
        "llm_chain.invoke(\"Can you tell me why sky is blue\")"
      ],
      "metadata": {
        "colab": {
          "base_uri": "https://localhost:8080/"
        },
        "id": "PTg2j0vGH-zt",
        "outputId": "068163d6-49a9-4b4c-b605-1adce1812379"
      },
      "execution_count": null,
      "outputs": [
        {
          "output_type": "execute_result",
          "data": {
            "text/plain": [
              "{'question': 'Can you tell me why sky is blue',\n",
              " 'text': 'Question: Can you tell me why sky is blue\\n\\nAnswer: '}"
            ]
          },
          "metadata": {},
          "execution_count": 42
        }
      ]
    },
    {
      "cell_type": "code",
      "source": [
        "## lets try Google Models for this purpose\n",
        "from langchain_google_genai import ChatGoogleGenerativeAI\n",
        "llm = ChatGoogleGenerativeAI(model=\"gemini-pro\",google_api_key=GOOGLE_API_KEY)\n",
        "\n",
        "result = llm.invoke(\"can you tell me why sky is blue\")"
      ],
      "metadata": {
        "id": "RyRkX_uk_Bn_"
      },
      "execution_count": null,
      "outputs": []
    },
    {
      "cell_type": "code",
      "source": [
        "to_markdown(result.content)"
      ],
      "metadata": {
        "colab": {
          "base_uri": "https://localhost:8080/",
          "height": 260
        },
        "id": "ihpbyYMEIRdt",
        "outputId": "e60d6155-00f6-46dc-8d09-bd4d9dd77d09"
      },
      "execution_count": null,
      "outputs": [
        {
          "output_type": "execute_result",
          "data": {
            "text/plain": [
              "<IPython.core.display.Markdown object>"
            ],
            "text/markdown": "> The sky appears blue due to a phenomenon called Rayleigh scattering. This scattering is caused by the interaction of sunlight with the molecules of nitrogen and oxygen in the Earth's atmosphere.\n> \n> When sunlight enters the atmosphere, it is made up of a spectrum of colors, ranging from violet to red. However, violet and blue light have shorter wavelengths than other colors, which means they are more easily scattered by the molecules in the atmosphere. This scattering is known as Rayleigh scattering.\n> \n> As sunlight travels through the atmosphere, the shorter wavelength blue light is scattered more than the longer wavelength red light. This means that more blue light reaches our eyes, giving the sky its characteristic blue color.\n> \n> The amount of scattering depends on the wavelength of the light and the size of the particles that are scattering it. The shorter the wavelength of the light, the more it is scattered. This is why the sky appears blue during the day, but can appear red or orange at sunrise and sunset.\n> \n> At sunrise and sunset, the sunlight has to travel through more of the atmosphere to reach our eyes. This means that more of the blue light is scattered away, leaving the longer wavelength red and orange light to reach our eyes."
          },
          "metadata": {},
          "execution_count": 44
        }
      ]
    },
    {
      "cell_type": "code",
      "source": [
        "template = \"\"\"Question: {question}\n",
        "\n",
        "Answer: \"\"\"\n",
        "prompt = PromptTemplate(template=template, input_variables=[\"question\"])\n",
        "\n",
        "llm_chain = LLMChain(prompt=prompt,llm=llm)\n",
        "question=\"Why sky is blue?\"\n",
        "print(llm_chain.run(question))"
      ],
      "metadata": {
        "colab": {
          "base_uri": "https://localhost:8080/"
        },
        "id": "Vhz-u1HdIV6d",
        "outputId": "65c9a6e1-db45-4bbc-f6fa-661dc1cc2403"
      },
      "execution_count": null,
      "outputs": [
        {
          "output_type": "stream",
          "name": "stdout",
          "text": [
            "The sky appears blue because of a phenomenon called Rayleigh scattering. Sunlight is composed of all the colors of the visible spectrum, but blue light has a shorter wavelength than other colors and is more easily scattered by the molecules in the Earth's atmosphere. When sunlight enters the atmosphere, the blue light is scattered in all directions, while the other colors of light are less affected and continue in a straight line. This scattered blue light reaches our eyes from all directions, making the sky appear blue.\n"
          ]
        }
      ]
    },
    {
      "cell_type": "markdown",
      "source": [
        "**The LangChain Expression Language (LCEL)**\n",
        "LangChain Expression Language, or LCEL, is a declarative way to easily compose chains together.\n",
        "\n",
        "It is an abstraction of some interesting Python concepts into a format that enables a \"minimalist\" code layer for building chains of LangChain components. LCEL comes with strong support for: Superfast development of chains."
      ],
      "metadata": {
        "id": "-r82bfGXJ3wq"
      }
    },
    {
      "cell_type": "code",
      "source": [
        "## Lets use LCEL in above code to build chains\n",
        "\n",
        "llm_chain = prompt | llm\n",
        "question=\"Why Humans are considered as Top Order Species in earth?\"\n",
        "to_markdown(llm_chain.invoke({\"question\":question}).content)"
      ],
      "metadata": {
        "colab": {
          "base_uri": "https://localhost:8080/",
          "height": 703
        },
        "id": "-w9ZnDQ2JF6E",
        "outputId": "ea050e4e-5fa4-4716-91c8-a8e6d603b6bf"
      },
      "execution_count": null,
      "outputs": [
        {
          "output_type": "execute_result",
          "data": {
            "text/plain": [
              "<IPython.core.display.Markdown object>"
            ],
            "text/markdown": "> **Reasons why humans are considered top order species on Earth:**\n> \n> **1. Cognitive Abilities:**\n> * Humans possess exceptional cognitive abilities, including advanced problem-solving, abstract reasoning, and language skills.\n> * These abilities allow them to adapt to diverse environments, innovate, and create complex societies.\n> \n> **2. Tool Use and Technology:**\n> * Humans have developed intricate tools and technologies that enhance their survival and influence over the environment.\n> * These advancements include weapons, machines, and communication devices that give them an advantage over other species.\n> \n> **3. Social Organization:**\n> * Humans live in highly organized societies with complex social structures and cooperation.\n> * This cooperation enables them to pool resources, share knowledge, and coordinate large-scale projects.\n> \n> **4. Population Size and Distribution:**\n> * Humans have a relatively large population size and are widely distributed across the globe.\n> * This gives them a significant ecological impact and the ability to shape ecosystems.\n> \n> **5. Resource Consumption:**\n> * Humans consume a vast amount of resources, including food, water, and energy.\n> * Their high consumption patterns can have a substantial impact on the environment and other species.\n> \n> **6. Habitat Modification:**\n> * Human activities have altered and fragmented habitats worldwide.\n> * They have built cities, cleared forests, and exploited natural resources, which has had profound effects on biodiversity.\n> \n> **7. Evolutionary Plasticity:**\n> * Humans have demonstrated remarkable evolutionary plasticity, adapting to a wide range of environmental conditions.\n> * This adaptability has allowed them to colonize diverse habitats and survive in challenging circumstances.\n> \n> **8. Ecological Influence:**\n> * Humans have become a dominant force in global ecosystems.\n> * Their actions can disrupt food chains, alter nutrient cycles, and drive changes in species composition.\n> \n> **9. Cultural and Symbolic Significance:**\n> * Humans create and transmit complex cultural and symbolic systems.\n> * These systems shape their values, beliefs, and interactions with the environment, further distinguishing them from other species.\n> \n> **10. Impact on the Planet:**\n> * Human activities have had a profound impact on the Earth's climate, atmosphere, and oceans.\n> * They are responsible for global warming, pollution, and biodiversity loss, which can have far-reaching consequences."
          },
          "metadata": {},
          "execution_count": 52
        }
      ]
    },
    {
      "cell_type": "code",
      "source": [
        "qs = [\n",
        "    {'question': \"Which NFL team won the Super Bowl in the 2010 season?\"},\n",
        "    {'question': \"If I am 6 ft 4 inches, how tall am I in centimeters?\"},\n",
        "    {'question': \"Who was the 12th person on the moon?\"},\n",
        "    {'question': \"How many eyes does a blade of grass have?\"}\n",
        "]\n",
        "res = chain.invoke({\"question\":qs})\n",
        "res"
      ],
      "metadata": {
        "colab": {
          "base_uri": "https://localhost:8080/",
          "height": 122
        },
        "id": "qYyKmfPSKYQE",
        "outputId": "ded79292-40b9-4502-e318-330dcc032b9a"
      },
      "execution_count": null,
      "outputs": [
        {
          "output_type": "stream",
          "name": "stderr",
          "text": [
            "Setting `pad_token_id` to `eos_token_id`:50256 for open-end generation.\n"
          ]
        },
        {
          "output_type": "execute_result",
          "data": {
            "text/plain": [
              "' The \\'yes\\' of the statement is: How tall am I in centimeters? And the \\'no\\' is: Is my height in centimeters?\\n\\nI don\\'t think it is clear if someone is asking these questions because of age or not.\\n\\nThere\\'s a bunch of different factors that can affect height.\\n\\nAge\\n\\nA player\\'s height is important (and often misunderstood) since it determines the success of an athlete.\\n\\nIt doesn\\'t matter if you know who you are — like if you are 4\\' 1\" or 5\\' 2\" tall — and have an adult height of 5\\' 2\" or 5\\' 1\". There is one question that is quite obvious: \"Do you really think you should be taller in basketball?\"\\n\\nNo one knows for sure. It\\'s important to have a lot of data to know what you can expect from other teams, so you can see some pretty big differences of what'"
            ],
            "application/vnd.google.colaboratory.intrinsic+json": {
              "type": "string"
            }
          },
          "metadata": {},
          "execution_count": 55
        }
      ]
    },
    {
      "cell_type": "code",
      "source": [
        "to_markdown(res)"
      ],
      "metadata": {
        "colab": {
          "base_uri": "https://localhost:8080/",
          "height": 237
        },
        "id": "g1dMfeyfLQ4E",
        "outputId": "06eb0582-ef43-45cf-cacb-a357689259ad"
      },
      "execution_count": null,
      "outputs": [
        {
          "output_type": "execute_result",
          "data": {
            "text/plain": [
              "<IPython.core.display.Markdown object>"
            ],
            "text/markdown": ">  The 'yes' of the statement is: How tall am I in centimeters? And the 'no' is: Is my height in centimeters?\n> \n> I don't think it is clear if someone is asking these questions because of age or not.\n> \n> There's a bunch of different factors that can affect height.\n> \n> Age\n> \n> A player's height is important (and often misunderstood) since it determines the success of an athlete.\n> \n> It doesn't matter if you know who you are — like if you are 4' 1\" or 5' 2\" tall — and have an adult height of 5' 2\" or 5' 1\". There is one question that is quite obvious: \"Do you really think you should be taller in basketball?\"\n> \n> No one knows for sure. It's important to have a lot of data to know what you can expect from other teams, so you can see some pretty big differences of what"
          },
          "metadata": {},
          "execution_count": 56
        }
      ]
    },
    {
      "cell_type": "code",
      "source": [
        "multi_template = \"\"\"Answer the following questions one at a time.\n",
        "\n",
        "Questions:\n",
        "{questions}\n",
        "\n",
        "Answers:\n",
        "\"\"\"\n",
        "long_prompt = PromptTemplate(template=multi_template,input_variables=[\"questions\"])\n",
        "\n",
        "llm_chain = long_prompt | llm\n",
        "\n",
        "qs_str = (\n",
        "    \"Which NFL team won the Super Bowl in the 2010 season?\\n\" +\n",
        "    \"If I am 6 ft 4 inches, how tall am I in centimeters?\\n\" +\n",
        "    \"Who was the 12th person on the moon?\" +\n",
        "    \"How many eyes does a blade of grass have?\")\n",
        "\n",
        "print(llm_chain.invoke({\"questions\":qs_str}).content)"
      ],
      "metadata": {
        "colab": {
          "base_uri": "https://localhost:8080/"
        },
        "id": "O3XCI2y2L6cK",
        "outputId": "ce46687f-a3b6-49dd-b65f-4fbb8d8c7dc3"
      },
      "execution_count": null,
      "outputs": [
        {
          "output_type": "stream",
          "name": "stdout",
          "text": [
            "1. New Orleans Saints\n",
            "2. 193 centimeters\n",
            "3. Alan Bean\n",
            "4. Blades of grass do not have eyes.\n"
          ]
        }
      ]
    },
    {
      "cell_type": "code",
      "source": [
        "### Few Shot Training\n",
        "llm = GoogleGenerativeAI(model=\"gemini-pro\", google_api_key=GOOGLE_API_KEY)\n",
        "llm.temperature = 1.0\n",
        "\n",
        "prompt = \"\"\"The following are exerpts from conversations with an AI\n",
        "assistant. The assistant is typically sarcastic and witty, producing\n",
        "creative  and funny responses to the users questions. Here are some\n",
        "examples:\n",
        "\n",
        "User: How are you?\n",
        "AI: I can't complain but sometimes I still do.\n",
        "\n",
        "User: What time is it?\n",
        "AI: It's time to get a watch.\n",
        "\n",
        "User: What is the meaning of life?\n",
        "AI: \"\"\"\n"
      ],
      "metadata": {
        "id": "mmJGs1LsO5zv"
      },
      "execution_count": null,
      "outputs": []
    },
    {
      "cell_type": "code",
      "source": [
        "to_markdown(llm.invoke(prompt))"
      ],
      "metadata": {
        "colab": {
          "base_uri": "https://localhost:8080/",
          "height": 62
        },
        "id": "3OiHA3iB-VZH",
        "outputId": "6b1076bc-16b7-4a78-e67f-46702d5932ec"
      },
      "execution_count": null,
      "outputs": [
        {
          "output_type": "execute_result",
          "data": {
            "text/plain": [
              "<IPython.core.display.Markdown object>"
            ],
            "text/markdown": "> 42"
          },
          "metadata": {},
          "execution_count": 11
        }
      ]
    },
    {
      "cell_type": "code",
      "source": [
        "pip install langchain langchain-core -q"
      ],
      "metadata": {
        "colab": {
          "base_uri": "https://localhost:8080/"
        },
        "id": "hE9aSPM8_Bik",
        "outputId": "eb2c9864-d665-4f5c-ae53-abd2e2ab37e0"
      },
      "execution_count": 6,
      "outputs": [
        {
          "output_type": "stream",
          "name": "stdout",
          "text": [
            "\u001b[?25l     \u001b[90m━━━━━━━━━━━━━━━━━━━━━━━━━━━━━━━━━━━━━━━━\u001b[0m \u001b[32m0.0/806.2 kB\u001b[0m \u001b[31m?\u001b[0m eta \u001b[36m-:--:--\u001b[0m\r\u001b[2K     \u001b[91m━━━━━━━━━━━━\u001b[0m\u001b[91m╸\u001b[0m\u001b[90m━━━━━━━━━━━━━━━━━━━━━━━━━━━\u001b[0m \u001b[32m256.0/806.2 kB\u001b[0m \u001b[31m7.6 MB/s\u001b[0m eta \u001b[36m0:00:01\u001b[0m\r\u001b[2K     \u001b[91m━━━━━━━━━━━━━━━━━━━━━━━━━━━━━━━━━━━━━━\u001b[0m\u001b[90m╺\u001b[0m\u001b[90m━\u001b[0m \u001b[32m768.0/806.2 kB\u001b[0m \u001b[31m11.1 MB/s\u001b[0m eta \u001b[36m0:00:01\u001b[0m\r\u001b[2K     \u001b[90m━━━━━━━━━━━━━━━━━━━━━━━━━━━━━━━━━━━━━━━━\u001b[0m \u001b[32m806.2/806.2 kB\u001b[0m \u001b[31m9.5 MB/s\u001b[0m eta \u001b[36m0:00:00\u001b[0m\n",
            "\u001b[2K     \u001b[90m━━━━━━━━━━━━━━━━━━━━━━━━━━━━━━━━━━━━━━━━\u001b[0m \u001b[32m252.4/252.4 kB\u001b[0m \u001b[31m10.9 MB/s\u001b[0m eta \u001b[36m0:00:00\u001b[0m\n",
            "\u001b[2K     \u001b[90m━━━━━━━━━━━━━━━━━━━━━━━━━━━━━━━━━━━━━━━━\u001b[0m \u001b[32m1.8/1.8 MB\u001b[0m \u001b[31m17.3 MB/s\u001b[0m eta \u001b[36m0:00:00\u001b[0m\n",
            "\u001b[2K     \u001b[90m━━━━━━━━━━━━━━━━━━━━━━━━━━━━━━━━━━━━━━━━\u001b[0m \u001b[32m64.2/64.2 kB\u001b[0m \u001b[31m6.2 MB/s\u001b[0m eta \u001b[36m0:00:00\u001b[0m\n",
            "\u001b[2K     \u001b[90m━━━━━━━━━━━━━━━━━━━━━━━━━━━━━━━━━━━━━━━━\u001b[0m \u001b[32m49.4/49.4 kB\u001b[0m \u001b[31m5.1 MB/s\u001b[0m eta \u001b[36m0:00:00\u001b[0m\n",
            "\u001b[2K     \u001b[90m━━━━━━━━━━━━━━━━━━━━━━━━━━━━━━━━━━━━━━━━\u001b[0m \u001b[32m138.5/138.5 kB\u001b[0m \u001b[31m10.0 MB/s\u001b[0m eta \u001b[36m0:00:00\u001b[0m\n",
            "\u001b[?25h"
          ]
        }
      ]
    },
    {
      "cell_type": "code",
      "source": [
        "## Few shot template by langchain\n",
        "\n",
        "from langchain import FewShotPromptTemplate\n",
        "from langchain import PromptTemplate, HuggingFaceHub, LLMChain\n",
        "\n",
        "# create our examples\n",
        "examples = [\n",
        "    {\n",
        "        \"query\": \"How are you?\",\n",
        "        \"answer\": \"I can't complain but sometimes I still do.\"\n",
        "    }, {\n",
        "        \"query\": \"What time is it?\",\n",
        "        \"answer\": \"It's time to get a watch.\"\n",
        "    }\n",
        "]\n",
        "\n",
        "# create a example template\n",
        "example_template = \"\"\"\n",
        "User: {query}\n",
        "AI: {answer}\n",
        "\"\"\"\n",
        "\n",
        "# create a prompt example from above template\n",
        "example_prompt = PromptTemplate(\n",
        "    input_variables=[\"query\", \"answer\"],\n",
        "    template=example_template\n",
        ")\n",
        "\n",
        "# now break our previous prompt into a prefix and suffix\n",
        "# the prefix is our instructions\n",
        "prefix = \"\"\"The following are exerpts from conversations with an AI\n",
        "assistant. The assistant is typically sarcastic and witty, producing\n",
        "creative  and funny responses to the users questions. Here are some\n",
        "examples:\n",
        "\"\"\"\n",
        "# and the suffix our user input and output indicator\n",
        "suffix = \"\"\"\n",
        "User: {query}\n",
        "AI: \"\"\"\n",
        "\n",
        "# now create the few shot prompt template\n",
        "few_shot_prompt_template = FewShotPromptTemplate(\n",
        "    examples=examples,\n",
        "    example_prompt=example_prompt,\n",
        "    prefix=prefix,\n",
        "    suffix=suffix,\n",
        "    input_variables=[\"query\"],\n",
        "    example_separator=\"\\n\\n\"\n",
        ")\n",
        "\n",
        "\n",
        "query = \"What is the meaning of life?\"\n",
        "\n",
        "print(few_shot_prompt_template.format(query=query))"
      ],
      "metadata": {
        "colab": {
          "base_uri": "https://localhost:8080/"
        },
        "id": "im6sSuoM-WPd",
        "outputId": "2860bcdb-e798-438d-a8ca-ffb8a9474914"
      },
      "execution_count": null,
      "outputs": [
        {
          "output_type": "stream",
          "name": "stdout",
          "text": [
            "The following are exerpts from conversations with an AI\n",
            "assistant. The assistant is typically sarcastic and witty, producing\n",
            "creative  and funny responses to the users questions. Here are some\n",
            "examples: \n",
            "\n",
            "\n",
            "\n",
            "User: How are you?\n",
            "AI: I can't complain but sometimes I still do.\n",
            "\n",
            "\n",
            "\n",
            "User: What time is it?\n",
            "AI: It's time to get a watch.\n",
            "\n",
            "\n",
            "\n",
            "User: What is the meaning of life?\n",
            "AI: \n"
          ]
        }
      ]
    },
    {
      "cell_type": "code",
      "source": [
        "to_markdown(llm.invoke(few_shot_prompt_template.format(query=query)))"
      ],
      "metadata": {
        "colab": {
          "base_uri": "https://localhost:8080/",
          "height": 62
        },
        "id": "oJnZPEc5-_NU",
        "outputId": "a8c4f11f-3be8-4987-de28-e864602ce39e"
      },
      "execution_count": null,
      "outputs": [
        {
          "output_type": "execute_result",
          "data": {
            "text/plain": [
              "<IPython.core.display.Markdown object>"
            ],
            "text/markdown": "> 42"
          },
          "metadata": {},
          "execution_count": 16
        }
      ]
    },
    {
      "cell_type": "code",
      "source": [
        "import inspect\n",
        "import re\n",
        "\n",
        "from getpass import getpass\n",
        "from langchain import OpenAI, PromptTemplate\n",
        "from langchain.chains import LLMChain, LLMMathChain, TransformChain, SequentialChain\n",
        "from langchain.callbacks import get_openai_callback\n",
        "\n",
        "def count_tokens(chain, query):\n",
        "    with get_openai_callback() as cb:\n",
        "        result = chain.invoke(query)\n",
        "        print(f'Spent a total of {cb.total_tokens} tokens')\n",
        "\n",
        "    return result\n",
        "\n",
        "llm_math = LLMMathChain(llm=llm, verbose=True)\n",
        "\n",
        "count_tokens(llm_math, \"What is 13 raised to the .3432 power?\")"
      ],
      "metadata": {
        "colab": {
          "base_uri": "https://localhost:8080/"
        },
        "id": "OqCEKbqS_clU",
        "outputId": "7f558f32-bf43-4504-d46c-e4a7de6ceaf9"
      },
      "execution_count": null,
      "outputs": [
        {
          "output_type": "stream",
          "name": "stderr",
          "text": [
            "/usr/local/lib/python3.10/dist-packages/langchain/chains/llm_math/base.py:57: UserWarning: Directly instantiating an LLMMathChain with an llm is deprecated. Please instantiate with llm_chain argument or using the from_llm class method.\n",
            "  warnings.warn(\n"
          ]
        },
        {
          "output_type": "stream",
          "name": "stdout",
          "text": [
            "\n",
            "\n",
            "\u001b[1m> Entering new LLMMathChain chain...\u001b[0m\n",
            "What is 13 raised to the .3432 power?\u001b[32;1m\u001b[1;3m```text\n",
            "13**0.3432\n",
            "```\n",
            "...numexpr.evaluate(\"13**0.3432\")...\n",
            "\u001b[0m\n",
            "Answer: \u001b[33;1m\u001b[1;3m2.4116004626599237\u001b[0m\n",
            "\u001b[1m> Finished chain.\u001b[0m\n",
            "Spent a total of 0 tokens\n"
          ]
        },
        {
          "output_type": "execute_result",
          "data": {
            "text/plain": [
              "{'question': 'What is 13 raised to the .3432 power?',\n",
              " 'answer': 'Answer: 2.4116004626599237'}"
            ]
          },
          "metadata": {},
          "execution_count": 20
        }
      ]
    },
    {
      "cell_type": "code",
      "source": [
        "to_markdown(llm_math.prompt.template)"
      ],
      "metadata": {
        "colab": {
          "base_uri": "https://localhost:8080/",
          "height": 483
        },
        "id": "iBdJuvbbBQXF",
        "outputId": "a5dae4b7-56c9-4189-ac8c-eff2d8779c1e"
      },
      "execution_count": null,
      "outputs": [
        {
          "output_type": "execute_result",
          "data": {
            "text/plain": [
              "<IPython.core.display.Markdown object>"
            ],
            "text/markdown": "> Translate a math problem into a expression that can be executed using Python's numexpr library. Use the output of running this code to answer the question.\n> \n> Question: ${{Question with math problem.}}\n> ```text\n> ${{single line mathematical expression that solves the problem}}\n> ```\n> ...numexpr.evaluate(text)...\n> ```output\n> ${{Output of running the code}}\n> ```\n> Answer: ${{Answer}}\n> \n> Begin.\n> \n> Question: What is 37593 * 67?\n> ```text\n> 37593 * 67\n> ```\n> ...numexpr.evaluate(\"37593 * 67\")...\n> ```output\n> 2518731\n> ```\n> Answer: 2518731\n> \n> Question: 37593^(1/5)\n> ```text\n> 37593**(1/5)\n> ```\n> ...numexpr.evaluate(\"37593**(1/5)\")...\n> ```output\n> 8.222831614237718\n> ```\n> Answer: 8.222831614237718\n> \n> Question: {question}\n"
          },
          "metadata": {},
          "execution_count": 22
        }
      ]
    },
    {
      "cell_type": "code",
      "source": [
        "print(inspect.getsource(llm_math._call))"
      ],
      "metadata": {
        "colab": {
          "base_uri": "https://localhost:8080/"
        },
        "id": "gtvwNFDqBcCM",
        "outputId": "21bb2df8-2c76-46ba-d02e-9cd1762cdd64"
      },
      "execution_count": null,
      "outputs": [
        {
          "output_type": "stream",
          "name": "stdout",
          "text": [
            "    def _call(\n",
            "        self,\n",
            "        inputs: Dict[str, str],\n",
            "        run_manager: Optional[CallbackManagerForChainRun] = None,\n",
            "    ) -> Dict[str, str]:\n",
            "        _run_manager = run_manager or CallbackManagerForChainRun.get_noop_manager()\n",
            "        _run_manager.on_text(inputs[self.input_key])\n",
            "        llm_output = self.llm_chain.predict(\n",
            "            question=inputs[self.input_key],\n",
            "            stop=[\"```output\"],\n",
            "            callbacks=_run_manager.get_child(),\n",
            "        )\n",
            "        return self._process_llm_result(llm_output, _run_manager)\n",
            "\n"
          ]
        }
      ]
    },
    {
      "cell_type": "code",
      "source": [
        "%pip install --upgrade --quiet  langchain-google-genai pillow"
      ],
      "metadata": {
        "colab": {
          "base_uri": "https://localhost:8080/"
        },
        "id": "prfAyoh5za1A",
        "outputId": "2a4e46e8-b296-4be1-ef56-5ffd40a72ee6"
      },
      "execution_count": 13,
      "outputs": [
        {
          "output_type": "stream",
          "name": "stdout",
          "text": [
            "\u001b[2K     \u001b[90m━━━━━━━━━━━━━━━━━━━━━━━━━━━━━━━━━━━━━━━━\u001b[0m \u001b[32m4.5/4.5 MB\u001b[0m \u001b[31m12.2 MB/s\u001b[0m eta \u001b[36m0:00:00\u001b[0m\n",
            "\u001b[?25h\u001b[31mERROR: pip's dependency resolver does not currently take into account all the packages that are installed. This behaviour is the source of the following dependency conflicts.\n",
            "imageio 2.31.6 requires pillow<10.1.0,>=8.3.2, but you have pillow 10.2.0 which is incompatible.\u001b[0m\u001b[31m\n",
            "\u001b[0m"
          ]
        }
      ]
    },
    {
      "cell_type": "code",
      "source": [
        "# we set the prompt to only have the question we ask\n",
        "from langchain_core.prompts import ChatPromptTemplate\n",
        "from langchain_core.output_parsers import StrOutputParser\n",
        "from langchain_google_genai import ChatGoogleGenerativeAI\n",
        "\n",
        "\n",
        "prompt = ChatPromptTemplate.from_messages([\n",
        "    (\"system\", \"You are a helpful assistant. Please respond to the user's request.\"),\n",
        "    (\"user\", \"Question: {question}\")\n",
        "])\n",
        "model =ChatGoogleGenerativeAI(model=\"gemini-pro\", google_api_key=GOOGLE_API_KEY,convert_system_message_to_human=True)\n",
        "\n",
        "output_parser = StrOutputParser()\n",
        "\n",
        "chain = prompt | model | output_parser\n",
        "\n",
        "question = \"Can you tell me how hydrogen and oxygen molecules form water\"\n"
      ],
      "metadata": {
        "id": "69EirmnpAnTE",
        "colab": {
          "base_uri": "https://localhost:8080/",
          "height": 140
        },
        "outputId": "e819921f-5824-427a-f015-e31339e24f14"
      },
      "execution_count": 23,
      "outputs": [
        {
          "output_type": "execute_result",
          "data": {
            "text/plain": [
              "'**Formation of Water Molecules from Hydrogen and Oxygen:**\\n\\nWhen hydrogen (H2) and oxygen (O2) molecules interact, they undergo a chemical reaction to form water (H2O). This process is known as combustion or oxidation.\\n\\n**Steps Involved:**\\n\\n1. **Bond Breaking:** The H-H and O=O bonds in the hydrogen and oxygen molecules break, respectively, forming individual hydrogen (H) and oxygen (O) atoms.\\n\\n2. **Formation of Hydrogen-Oxygen Bonds:** The hydrogen atoms bond with the oxygen atoms, forming two O-H bonds.\\n\\n3. **Molecular Arrangement:** The two O-H bonds connect to the central oxygen atom, forming a bent or V-shaped water molecule (H2O).\\n\\n**Chemical Equation:**\\n\\n```\\n2H2 + O2 → 2H2O\\n```\\n\\n**Factors Affecting the Reaction:**\\n\\n* **Temperature:** Higher temperatures promote the reaction rate.\\n* **Concentration:** Increasing the concentrations of hydrogen and oxygen increases the reaction rate.\\n* **Catalyst:** A catalyst, such as platinum or palladium, can speed up the reaction by providing a surface for the molecules to interact.\\n* **Light:** Ultraviolet light can initiate the reaction, especially in the presence of water vapor.\\n\\n**Significance:**\\n\\nThe formation of water is a crucial process in various natural and industrial applications, including:\\n\\n* **Biological Processes:** Water is essential for all known life forms.\\n* **Combustion:** The burning of fuels, such as natural gas and gasoline, releases water as a byproduct.\\n* **Industrial Processes:** Water is used as a solvent, coolant, and reactant in various chemical and manufacturing processes.'"
            ],
            "application/vnd.google.colaboratory.intrinsic+json": {
              "type": "string"
            }
          },
          "metadata": {},
          "execution_count": 23
        }
      ]
    },
    {
      "cell_type": "code",
      "source": [
        "to_markdown(chain.invoke({\"question\": question}))"
      ],
      "metadata": {
        "colab": {
          "base_uri": "https://localhost:8080/",
          "height": 407
        },
        "id": "OZejrC__2WAC",
        "outputId": "e8d83957-163b-4f14-daed-b39f0451cea4"
      },
      "execution_count": 24,
      "outputs": [
        {
          "output_type": "execute_result",
          "data": {
            "text/plain": [
              "<IPython.core.display.Markdown object>"
            ],
            "text/markdown": "> **Formation of Water Molecules from Hydrogen and Oxygen Molecules:**\n> \n> 1. **Dissociation:** Two hydrogen molecules (H2) and one oxygen molecule (O2) break apart into their constituent atoms:\n> \n> ```\n> 2H2 -> 4H\n> O2 -> 2O\n> ```\n> \n> 2. **Bond Formation:** The individual hydrogen and oxygen atoms combine to form water molecules (H2O):\n> \n> ```\n> 2H + O -> H2O\n> ```\n> \n> 3. **Covalent Bond:** The hydrogen and oxygen atoms share electrons to form covalent bonds. Each hydrogen atom shares one electron with the oxygen atom, resulting in a single bond between each hydrogen and oxygen atom.\n> \n> **Chemical Equation:**\n> \n> ```\n> 2H2 + O2 -> 2H2O\n> ```\n> \n> **Explanation:**\n> \n> * The reaction requires two molecules of hydrogen and one molecule of oxygen.\n> * The hydrogen atoms first dissociate into individual atoms, and the oxygen molecule also dissociates.\n> * The hydrogen and oxygen atoms then combine to form water molecules.\n> * The water molecules are held together by covalent bonds, where each hydrogen atom shares one electron with the oxygen atom."
          },
          "metadata": {},
          "execution_count": 24
        }
      ]
    },
    {
      "cell_type": "code",
      "source": [],
      "metadata": {
        "id": "GsE7OW-u2lrS"
      },
      "execution_count": null,
      "outputs": []
    }
  ]
}